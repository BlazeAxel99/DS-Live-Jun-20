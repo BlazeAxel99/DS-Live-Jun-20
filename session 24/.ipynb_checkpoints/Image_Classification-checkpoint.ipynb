{
 "cells": [
  {
   "cell_type": "code",
   "execution_count": 1,
   "metadata": {
    "colab": {
     "base_uri": "https://localhost:8080/",
     "height": 377
    },
    "colab_type": "code",
    "id": "HVoiHA71vdCx",
    "outputId": "435d4ce7-fe2f-4ca5-ed06-70df147019bc"
   },
   "outputs": [
    {
     "name": "stdout",
     "output_type": "stream",
     "text": [
      "--2020-07-15 14:02:27--  https://www.dropbox.com/sh/3st0m56ysutsr90/AAB-193KAr7qhFrwbwBENjPNa?dl=0\n",
      "Resolving www.dropbox.com (www.dropbox.com)... 162.125.82.1, 2620:100:6032:1::a27d:5201\n",
      "Connecting to www.dropbox.com (www.dropbox.com)|162.125.82.1|:443... connected.\n",
      "HTTP request sent, awaiting response... 301 Moved Permanently\n",
      "Location: /sh/raw/3st0m56ysutsr90/AAB-193KAr7qhFrwbwBENjPNa [following]\n",
      "--2020-07-15 14:02:27--  https://www.dropbox.com/sh/raw/3st0m56ysutsr90/AAB-193KAr7qhFrwbwBENjPNa\n",
      "Reusing existing connection to www.dropbox.com:443.\n",
      "HTTP request sent, awaiting response... 302 Found\n",
      "Location: https://uc9636674d76e4960056f8547773.dl.dropboxusercontent.com/zip_download_get/Ae_sayiEghR1hp1tjFYGMsWho9X0cZ-ScQueGXWp-qlwm_cynauxX-cHCHvwHdLpDTHb0BWbVs-QNanImcOKDgxpXlrpdi1k0Cs_mRgMnOr_iw [following]\n",
      "--2020-07-15 14:02:29--  https://uc9636674d76e4960056f8547773.dl.dropboxusercontent.com/zip_download_get/Ae_sayiEghR1hp1tjFYGMsWho9X0cZ-ScQueGXWp-qlwm_cynauxX-cHCHvwHdLpDTHb0BWbVs-QNanImcOKDgxpXlrpdi1k0Cs_mRgMnOr_iw\n",
      "Resolving uc9636674d76e4960056f8547773.dl.dropboxusercontent.com (uc9636674d76e4960056f8547773.dl.dropboxusercontent.com)... 162.125.82.15, 2620:100:6032:15::a27d:520f\n",
      "Connecting to uc9636674d76e4960056f8547773.dl.dropboxusercontent.com (uc9636674d76e4960056f8547773.dl.dropboxusercontent.com)|162.125.82.15|:443... connected.\n",
      "HTTP request sent, awaiting response... 200 OK\n",
      "Length: 20859450 (20M) [application/zip]\n",
      "Saving to: ‘AAB-193KAr7qhFrwbwBENjPNa?dl=0’\n",
      "\n",
      "AAB-193KAr7qhFrwbwB 100%[===================>]  19.89M   362KB/s    in 68s     \n",
      "\n",
      "2020-07-15 14:03:38 (298 KB/s) - ‘AAB-193KAr7qhFrwbwBENjPNa?dl=0’ saved [20859450/20859450]\n",
      "\n"
     ]
    }
   ],
   "source": [
    "!wget \"https://www.dropbox.com/sh/3st0m56ysutsr90/AAB-193KAr7qhFrwbwBENjPNa?dl=0\""
   ]
  },
  {
   "cell_type": "code",
   "execution_count": 2,
   "metadata": {
    "colab": {},
    "colab_type": "code",
    "id": "0gQdQjwUyKmy"
   },
   "outputs": [],
   "source": [
    "! mkdir images"
   ]
  },
  {
   "cell_type": "code",
   "execution_count": 3,
   "metadata": {
    "colab": {
     "base_uri": "https://localhost:8080/",
     "height": 1000
    },
    "colab_type": "code",
    "id": "7ELCrg7QwJcn",
    "outputId": "e5ab1051-c4f0-4967-eae5-68e8612664cb"
   },
   "outputs": [
    {
     "name": "stdout",
     "output_type": "stream",
     "text": [
      "Archive:  AAB-193KAr7qhFrwbwBENjPNa?dl=0\n",
      "warning:  stripped absolute path spec from /\n",
      "mapname:  conversion of  failed\n",
      "   creating: images/cats/\n",
      "   creating: images/dogs/\n",
      "   creating: images/humans/\n",
      "   creating: images/horses/\n",
      " extracting: images/dogs/dog.3.jpg   \n",
      " extracting: images/cats/cat.3.jpg   \n",
      " extracting: images/dogs/dog.9.jpg   \n",
      " extracting: images/cats/cat.6.jpg   \n",
      " extracting: images/dogs/dog.4.jpg   \n",
      " extracting: images/cats/cat.8.jpg   \n",
      " extracting: images/dogs/dog.5.jpg   \n",
      " extracting: images/cats/cat.7.jpg   \n",
      " extracting: images/dogs/dog.2.jpg   \n",
      " extracting: images/dogs/dog.8.jpg   \n",
      " extracting: images/cats/cat.5.jpg   \n",
      " extracting: images/dogs/dog.7.jpg   \n",
      " extracting: images/cats/cat.2.jpg   \n",
      " extracting: images/dogs/dog.1.jpg   \n",
      " extracting: images/cats/cat.4.jpg   \n",
      " extracting: images/cats/cat.1.jpg   \n",
      " extracting: images/dogs/dog.6.jpg   \n",
      " extracting: images/cats/cat.9.jpg   \n",
      " extracting: images/dogs/dog.57.jpg  \n",
      " extracting: images/cats/cat.15.jpg  \n",
      " extracting: images/dogs/dog.76.jpg  \n",
      " extracting: images/cats/cat.22.jpg  \n",
      " extracting: images/cats/cat.12.jpg  \n",
      " extracting: images/cats/cat.70.jpg  \n",
      " extracting: images/dogs/dog.80.jpg  \n",
      " extracting: images/dogs/dog.69.jpg  \n",
      " extracting: images/cats/cat.31.jpg  \n",
      " extracting: images/dogs/dog.62.jpg  \n",
      " extracting: images/dogs/dog.54.jpg  \n",
      " extracting: images/dogs/dog.97.jpg  \n",
      " extracting: images/cats/cat.86.jpg  \n",
      " extracting: images/cats/cat.63.jpg  \n",
      " extracting: images/dogs/dog.88.jpg  \n",
      " extracting: images/dogs/dog.58.jpg  \n",
      " extracting: images/cats/cat.74.jpg  \n",
      " extracting: images/dogs/dog.24.jpg  \n",
      " extracting: images/cats/cat.76.jpg  \n",
      " extracting: images/dogs/dog.61.jpg  \n",
      " extracting: images/dogs/dog.41.jpg  \n",
      " extracting: images/dogs/dog.12.jpg  \n",
      " extracting: images/cats/cat.53.jpg  \n",
      " extracting: images/dogs/dog.82.jpg  \n",
      " extracting: images/dogs/dog.31.jpg  \n",
      " extracting: images/dogs/dog.86.jpg  \n",
      " extracting: images/dogs/dog.18.jpg  \n",
      " extracting: images/cats/cat.18.jpg  \n",
      " extracting: images/cats/cat.43.jpg  \n",
      " extracting: images/dogs/dog.70.jpg  \n",
      " extracting: images/dogs/dog.38.jpg  \n",
      " extracting: images/dogs/dog.60.jpg  \n",
      " extracting: images/dogs/dog.29.jpg  \n",
      " extracting: images/cats/cat.91.jpg  \n",
      " extracting: images/dogs/dog.14.jpg  \n",
      " extracting: images/cats/cat.79.jpg  \n",
      " extracting: images/dogs/dog.59.jpg  \n",
      " extracting: images/dogs/dog.77.jpg  \n",
      " extracting: images/cats/cat.36.jpg  \n",
      " extracting: images/cats/cat.13.jpg  \n",
      " extracting: images/cats/cat.21.jpg  \n",
      " extracting: images/dogs/dog.22.jpg  \n",
      " extracting: images/dogs/dog.45.jpg  \n",
      " extracting: images/dogs/dog.32.jpg  \n",
      " extracting: images/dogs/dog.92.jpg  \n",
      " extracting: images/dogs/dog.87.jpg  \n",
      " extracting: images/cats/cat.23.jpg  \n",
      " extracting: images/cats/cat.95.jpg  \n",
      " extracting: images/dogs/dog.93.jpg  \n",
      " extracting: images/dogs/dog.96.jpg  \n",
      " extracting: images/dogs/dog.65.jpg  \n",
      " extracting: images/cats/cat.73.jpg  \n",
      " extracting: images/dogs/dog.25.jpg  \n",
      " extracting: images/dogs/dog.48.jpg  \n",
      " extracting: images/cats/cat.47.jpg  \n",
      " extracting: images/cats/cat.69.jpg  \n",
      " extracting: images/cats/cat.68.jpg  \n",
      " extracting: images/cats/cat.54.jpg  \n",
      " extracting: images/cats/cat.19.jpg  \n",
      " extracting: images/dogs/dog.13.jpg  \n",
      " extracting: images/cats/cat.20.jpg  \n",
      " extracting: images/dogs/dog.71.jpg  \n",
      " extracting: images/dogs/dog.15.jpg  \n",
      " extracting: images/dogs/dog.39.jpg  \n",
      " extracting: images/dogs/dog.64.jpg  \n",
      " extracting: images/dogs/dog.83.jpg  \n",
      " extracting: images/cats/cat.84.jpg  \n",
      " extracting: images/cats/cat.45.jpg  \n",
      " extracting: images/dogs/dog.53.jpg  \n",
      " extracting: images/cats/cat.85.jpg  \n",
      " extracting: images/cats/cat.60.jpg  \n",
      " extracting: images/cats/cat.42.jpg  \n",
      " extracting: images/cats/cat.41.jpg  \n",
      " extracting: images/cats/cat.30.jpg  \n",
      " extracting: images/cats/cat.27.jpg  \n",
      " extracting: images/cats/cat.55.jpg  \n",
      " extracting: images/cats/cat.94.jpg  \n",
      " extracting: images/cats/cat.75.jpg  \n",
      " extracting: images/cats/cat.16.jpg  \n",
      " extracting: images/dogs/dog.33.jpg  \n",
      " extracting: images/dogs/dog.34.jpg  \n",
      " extracting: images/dogs/dog.47.jpg  \n",
      " extracting: images/cats/cat.64.jpg  \n",
      " extracting: images/dogs/dog.28.jpg  \n",
      " extracting: images/dogs/dog.52.jpg  \n",
      " extracting: images/cats/cat.96.jpg  \n",
      " extracting: images/dogs/dog.94.jpg  \n",
      " extracting: images/cats/cat.72.jpg  \n",
      " extracting: images/dogs/dog.23.jpg  \n",
      " extracting: images/dogs/dog.44.jpg  \n",
      " extracting: images/cats/cat.52.jpg  \n",
      " extracting: images/dogs/dog.42.jpg  \n",
      " extracting: images/cats/cat.61.jpg  \n",
      " extracting: images/cats/cat.51.jpg  \n",
      " extracting: images/dogs/dog.95.jpg  \n",
      " extracting: images/cats/cat.44.jpg  \n",
      " extracting: images/cats/cat.62.jpg  \n",
      " extracting: images/cats/cat.99.jpg  \n",
      " extracting: images/cats/cat.78.jpg  \n",
      " extracting: images/dogs/dog.98.jpg  \n",
      " extracting: images/cats/cat.67.jpg  \n",
      " extracting: images/dogs/dog.10.jpg  \n",
      " extracting: images/dogs/dog.26.jpg  \n",
      " extracting: images/cats/cat.26.jpg  \n",
      " extracting: images/cats/cat.48.jpg  \n",
      " extracting: images/cats/cat.58.jpg  \n",
      " extracting: images/dogs/dog.74.jpg  \n",
      " extracting: images/dogs/dog.84.jpg  \n",
      " extracting: images/dogs/dog.90.jpg  \n",
      " extracting: images/cats/cat.35.jpg  \n",
      " extracting: images/cats/cat.57.jpg  \n",
      " extracting: images/dogs/dog.40.jpg  \n",
      " extracting: images/cats/cat.92.jpg  \n",
      " extracting: images/cats/cat.29.jpg  \n",
      " extracting: images/cats/cat.89.jpg  \n",
      " extracting: images/dogs/dog.46.jpg  \n",
      " extracting: images/dogs/dog.99.jpg  \n",
      " extracting: images/dogs/dog.72.jpg  \n",
      " extracting: images/dogs/dog.66.jpg  \n",
      " extracting: images/cats/cat.98.jpg  \n",
      " extracting: images/cats/cat.81.jpg  \n",
      " extracting: images/dogs/dog.49.jpg  \n",
      " extracting: images/cats/cat.17.jpg  \n",
      " extracting: images/cats/cat.11.jpg  \n",
      " extracting: images/dogs/dog.85.jpg  \n",
      " extracting: images/dogs/dog.50.jpg  \n",
      " extracting: images/cats/cat.80.jpg  \n",
      " extracting: images/dogs/dog.67.jpg  \n",
      " extracting: images/dogs/dog.35.jpg  \n",
      " extracting: images/dogs/dog.56.jpg  \n",
      " extracting: images/dogs/dog.43.jpg  \n",
      " extracting: images/cats/cat.32.jpg  \n",
      " extracting: images/dogs/dog.75.jpg  \n",
      " extracting: images/dogs/dog.68.jpg  \n",
      " extracting: images/cats/cat.71.jpg  \n",
      " extracting: images/dogs/dog.16.jpg  \n",
      " extracting: images/dogs/dog.37.jpg  \n",
      " extracting: images/cats/cat.39.jpg  \n",
      " extracting: images/cats/cat.97.jpg  \n",
      " extracting: images/dogs/dog.73.jpg  \n",
      " extracting: images/dogs/dog.91.jpg  \n",
      " extracting: images/dogs/dog.11.jpg  \n",
      " extracting: images/cats/cat.93.jpg  \n",
      " extracting: images/cats/cat.50.jpg  \n",
      " extracting: images/cats/cat.66.jpg  \n",
      " extracting: images/dogs/dog.78.jpg  \n",
      " extracting: images/dogs/dog.63.jpg  \n",
      " extracting: images/cats/cat.88.jpg  \n",
      " extracting: images/dogs/dog.81.jpg  \n",
      " extracting: images/dogs/dog.20.jpg  \n",
      " extracting: images/cats/cat.46.jpg  \n",
      " extracting: images/dogs/dog.27.jpg  \n",
      " extracting: images/cats/cat.28.jpg  \n",
      " extracting: images/cats/cat.34.jpg  \n",
      " extracting: images/cats/cat.49.jpg  \n",
      " extracting: images/dogs/dog.55.jpg  \n",
      " extracting: images/cats/cat.82.jpg  \n",
      " extracting: images/cats/cat.56.jpg  \n",
      " extracting: images/dogs/dog.36.jpg  \n",
      " extracting: images/cats/cat.33.jpg  \n",
      " extracting: images/cats/cat.25.jpg  \n",
      " extracting: images/cats/cat.65.jpg  \n",
      " extracting: images/dogs/dog.17.jpg  \n",
      " extracting: images/cats/cat.14.jpg  \n",
      " extracting: images/cats/cat.38.jpg  \n",
      " extracting: images/dogs/dog.21.jpg  \n",
      " extracting: images/cats/cat.10.jpg  \n",
      " extracting: images/dogs/dog.89.jpg  \n",
      " extracting: images/dogs/dog.30.jpg  \n",
      " extracting: images/cats/cat.24.jpg  \n",
      " extracting: images/cats/cat.40.jpg  \n",
      " extracting: images/cats/cat.37.jpg  \n",
      " extracting: images/dogs/dog.79.jpg  \n",
      " extracting: images/cats/cat.59.jpg  \n",
      " extracting: images/cats/cat.90.jpg  \n",
      " extracting: images/dogs/dog.51.jpg  \n",
      " extracting: images/cats/cat.87.jpg  \n",
      " extracting: images/cats/cat.83.jpg  \n",
      " extracting: images/dogs/dog.19.jpg  \n",
      " extracting: images/cats/cat.77.jpg  \n",
      " extracting: images/cats/cat.196.jpg  \n",
      " extracting: images/cats/cat.115.jpg  \n",
      " extracting: images/cats/cat.195.jpg  \n",
      " extracting: images/cats/cat.136.jpg  \n",
      " extracting: images/dogs/dog.159.jpg  \n",
      " extracting: images/dogs/dog.137.jpg  \n",
      " extracting: images/cats/cat.155.jpg  \n",
      " extracting: images/cats/cat.131.jpg  \n",
      " extracting: images/dogs/dog.116.jpg  \n",
      " extracting: images/dogs/dog.187.jpg  \n",
      " extracting: images/cats/cat.148.jpg  \n",
      " extracting: images/cats/cat.190.jpg  \n",
      " extracting: images/cats/cat.170.jpg  \n",
      " extracting: images/cats/cat.113.jpg  \n",
      " extracting: images/cats/cat.193.jpg  \n",
      " extracting: images/cats/cat.138.jpg  \n",
      " extracting: images/dogs/dog.201.jpg  \n",
      " extracting: images/cats/cat.182.jpg  \n",
      " extracting: images/cats/cat.150.jpg  \n",
      " extracting: images/dogs/dog.131.jpg  \n",
      " extracting: images/dogs/dog.192.jpg  \n",
      " extracting: images/dogs/dog.182.jpg  \n",
      " extracting: images/dogs/dog.113.jpg  \n",
      " extracting: images/cats/cat.169.jpg  \n",
      " extracting: images/dogs/dog.124.jpg  \n",
      " extracting: images/dogs/dog.146.jpg  \n",
      " extracting: images/cats/cat.153.jpg  \n",
      " extracting: images/cats/cat.184.jpg  \n",
      " extracting: images/dogs/dog.112.jpg  \n",
      " extracting: images/cats/cat.175.jpg  \n",
      " extracting: images/cats/cat.141.jpg  \n",
      " extracting: images/cats/cat.108.jpg  \n",
      " extracting: images/dogs/dog.122.jpg  \n",
      " extracting: images/dogs/dog.111.jpg  \n",
      " extracting: images/cats/cat.139.jpg  \n",
      " extracting: images/cats/cat.174.jpg  \n",
      " extracting: images/dogs/dog.193.jpg  \n",
      " extracting: images/dogs/dog.128.jpg  \n",
      " extracting: images/cats/cat.120.jpg  \n",
      " extracting: images/cats/cat.149.jpg  \n",
      " extracting: images/cats/cat.151.jpg  \n",
      " extracting: images/dogs/dog.117.jpg  \n",
      " extracting: images/cats/cat.125.jpg  \n",
      " extracting: images/cats/cat.133.jpg  \n",
      " extracting: images/cats/cat.191.jpg  \n",
      " extracting: images/dogs/dog.186.jpg  \n",
      " extracting: images/dogs/dog.176.jpg  \n",
      " extracting: images/cats/cat.106.jpg  \n",
      " extracting: images/dogs/dog.125.jpg  \n",
      " extracting: images/dogs/dog.171.jpg  \n",
      " extracting: images/dogs/dog.123.jpg  \n",
      " extracting: images/dogs/dog.141.jpg  \n",
      " extracting: images/dogs/dog.183.jpg  \n",
      " extracting: images/dogs/dog.170.jpg  \n",
      " extracting: images/cats/cat.163.jpg  \n",
      " extracting: images/cats/cat.202.jpg  \n",
      " extracting: images/cats/cat.199.jpg  \n",
      " extracting: images/cats/cat.130.jpg  \n",
      " extracting: images/dogs/dog.198.jpg  \n",
      " extracting: images/cats/cat.165.jpg  \n",
      " extracting: images/cats/cat.147.jpg  \n",
      " extracting: images/cats/cat.143.jpg  \n",
      " extracting: images/dogs/dog.100.jpg  \n",
      " extracting: images/cats/cat.128.jpg  \n",
      " extracting: images/dogs/dog.148.jpg  \n",
      " extracting: images/cats/cat.107.jpg  \n",
      " extracting: images/cats/cat.132.jpg  \n",
      " extracting: images/cats/cat.154.jpg  \n",
      " extracting: images/cats/cat.124.jpg  \n",
      " extracting: images/dogs/dog.199.jpg  \n",
      " extracting: images/cats/cat.158.jpg  \n",
      " extracting: images/cats/cat.177.jpg  \n",
      " extracting: images/dogs/dog.167.jpg  \n",
      " extracting: images/dogs/dog.163.jpg  \n",
      " extracting: images/dogs/dog.140.jpg  \n",
      " extracting: images/cats/cat.101.jpg  \n",
      " extracting: images/dogs/dog.160.jpg  \n",
      " extracting: images/cats/cat.123.jpg  \n",
      " extracting: images/cats/cat.111.jpg  \n",
      " extracting: images/dogs/dog.177.jpg  \n",
      " extracting: images/cats/cat.172.jpg  \n",
      " extracting: images/cats/cat.146.jpg  \n",
      " extracting: images/dogs/dog.154.jpg  \n",
      " extracting: images/dogs/dog.129.jpg  \n",
      " extracting: images/dogs/dog.147.jpg  \n",
      " extracting: images/dogs/dog.166.jpg  \n",
      " extracting: images/cats/cat.100.jpg  \n",
      " extracting: images/cats/cat.164.jpg  \n",
      " extracting: images/dogs/dog.104.jpg  \n",
      " extracting: images/dogs/dog.138.jpg  \n",
      " extracting: images/dogs/dog.155.jpg  \n",
      " extracting: images/dogs/dog.118.jpg  \n",
      " extracting: images/cats/cat.162.jpg  \n",
      " extracting: images/cats/cat.103.jpg  \n",
      " extracting: images/cats/cat.197.jpg  \n",
      " extracting: images/dogs/dog.149.jpg  \n",
      " extracting: images/dogs/dog.134.jpg  \n",
      " extracting: images/cats/cat.135.jpg  \n",
      " extracting: images/cats/cat.142.jpg  \n",
      " extracting: images/dogs/dog.132.jpg  \n",
      " extracting: images/dogs/dog.196.jpg  \n",
      " extracting: images/dogs/dog.153.jpg  \n",
      " extracting: images/cats/cat.104.jpg  \n",
      " extracting: images/cats/cat.168.jpg  \n",
      " extracting: images/cats/cat.181.jpg  \n",
      " extracting: images/dogs/dog.185.jpg  \n",
      " extracting: images/cats/cat.110.jpg  \n",
      " extracting: images/dogs/dog.110.jpg  \n",
      " extracting: images/cats/cat.194.jpg  \n",
      " extracting: images/dogs/dog.119.jpg  \n",
      " extracting: images/cats/cat.117.jpg  \n",
      " extracting: images/dogs/dog.169.jpg  \n",
      " extracting: images/cats/cat.187.jpg  \n",
      " extracting: images/cats/cat.129.jpg  \n",
      " extracting: images/dogs/dog.135.jpg  \n",
      " extracting: images/cats/cat.188.jpg  \n",
      " extracting: images/cats/cat.122.jpg  \n",
      " extracting: images/dogs/dog.101.jpg  \n",
      " extracting: images/dogs/dog.144.jpg  \n",
      " extracting: images/dogs/dog.164.jpg  \n",
      " extracting: images/cats/cat.140.jpg  \n",
      " extracting: images/dogs/dog.105.jpg  \n",
      " extracting: images/cats/cat.179.jpg  \n",
      " extracting: images/cats/cat.152.jpg  \n",
      " extracting: images/dogs/dog.142.jpg  \n",
      " extracting: images/cats/cat.189.jpg  \n",
      " extracting: images/dogs/dog.139.jpg  \n",
      " extracting: images/cats/cat.180.jpg  \n",
      " extracting: images/dogs/dog.178.jpg  \n",
      " extracting: images/dogs/dog.107.jpg  \n",
      " extracting: images/dogs/dog.190.jpg  \n",
      " extracting: images/dogs/dog.194.jpg  \n",
      " extracting: images/dogs/dog.120.jpg  \n",
      " extracting: images/cats/cat.127.jpg  \n",
      " extracting: images/dogs/dog.143.jpg  \n",
      " extracting: images/dogs/dog.145.jpg  \n",
      " extracting: images/cats/cat.161.jpg  \n",
      " extracting: images/dogs/dog.165.jpg  \n",
      " extracting: images/dogs/dog.152.jpg  \n",
      " extracting: images/dogs/dog.202.jpg  \n",
      " extracting: images/cats/cat.105.jpg  \n",
      " extracting: images/dogs/dog.133.jpg  \n",
      " extracting: images/cats/cat.145.jpg  \n",
      " extracting: images/cats/cat.134.jpg  \n",
      " extracting: images/cats/cat.176.jpg  \n",
      " extracting: images/cats/cat.173.jpg  \n",
      " extracting: images/dogs/dog.108.jpg  \n",
      " extracting: images/cats/cat.167.jpg  \n",
      " extracting: images/cats/cat.166.jpg  \n",
      " extracting: images/dogs/dog.179.jpg  \n",
      " extracting: images/dogs/dog.102.jpg  \n",
      " extracting: images/dogs/dog.191.jpg  \n",
      " extracting: images/dogs/dog.151.jpg  \n",
      " extracting: images/dogs/dog.180.jpg  \n",
      " extracting: images/dogs/dog.106.jpg  \n",
      " extracting: images/cats/cat.186.jpg  \n",
      " extracting: images/dogs/dog.184.jpg  \n",
      " extracting: images/dogs/dog.115.jpg  \n",
      " extracting: images/cats/cat.137.jpg  \n",
      " extracting: images/dogs/dog.168.jpg  \n",
      " extracting: images/dogs/dog.150.jpg  \n",
      " extracting: images/dogs/dog.189.jpg  \n",
      " extracting: images/dogs/dog.197.jpg  \n",
      " extracting: images/dogs/dog.158.jpg  \n",
      " extracting: images/cats/cat.198.jpg  \n",
      " extracting: images/cats/cat.112.jpg  \n",
      " extracting: images/cats/cat.144.jpg  \n",
      " extracting: images/dogs/dog.157.jpg  \n",
      " extracting: images/dogs/dog.109.jpg  \n",
      " extracting: images/cats/cat.157.jpg  \n",
      " extracting: images/dogs/dog.127.jpg  \n",
      " extracting: images/dogs/dog.156.jpg  \n",
      " extracting: images/cats/cat.178.jpg  \n",
      " extracting: images/cats/cat.118.jpg  \n",
      " extracting: images/cats/cat.116.jpg  \n",
      " extracting: images/dogs/dog.172.jpg  \n",
      " extracting: images/cats/cat.200.jpg  \n",
      " extracting: images/dogs/dog.162.jpg  \n",
      " extracting: images/dogs/dog.200.jpg  \n",
      " extracting: images/dogs/dog.181.jpg  \n",
      " extracting: images/cats/cat.159.jpg  \n",
      " extracting: images/dogs/dog.188.jpg  \n",
      " extracting: images/dogs/dog.195.jpg  \n",
      " extracting: images/cats/cat.102.jpg  \n",
      " extracting: images/cats/cat.171.jpg  \n",
      " extracting: images/dogs/dog.114.jpg  \n",
      " extracting: images/cats/cat.114.jpg  \n",
      " extracting: images/cats/cat.119.jpg  \n",
      " extracting: images/dogs/dog.173.jpg  \n",
      " extracting: images/dogs/dog.136.jpg  \n",
      " extracting: images/dogs/dog.174.jpg  \n",
      " extracting: images/dogs/dog.130.jpg  \n",
      " extracting: images/cats/cat.121.jpg  \n",
      " extracting: images/cats/cat.156.jpg  \n",
      " extracting: images/cats/cat.160.jpg  \n",
      " extracting: images/dogs/dog.126.jpg  \n",
      " extracting: images/cats/cat.109.jpg  \n",
      " extracting: images/dogs/dog.161.jpg  \n",
      " extracting: images/cats/cat.201.jpg  \n",
      " extracting: images/cats/cat.126.jpg  \n",
      " extracting: images/dogs/dog.175.jpg  \n",
      " extracting: images/cats/cat.183.jpg  \n",
      " extracting: images/dogs/dog.103.jpg  \n",
      " extracting: images/dogs/dog.121.jpg  \n",
      " extracting: images/cats/cat.185.jpg  \n",
      " extracting: images/cats/cat.192.jpg  \n",
      " extracting: images/humans/rider-8.jpg  \n",
      " extracting: images/humans/rider-6.jpg  \n",
      " extracting: images/humans/rider-7.jpg  \n",
      " extracting: images/horses/horse-5.jpg  \n",
      " extracting: images/horses/horse-6.jpg  \n",
      " extracting: images/humans/rider-1.jpg  \n",
      " extracting: images/horses/horse-1.jpg  \n",
      " extracting: images/humans/rider-4.jpg  \n",
      " extracting: images/horses/horse-7.jpg  \n",
      " extracting: images/horses/horse-9.jpg  \n",
      " extracting: images/horses/horse-2.jpg  \n",
      " extracting: images/horses/horse-3.jpg  \n",
      " extracting: images/humans/rider-2.jpg  \n",
      " extracting: images/horses/horse-8.jpg  \n",
      " extracting: images/humans/rider-5.jpg  \n",
      " extracting: images/humans/rider-9.jpg  \n",
      " extracting: images/horses/horse-4.jpg  \n",
      " extracting: images/humans/rider-3.jpg  \n",
      " extracting: images/humans/rider-83.jpg  \n",
      " extracting: images/humans/rider-85.jpg  \n",
      " extracting: images/horses/horse-34.jpg  \n",
      " extracting: images/humans/rider-58.jpg  \n",
      " extracting: images/horses/horse-16.jpg  \n",
      " extracting: images/horses/horse-98.jpg  \n",
      " extracting: images/humans/rider-24.jpg  \n",
      " extracting: images/humans/rider-28.jpg  \n",
      " extracting: images/humans/rider-10.jpg  \n",
      " extracting: images/horses/horse-53.jpg  \n",
      " extracting: images/humans/rider-20.jpg  \n",
      " extracting: images/horses/horse-43.jpg  \n",
      " extracting: images/horses/horse-61.jpg  \n",
      " extracting: images/humans/rider-77.jpg  \n",
      " extracting: images/horses/horse-84.jpg  \n",
      " extracting: images/horses/horse-66.jpg  \n",
      " extracting: images/humans/rider-71.jpg  \n",
      " extracting: images/horses/horse-33.jpg  \n",
      " extracting: images/humans/rider-51.jpg  \n",
      " extracting: images/humans/rider-15.jpg  \n",
      " extracting: images/horses/horse-59.jpg  \n",
      " extracting: images/horses/horse-49.jpg  \n",
      " extracting: images/horses/horse-75.jpg  \n",
      " extracting: images/humans/rider-41.jpg  \n",
      " extracting: images/humans/rider-96.jpg  \n",
      " extracting: images/horses/horse-48.jpg  \n",
      " extracting: images/humans/rider-25.jpg  \n",
      " extracting: images/horses/horse-29.jpg  \n",
      " extracting: images/humans/rider-38.jpg  \n",
      " extracting: images/horses/horse-79.jpg  \n",
      " extracting: images/humans/rider-35.jpg  \n",
      " extracting: images/horses/horse-45.jpg  \n",
      " extracting: images/humans/rider-23.jpg  \n",
      " extracting: images/humans/rider-31.jpg  \n",
      " extracting: images/horses/horse-70.jpg  \n",
      " extracting: images/humans/rider-32.jpg  \n",
      " extracting: images/horses/horse-83.jpg  \n",
      " extracting: images/humans/rider-19.jpg  \n",
      " extracting: images/horses/horse-26.jpg  \n",
      " extracting: images/humans/rider-29.jpg  \n",
      " extracting: images/humans/rider-59.jpg  \n",
      " extracting: images/horses/horse-56.jpg  \n",
      " extracting: images/horses/horse-11.jpg  \n",
      " extracting: images/humans/rider-46.jpg  \n",
      " extracting: images/horses/horse-38.jpg  \n",
      " extracting: images/horses/horse-13.jpg  \n",
      " extracting: images/humans/rider-56.jpg  \n",
      " extracting: images/humans/rider-34.jpg  \n",
      " extracting: images/humans/rider-21.jpg  \n",
      " extracting: images/humans/rider-92.jpg  \n",
      " extracting: images/horses/horse-55.jpg  \n",
      " extracting: images/horses/horse-86.jpg  \n",
      " extracting: images/humans/rider-62.jpg  \n",
      " extracting: images/horses/horse-91.jpg  \n",
      " extracting: images/humans/rider-55.jpg  \n",
      " extracting: images/horses/horse-74.jpg  \n",
      " extracting: images/humans/rider-64.jpg  \n",
      " extracting: images/horses/horse-39.jpg  \n",
      " extracting: images/horses/horse-51.jpg  \n",
      " extracting: images/horses/horse-67.jpg  \n",
      " extracting: images/horses/horse-72.jpg  \n",
      " extracting: images/horses/horse-52.jpg  \n",
      " extracting: images/humans/rider-13.jpg  \n",
      " extracting: images/humans/rider-82.jpg  \n",
      " extracting: images/horses/horse-27.jpg  \n",
      " extracting: images/horses/horse-36.jpg  \n",
      " extracting: images/horses/horse-18.jpg  \n",
      " extracting: images/horses/horse-40.jpg  \n",
      " extracting: images/horses/horse-19.jpg  \n",
      " extracting: images/horses/horse-65.jpg  \n",
      " extracting: images/horses/horse-21.jpg  \n",
      " extracting: images/horses/horse-68.jpg  \n",
      " extracting: images/humans/rider-63.jpg  \n",
      " extracting: images/humans/rider-97.jpg  \n",
      " extracting: images/humans/rider-93.jpg  \n",
      " extracting: images/humans/rider-36.jpg  \n",
      " extracting: images/horses/horse-76.jpg  \n",
      " extracting: images/humans/rider-69.jpg  \n",
      " extracting: images/horses/horse-96.jpg  \n",
      " extracting: images/humans/rider-48.jpg  \n",
      " extracting: images/humans/rider-26.jpg  \n",
      " extracting: images/horses/horse-71.jpg  \n",
      " extracting: images/humans/rider-91.jpg  \n",
      " extracting: images/horses/horse-30.jpg  \n",
      " extracting: images/horses/horse-17.jpg  \n",
      " extracting: images/humans/rider-98.jpg  \n",
      " extracting: images/horses/horse-69.jpg  \n",
      " extracting: images/horses/horse-64.jpg  \n",
      " extracting: images/humans/rider-72.jpg  \n",
      " extracting: images/horses/horse-87.jpg  \n",
      " extracting: images/humans/rider-40.jpg  \n",
      " extracting: images/humans/rider-37.jpg  \n",
      " extracting: images/horses/horse-77.jpg  \n",
      " extracting: images/humans/rider-65.jpg  \n",
      " extracting: images/horses/horse-57.jpg  \n",
      " extracting: images/humans/rider-78.jpg  \n",
      " extracting: images/horses/horse-41.jpg  \n",
      " extracting: images/horses/horse-97.jpg  \n",
      " extracting: images/horses/horse-62.jpg  \n",
      " extracting: images/humans/rider-27.jpg  \n",
      " extracting: images/humans/rider-94.jpg  \n",
      " extracting: images/horses/horse-46.jpg  \n",
      " extracting: images/horses/horse-15.jpg  \n",
      " extracting: images/humans/rider-16.jpg  \n",
      " extracting: images/humans/rider-90.jpg  \n",
      " extracting: images/horses/horse-12.jpg  \n",
      " extracting: images/humans/rider-12.jpg  \n",
      " extracting: images/humans/rider-87.jpg  \n",
      " extracting: images/horses/horse-90.jpg  \n",
      " extracting: images/humans/rider-42.jpg  \n",
      " extracting: images/humans/rider-18.jpg  \n",
      " extracting: images/horses/horse-24.jpg  \n",
      " extracting: images/humans/rider-99.jpg  \n",
      " extracting: images/horses/horse-85.jpg  \n",
      " extracting: images/humans/rider-45.jpg  \n",
      " extracting: images/horses/horse-20.jpg  \n",
      " extracting: images/humans/rider-75.jpg  \n",
      " extracting: images/humans/rider-44.jpg  \n",
      " extracting: images/horses/horse-78.jpg  \n",
      " extracting: images/horses/horse-37.jpg  \n",
      " extracting: images/humans/rider-30.jpg  \n",
      " extracting: images/horses/horse-89.jpg  \n",
      " extracting: images/humans/rider-17.jpg  \n",
      " extracting: images/humans/rider-86.jpg  \n",
      " extracting: images/horses/horse-54.jpg  \n",
      " extracting: images/humans/rider-60.jpg  \n",
      " extracting: images/horses/horse-95.jpg  \n",
      " extracting: images/humans/rider-66.jpg  \n",
      " extracting: images/humans/rider-47.jpg  \n",
      " extracting: images/humans/rider-53.jpg  \n",
      " extracting: images/humans/rider-49.jpg  \n",
      " extracting: images/humans/rider-57.jpg  \n",
      " extracting: images/humans/rider-74.jpg  \n",
      " extracting: images/humans/rider-54.jpg  \n",
      " extracting: images/humans/rider-33.jpg  \n",
      " extracting: images/horses/horse-81.jpg  \n",
      " extracting: images/humans/rider-43.jpg  \n",
      " extracting: images/horses/horse-88.jpg  \n",
      " extracting: images/horses/horse-63.jpg  \n",
      " extracting: images/humans/rider-95.jpg  \n",
      " extracting: images/humans/rider-73.jpg  \n",
      " extracting: images/horses/horse-82.jpg  \n",
      " extracting: images/horses/horse-93.jpg  \n",
      " extracting: images/humans/rider-52.jpg  \n",
      " extracting: images/humans/rider-68.jpg  \n",
      " extracting: images/humans/rider-84.jpg  \n",
      " extracting: images/humans/rider-61.jpg  \n",
      " extracting: images/humans/rider-11.jpg  \n",
      " extracting: images/horses/horse-31.jpg  \n",
      " extracting: images/horses/horse-25.jpg  \n",
      " extracting: images/humans/rider-79.jpg  \n",
      " extracting: images/horses/horse-47.jpg  \n",
      " extracting: images/humans/rider-88.jpg  \n",
      " extracting: images/horses/horse-14.jpg  \n",
      " extracting: images/horses/horse-28.jpg  \n",
      " extracting: images/horses/horse-94.jpg  \n",
      " extracting: images/horses/horse-32.jpg  \n",
      " extracting: images/humans/rider-67.jpg  \n",
      " extracting: images/horses/horse-60.jpg  \n",
      " extracting: images/horses/horse-92.jpg  \n",
      " extracting: images/humans/rider-22.jpg  \n",
      " extracting: images/horses/horse-50.jpg  \n",
      " extracting: images/horses/horse-80.jpg  \n",
      " extracting: images/humans/rider-14.jpg  \n",
      " extracting: images/humans/rider-81.jpg  \n",
      " extracting: images/horses/horse-22.jpg  \n",
      " extracting: images/humans/rider-76.jpg  \n",
      " extracting: images/horses/horse-73.jpg  \n",
      " extracting: images/horses/horse-44.jpg  \n",
      " extracting: images/horses/horse-35.jpg  \n",
      " extracting: images/humans/rider-39.jpg  \n",
      " extracting: images/horses/horse-10.jpg  \n",
      " extracting: images/horses/horse-23.jpg  \n",
      " extracting: images/humans/rider-80.jpg  \n",
      " extracting: images/horses/horse-42.jpg  \n",
      " extracting: images/humans/rider-89.jpg  \n",
      " extracting: images/horses/horse-99.jpg  \n",
      " extracting: images/humans/rider-70.jpg  \n",
      " extracting: images/humans/rider-50.jpg  \n",
      " extracting: images/horses/horse-58.jpg  \n",
      " extracting: images/humans/rider-177.jpg  \n",
      " extracting: images/horses/horse-193.jpg  \n",
      " extracting: images/horses/horse-129.jpg  \n",
      " extracting: images/humans/rider-197.jpg  \n",
      " extracting: images/humans/rider-132.jpg  \n",
      " extracting: images/horses/horse-126.jpg  \n",
      " extracting: images/humans/rider-106.jpg  \n",
      " extracting: images/humans/rider-138.jpg  \n",
      " extracting: images/horses/horse-120.jpg  \n",
      " extracting: images/horses/horse-140.jpg  \n",
      " extracting: images/humans/rider-171.jpg  \n",
      " extracting: images/humans/rider-102.jpg  \n",
      " extracting: images/horses/horse-130.jpg  \n",
      " extracting: images/humans/rider-190.jpg  \n",
      " extracting: images/humans/rider-119.jpg  \n",
      " extracting: images/horses/horse-164.jpg  \n",
      " extracting: images/humans/rider-183.jpg  \n",
      " extracting: images/humans/rider-168.jpg  \n",
      " extracting: images/humans/rider-140.jpg  \n",
      " extracting: images/humans/rider-156.jpg  \n",
      " extracting: images/horses/horse-191.jpg  \n",
      " extracting: images/humans/rider-123.jpg  \n",
      " extracting: images/horses/horse-196.jpg  \n",
      " extracting: images/humans/rider-184.jpg  \n",
      " extracting: images/horses/horse-112.jpg  \n",
      " extracting: images/humans/rider-154.jpg  \n",
      " extracting: images/horses/horse-190.jpg  \n",
      " extracting: images/humans/rider-162.jpg  \n",
      " extracting: images/horses/horse-160.jpg  \n",
      " extracting: images/humans/rider-188.jpg  \n",
      " extracting: images/horses/horse-163.jpg  \n",
      " extracting: images/horses/horse-188.jpg  \n",
      " extracting: images/humans/rider-196.jpg  \n",
      " extracting: images/humans/rider-118.jpg  \n",
      " extracting: images/horses/horse-148.jpg  \n",
      " extracting: images/humans/rider-182.jpg  \n",
      " extracting: images/horses/horse-187.jpg  \n",
      " extracting: images/horses/horse-171.jpg  \n",
      " extracting: images/horses/horse-147.jpg  \n",
      " extracting: images/humans/rider-134.jpg  \n",
      " extracting: images/humans/rider-122.jpg  \n",
      " extracting: images/horses/horse-165.jpg  \n",
      " extracting: images/horses/horse-192.jpg  \n",
      " extracting: images/horses/horse-184.jpg  \n",
      " extracting: images/humans/rider-148.jpg  \n",
      " extracting: images/humans/rider-150.jpg  \n",
      " extracting: images/horses/horse-170.jpg  \n",
      " extracting: images/horses/horse-135.jpg  \n",
      " extracting: images/humans/rider-198.jpg  \n",
      " extracting: images/humans/rider-107.jpg  \n",
      " extracting: images/humans/rider-125.jpg  \n",
      " extracting: images/horses/horse-133.jpg  \n",
      " extracting: images/horses/horse-151.jpg  \n",
      " extracting: images/horses/horse-113.jpg  \n",
      " extracting: images/humans/rider-166.jpg  \n",
      " extracting: images/humans/rider-133.jpg  \n",
      " extracting: images/horses/horse-157.jpg  \n",
      " extracting: images/humans/rider-142.jpg  \n",
      " extracting: images/horses/horse-176.jpg  \n",
      " extracting: images/humans/rider-189.jpg  \n",
      " extracting: images/horses/horse-158.jpg  \n",
      " extracting: images/humans/rider-141.jpg  \n",
      " extracting: images/humans/rider-186.jpg  \n",
      " extracting: images/humans/rider-178.jpg  \n",
      " extracting: images/humans/rider-155.jpg  \n",
      " extracting: images/humans/rider-116.jpg  \n",
      " extracting: images/humans/rider-147.jpg  \n",
      " extracting: images/horses/horse-182.jpg  \n",
      " extracting: images/humans/rider-135.jpg  \n",
      " extracting: images/horses/horse-134.jpg  \n",
      " extracting: images/horses/horse-111.jpg  \n",
      " extracting: images/horses/horse-159.jpg  \n",
      " extracting: images/humans/rider-159.jpg  \n",
      " extracting: images/humans/rider-110.jpg  \n",
      " extracting: images/horses/horse-150.jpg  \n",
      " extracting: images/humans/rider-129.jpg  \n",
      " extracting: images/humans/rider-187.jpg  \n",
      " extracting: images/humans/rider-120.jpg  \n",
      " extracting: images/horses/horse-106.jpg  \n",
      " extracting: images/horses/horse-167.jpg  \n",
      " extracting: images/horses/horse-102.jpg  \n",
      " extracting: images/humans/rider-169.jpg  \n",
      " extracting: images/humans/rider-176.jpg  \n",
      " extracting: images/horses/horse-132.jpg  \n",
      " extracting: images/humans/rider-193.jpg  \n",
      " extracting: images/horses/horse-195.jpg  \n",
      " extracting: images/humans/rider-117.jpg  \n",
      " extracting: images/horses/horse-100.jpg  \n",
      " extracting: images/horses/horse-114.jpg  \n",
      " extracting: images/humans/rider-126.jpg  \n",
      " extracting: images/humans/rider-202.jpg  \n",
      " extracting: images/horses/horse-109.jpg  \n",
      " extracting: images/humans/rider-163.jpg  \n",
      " extracting: images/humans/rider-167.jpg  \n",
      " extracting: images/humans/rider-199.jpg  \n",
      " extracting: images/horses/horse-177.jpg  \n",
      " extracting: images/horses/horse-123.jpg  \n",
      " extracting: images/humans/rider-180.jpg  \n",
      " extracting: images/horses/horse-108.jpg  \n",
      " extracting: images/humans/rider-179.jpg  \n",
      " extracting: images/humans/rider-195.jpg  \n",
      " extracting: images/horses/horse-201.jpg  \n",
      " extracting: images/horses/horse-166.jpg  \n",
      " extracting: images/humans/rider-158.jpg  \n",
      " extracting: images/humans/rider-128.jpg  \n",
      " extracting: images/horses/horse-156.jpg  \n",
      " extracting: images/humans/rider-165.jpg  \n",
      " extracting: images/humans/rider-153.jpg  \n",
      " extracting: images/horses/horse-116.jpg  \n",
      " extracting: images/humans/rider-121.jpg  \n",
      " extracting: images/humans/rider-181.jpg  \n",
      " extracting: images/horses/horse-194.jpg  \n",
      " extracting: images/horses/horse-105.jpg  \n",
      " extracting: images/humans/rider-127.jpg  \n",
      " extracting: images/horses/horse-110.jpg  \n",
      " extracting: images/horses/horse-101.jpg  \n",
      " extracting: images/humans/rider-111.jpg  \n",
      " extracting: images/humans/rider-146.jpg  \n",
      " extracting: images/horses/horse-183.jpg  \n",
      " extracting: images/horses/horse-138.jpg  \n",
      " extracting: images/horses/horse-179.jpg  \n",
      " extracting: images/horses/horse-175.jpg  \n",
      " extracting: images/humans/rider-104.jpg  \n",
      " extracting: images/horses/horse-200.jpg  \n",
      " extracting: images/horses/horse-173.jpg  \n",
      " extracting: images/horses/horse-189.jpg  \n",
      " extracting: images/humans/rider-192.jpg  \n",
      " extracting: images/humans/rider-160.jpg  \n",
      " extracting: images/horses/horse-172.jpg  \n",
      " extracting: images/horses/horse-124.jpg  \n",
      " extracting: images/humans/rider-194.jpg  \n",
      " extracting: images/humans/rider-164.jpg  \n",
      " extracting: images/horses/horse-144.jpg  \n",
      " extracting: images/humans/rider-173.jpg  \n",
      " extracting: images/horses/horse-161.jpg  \n",
      " extracting: images/horses/horse-186.jpg  \n",
      " extracting: images/humans/rider-201.jpg  \n",
      " extracting: images/humans/rider-152.jpg  \n",
      " extracting: images/horses/horse-139.jpg  \n",
      " extracting: images/horses/horse-169.jpg  \n",
      " extracting: images/humans/rider-109.jpg  \n",
      " extracting: images/horses/horse-153.jpg  \n",
      " extracting: images/humans/rider-149.jpg  \n",
      " extracting: images/horses/horse-155.jpg  \n",
      " extracting: images/horses/horse-142.jpg  \n",
      " extracting: images/horses/horse-146.jpg  \n",
      " extracting: images/horses/horse-125.jpg  \n",
      " extracting: images/horses/horse-145.jpg  \n",
      " extracting: images/horses/horse-152.jpg  \n",
      " extracting: images/horses/horse-162.jpg  \n",
      " extracting: images/humans/rider-100.jpg  \n",
      " extracting: images/humans/rider-172.jpg  \n",
      " extracting: images/horses/horse-174.jpg  \n",
      " extracting: images/horses/horse-103.jpg  \n",
      " extracting: images/horses/horse-198.jpg  \n",
      " extracting: images/humans/rider-114.jpg  \n",
      " extracting: images/humans/rider-143.jpg  \n",
      " extracting: images/horses/horse-202.jpg  \n",
      " extracting: images/horses/horse-104.jpg  \n",
      " extracting: images/horses/horse-122.jpg  \n",
      " extracting: images/humans/rider-112.jpg  \n",
      " extracting: images/humans/rider-130.jpg  \n",
      " extracting: images/humans/rider-108.jpg  \n",
      " extracting: images/horses/horse-143.jpg  \n",
      " extracting: images/horses/horse-180.jpg  \n",
      " extracting: images/horses/horse-115.jpg  \n",
      " extracting: images/humans/rider-136.jpg  \n",
      " extracting: images/horses/horse-107.jpg  \n",
      " extracting: images/humans/rider-139.jpg  \n",
      " extracting: images/humans/rider-161.jpg  \n",
      " extracting: images/horses/horse-128.jpg  \n",
      " extracting: images/horses/horse-119.jpg  \n",
      " extracting: images/humans/rider-191.jpg  \n",
      " extracting: images/humans/rider-185.jpg  \n",
      " extracting: images/horses/horse-154.jpg  \n",
      " extracting: images/humans/rider-115.jpg  \n",
      " extracting: images/humans/rider-170.jpg  \n",
      " extracting: images/horses/horse-131.jpg  \n",
      " extracting: images/humans/rider-131.jpg  \n",
      " extracting: images/horses/horse-185.jpg  \n",
      " extracting: images/horses/horse-137.jpg  \n",
      " extracting: images/humans/rider-145.jpg  \n",
      " extracting: images/horses/horse-127.jpg  \n",
      " extracting: images/humans/rider-105.jpg  \n",
      " extracting: images/humans/rider-101.jpg  \n",
      " extracting: images/humans/rider-200.jpg  \n",
      " extracting: images/horses/horse-168.jpg  \n",
      " extracting: images/horses/horse-117.jpg  \n",
      " extracting: images/humans/rider-113.jpg  \n",
      " extracting: images/horses/horse-199.jpg  \n",
      " extracting: images/horses/horse-136.jpg  \n",
      " extracting: images/humans/rider-103.jpg  \n",
      " extracting: images/humans/rider-175.jpg  \n",
      " extracting: images/horses/horse-178.jpg  \n",
      " extracting: images/horses/horse-121.jpg  \n",
      " extracting: images/horses/horse-141.jpg  \n",
      " extracting: images/horses/horse-197.jpg  \n",
      " extracting: images/humans/rider-124.jpg  \n",
      " extracting: images/humans/rider-151.jpg  \n",
      " extracting: images/horses/horse-118.jpg  \n",
      " extracting: images/humans/rider-174.jpg  \n",
      " extracting: images/humans/rider-144.jpg  \n",
      " extracting: images/humans/rider-137.jpg  \n",
      " extracting: images/horses/horse-149.jpg  \n",
      " extracting: images/humans/rider-157.jpg  \n",
      " extracting: images/horses/horse-181.jpg  \n",
      "\n",
      "1 archive had fatal errors.\n"
     ]
    }
   ],
   "source": [
    "!unzip AAB-193KAr7qhFrwbwBENjPNa?dl=0 -d images/"
   ]
  },
  {
   "cell_type": "code",
   "execution_count": 4,
   "metadata": {
    "colab": {},
    "colab_type": "code",
    "id": "SDb04L--wkDy"
   },
   "outputs": [],
   "source": [
    "import os, shutil"
   ]
  },
  {
   "cell_type": "code",
   "execution_count": 7,
   "metadata": {
    "colab": {},
    "colab_type": "code",
    "id": "uEKuh-Bdw3tp"
   },
   "outputs": [],
   "source": [
    "if not os.path.isdir(\"val_images\"):\n",
    "  os.mkdir(\"val_images\")"
   ]
  },
  {
   "cell_type": "code",
   "execution_count": 8,
   "metadata": {
    "colab": {},
    "colab_type": "code",
    "id": "2ABfMbB6yivh"
   },
   "outputs": [],
   "source": [
    "classes = ['cats', 'dogs', 'horses', 'humans']"
   ]
  },
  {
   "cell_type": "code",
   "execution_count": 11,
   "metadata": {
    "colab": {},
    "colab_type": "code",
    "id": "nPvssm8VzXXf"
   },
   "outputs": [],
   "source": [
    "for c in classes:\n",
    "  if not os.path.isdir(\"val_images/\"+ c):\n",
    "    os.mkdir(\"val_images/\"+ c)"
   ]
  },
  {
   "cell_type": "code",
   "execution_count": 15,
   "metadata": {
    "colab": {
     "base_uri": "https://localhost:8080/",
     "height": 105
    },
    "colab_type": "code",
    "id": "yATaTZi0y24y",
    "outputId": "7f2972b3-82a4-4e62-a4bd-31cf9689a8ed"
   },
   "outputs": [
    {
     "name": "stdout",
     "output_type": "stream",
     "text": [
      "['dog.153.jpg', 'dog.69.jpg', 'dog.68.jpg', 'dog.103.jpg', 'dog.19.jpg', 'dog.42.jpg', 'dog.2.jpg', 'dog.193.jpg', 'dog.87.jpg', 'dog.85.jpg', 'dog.106.jpg', 'dog.134.jpg', 'dog.50.jpg', 'dog.127.jpg', 'dog.93.jpg', 'dog.198.jpg', 'dog.34.jpg', 'dog.157.jpg', 'dog.94.jpg', 'dog.186.jpg', 'dog.75.jpg']\n",
      "['cat.11.jpg', 'cat.122.jpg', 'cat.66.jpg', 'cat.62.jpg', 'cat.99.jpg', 'cat.143.jpg', 'cat.154.jpg', 'cat.116.jpg', 'cat.44.jpg', 'cat.4.jpg', 'cat.129.jpg', 'cat.91.jpg', 'cat.42.jpg', 'cat.157.jpg', 'cat.33.jpg', 'cat.88.jpg', 'cat.114.jpg', 'cat.199.jpg', 'cat.189.jpg', 'cat.169.jpg', 'cat.1.jpg']\n",
      "['rider-126.jpg', 'rider-127.jpg', 'rider-22.jpg', 'rider-125.jpg', 'rider-165.jpg', 'rider-145.jpg', 'rider-87.jpg', 'rider-136.jpg', 'rider-188.jpg', 'rider-42.jpg', 'rider-130.jpg', 'rider-83.jpg', 'rider-96.jpg', 'rider-98.jpg', 'rider-119.jpg', 'rider-32.jpg', 'rider-33.jpg', 'rider-137.jpg', 'rider-183.jpg', 'rider-146.jpg', 'rider-104.jpg']\n",
      "['horse-123.jpg', 'horse-42.jpg', 'horse-104.jpg', 'horse-66.jpg', 'horse-70.jpg', 'horse-151.jpg', 'horse-43.jpg', 'horse-53.jpg', 'horse-10.jpg', 'horse-87.jpg', 'horse-160.jpg', 'horse-179.jpg', 'horse-84.jpg', 'horse-68.jpg', 'horse-62.jpg', 'horse-177.jpg', 'horse-103.jpg', 'horse-194.jpg', 'horse-154.jpg', 'horse-193.jpg', 'horse-141.jpg']\n"
     ]
    }
   ],
   "source": [
    "SPLIT = 0.9\n",
    "\n",
    "for dirc in os.listdir(\"images\"):\n",
    "\n",
    "  p = \"images/\" + dirc\n",
    "  imgs = os.listdir(p)\n",
    "  split_size = int(len(imgs)*SPLIT)\n",
    "  files_to_move = imgs[split_size:]\n",
    "  print(files_to_move)\n",
    "\n",
    "  for f in files_to_move:\n",
    "    src =  os.path.join(p, f)\n",
    "    dest = os.path.join(\"val_images/\", dirc)\n",
    "\n",
    "    shutil.move(src, dest)"
   ]
  },
  {
   "cell_type": "code",
   "execution_count": 16,
   "metadata": {
    "colab": {
     "base_uri": "https://localhost:8080/",
     "height": 85
    },
    "colab_type": "code",
    "id": "ZbE9NkYNzDN8",
    "outputId": "27ceb38f-d7b5-4dac-a107-9d57094fffd4"
   },
   "outputs": [
    {
     "name": "stdout",
     "output_type": "stream",
     "text": [
      "dogs 181\n",
      "cats 181\n",
      "humans 181\n",
      "horses 181\n"
     ]
    }
   ],
   "source": [
    "for dirc in os.listdir(\"images/\"):\n",
    "  p = \"images/\" + dirc\n",
    "  img = os.listdir(p)\n",
    "  print(dirc, len(img))"
   ]
  },
  {
   "cell_type": "code",
   "execution_count": 17,
   "metadata": {
    "colab": {
     "base_uri": "https://localhost:8080/",
     "height": 85
    },
    "colab_type": "code",
    "id": "QAlIYiPVzHvQ",
    "outputId": "568944b3-0d23-4280-b4a7-631ee0637c86"
   },
   "outputs": [
    {
     "name": "stdout",
     "output_type": "stream",
     "text": [
      "dogs 21\n",
      "cats 21\n",
      "humans 21\n",
      "horses 21\n"
     ]
    }
   ],
   "source": [
    "for dirc in os.listdir(\"val_images/\"):\n",
    "  p = \"val_images/\" + dirc\n",
    "  img = os.listdir(p)\n",
    "  print(dirc, len(img))"
   ]
  },
  {
   "cell_type": "code",
   "execution_count": 25,
   "metadata": {
    "colab": {},
    "colab_type": "code",
    "id": "HsfYEQps2uls"
   },
   "outputs": [],
   "source": [
    "from keras.preprocessing import image\n",
    "import matplotlib.pyplot as plt\n",
    "import numpy as np"
   ]
  },
  {
   "cell_type": "code",
   "execution_count": 29,
   "metadata": {
    "colab": {},
    "colab_type": "code",
    "id": "QTy7f6Qs3eDC"
   },
   "outputs": [],
   "source": [
    "i = image.load_img(\"images/dogs/dog.1.jpg\", target_size = (50,50))\n",
    "i = image.img_to_array(i)/255.# images [0, 1]"
   ]
  },
  {
   "cell_type": "code",
   "execution_count": 30,
   "metadata": {
    "colab": {
     "base_uri": "https://localhost:8080/",
     "height": 34
    },
    "colab_type": "code",
    "id": "S9_pgv-w4Wmq",
    "outputId": "81ef300e-b0dc-4092-b749-ed13678dc4fa"
   },
   "outputs": [
    {
     "data": {
      "text/plain": [
       "numpy.ndarray"
      ]
     },
     "execution_count": 30,
     "metadata": {
      "tags": []
     },
     "output_type": "execute_result"
    }
   ],
   "source": [
    "type(i)"
   ]
  },
  {
   "cell_type": "code",
   "execution_count": 31,
   "metadata": {
    "colab": {
     "base_uri": "https://localhost:8080/",
     "height": 284
    },
    "colab_type": "code",
    "id": "d9ZLMh6A4aph",
    "outputId": "440a4b1a-7faf-4999-a425-0b4082d474f4"
   },
   "outputs": [
    {
     "data": {
      "text/plain": [
       "<matplotlib.image.AxesImage at 0x7f4f34a2bf98>"
      ]
     },
     "execution_count": 31,
     "metadata": {
      "tags": []
     },
     "output_type": "execute_result"
    },
    {
     "data": {
      "image/png": "[encoded data removed]",
      "text/plain": [
       "<Figure size 432x288 with 1 Axes>"
      ]
     },
     "metadata": {
      "needs_background": "light",
      "tags": []
     },
     "output_type": "display_data"
    }
   ],
   "source": [
    "plt.imshow(i)"
   ]
  },
  {
   "cell_type": "code",
   "execution_count": 32,
   "metadata": {
    "colab": {},
    "colab_type": "code",
    "id": "Yf-pDAHe4nc5"
   },
   "outputs": [],
   "source": [
    "dic = {'cats' : 0, 'dogs': 1, 'horses': 2, 'humans': 3}\n",
    "rev_dic = {0 : 'cats', 1 :'dogs', 2: 'horses', 3 : 'humans'}"
   ]
  },
  {
   "cell_type": "code",
   "execution_count": 38,
   "metadata": {
    "colab": {
     "base_uri": "https://localhost:8080/",
     "height": 87
    },
    "colab_type": "code",
    "id": "j99R6yfz5-WC",
    "outputId": "15d9d850-7a34-4043-d4f8-67dbc82821c9"
   },
   "outputs": [
    {
     "name": "stdout",
     "output_type": "stream",
     "text": [
      "images/dogs\n",
      "images/cats\n",
      "images/humans\n",
      "images/horses\n"
     ]
    }
   ],
   "source": [
    "X = []\n",
    "y = []\n",
    "\n",
    "for dirc in os.listdir(\"images/\"):\n",
    "  p = \"images/\" + dirc\n",
    "  print(p)\n",
    "\n",
    "  for i in os.listdir(p):\n",
    "    img_path = os.path.join(p, i)  # p + \"/\" + i\n",
    "\n",
    "\n",
    "    img = image.load_img(img_path, target_size = (50,50))\n",
    "    img = image.img_to_array(img)/255. # images [0, 1]\n",
    "\n",
    "    X.append(img)\n",
    "\n",
    "    y.append(dic[dirc])"
   ]
  },
  {
   "cell_type": "code",
   "execution_count": 40,
   "metadata": {
    "colab": {
     "base_uri": "https://localhost:8080/",
     "height": 52
    },
    "colab_type": "code",
    "id": "j1YfVEM36aTX",
    "outputId": "f81b1efa-6e2c-454a-ed97-eff1b8f6e220"
   },
   "outputs": [
    {
     "name": "stdout",
     "output_type": "stream",
     "text": [
      "724\n",
      "724\n"
     ]
    }
   ],
   "source": [
    "print(len(X))\n",
    "print(len(y))"
   ]
  },
  {
   "cell_type": "code",
   "execution_count": 41,
   "metadata": {
    "colab": {},
    "colab_type": "code",
    "id": "v8hpbqdc7VO2"
   },
   "outputs": [],
   "source": [
    "X_train = np.array(X)\n",
    "y_train = np.array(y)"
   ]
  },
  {
   "cell_type": "code",
   "execution_count": 46,
   "metadata": {
    "colab": {
     "base_uri": "https://localhost:8080/",
     "height": 35
    },
    "colab_type": "code",
    "id": "_-VDbhCH8QCL",
    "outputId": "cd304053-4140-4dab-80ca-98d081a47c5a"
   },
   "outputs": [
    {
     "data": {
      "text/plain": [
       "((724, 50, 50, 3), (724,))"
      ]
     },
     "execution_count": 46,
     "metadata": {
      "tags": []
     },
     "output_type": "execute_result"
    }
   ],
   "source": [
    "X_train.shape, y_train.shape"
   ]
  },
  {
   "cell_type": "code",
   "execution_count": 53,
   "metadata": {
    "colab": {},
    "colab_type": "code",
    "id": "PkAYQ8Se8TC3"
   },
   "outputs": [],
   "source": [
    "def display(img):\n",
    "  plt.imshow(img.reshape(50,50,3))\n",
    "  plt.show()"
   ]
  },
  {
   "cell_type": "code",
   "execution_count": 45,
   "metadata": {
    "colab": {
     "base_uri": "https://localhost:8080/",
     "height": 284
    },
    "colab_type": "code",
    "id": "GaCYQzIv8g0M",
    "outputId": "a5e0dc1f-cf04-4567-fb66-882a2d547272"
   },
   "outputs": [
    {
     "data": {
      "image/png": "[encoded data removed]",
      "text/plain": [
       "<Figure size 432x288 with 1 Axes>"
      ]
     },
     "metadata": {
      "needs_background": "light",
      "tags": []
     },
     "output_type": "display_data"
    },
    {
     "name": "stdout",
     "output_type": "stream",
     "text": [
      "2\n"
     ]
    }
   ],
   "source": [
    "display(X_train[677])\n",
    "print(y_train[677])"
   ]
  },
  {
   "cell_type": "code",
   "execution_count": 48,
   "metadata": {
    "colab": {},
    "colab_type": "code",
    "id": "5QQbVtKn8kQi"
   },
   "outputs": [],
   "source": [
    "X_train = X_train.reshape(X_train.shape[0], -1)"
   ]
  },
  {
   "cell_type": "code",
   "execution_count": 49,
   "metadata": {
    "colab": {
     "base_uri": "https://localhost:8080/",
     "height": 34
    },
    "colab_type": "code",
    "id": "GQRQpCPo9Qhd",
    "outputId": "98b32273-2d36-4128-faf8-a34bca6ea859"
   },
   "outputs": [
    {
     "data": {
      "text/plain": [
       "(724, 7500)"
      ]
     },
     "execution_count": 49,
     "metadata": {
      "tags": []
     },
     "output_type": "execute_result"
    }
   ],
   "source": [
    "X_train.shape"
   ]
  },
  {
   "cell_type": "code",
   "execution_count": 55,
   "metadata": {
    "colab": {
     "base_uri": "https://localhost:8080/",
     "height": 284
    },
    "colab_type": "code",
    "id": "TqynjYKf9WzA",
    "outputId": "e54bfa25-0d36-4635-d6ba-6fd41ae468cc"
   },
   "outputs": [
    {
     "data": {
      "image/png": "[encoded data removed]",
      "text/plain": [
       "<Figure size 432x288 with 1 Axes>"
      ]
     },
     "metadata": {
      "needs_background": "light",
      "tags": []
     },
     "output_type": "display_data"
    },
    {
     "data": {
      "text/plain": [
       "3"
      ]
     },
     "execution_count": 55,
     "metadata": {
      "tags": []
     },
     "output_type": "execute_result"
    }
   ],
   "source": [
    "display(X_train[444])\n",
    "y_train[444]"
   ]
  },
  {
   "cell_type": "markdown",
   "metadata": {
    "colab_type": "text",
    "id": "8CX2aDn5926D"
   },
   "source": [
    "# Load Test Images"
   ]
  },
  {
   "cell_type": "code",
   "execution_count": 56,
   "metadata": {
    "colab": {
     "base_uri": "https://localhost:8080/",
     "height": 85
    },
    "colab_type": "code",
    "id": "3jLUU2Ev9dgu",
    "outputId": "9fbb97c3-d9e0-45d2-b5ee-8fa0d9f8f06f"
   },
   "outputs": [
    {
     "name": "stdout",
     "output_type": "stream",
     "text": [
      "val_images/dogs\n",
      "val_images/cats\n",
      "val_images/humans\n",
      "val_images/horses\n"
     ]
    }
   ],
   "source": [
    "X = []\n",
    "y = []\n",
    "\n",
    "for dirc in os.listdir(\"val_images/\"):\n",
    "  p = \"val_images/\" + dirc\n",
    "  print(p)\n",
    "\n",
    "  for i in os.listdir(p):\n",
    "    img_path = os.path.join(p, i)  # p + \"/\" + i\n",
    "\n",
    "\n",
    "    img = image.load_img(img_path, target_size = (50,50))\n",
    "    img = image.img_to_array(img)/255. # images [0, 1]\n",
    "\n",
    "    X.append(img)\n",
    "\n",
    "    y.append(dic[dirc])"
   ]
  },
  {
   "cell_type": "code",
   "execution_count": 57,
   "metadata": {
    "colab": {},
    "colab_type": "code",
    "id": "xs9Ho3oy-EKY"
   },
   "outputs": [],
   "source": [
    "X_test = np.array(X)\n",
    "y_test = np.array(y)"
   ]
  },
  {
   "cell_type": "code",
   "execution_count": 58,
   "metadata": {
    "colab": {
     "base_uri": "https://localhost:8080/",
     "height": 34
    },
    "colab_type": "code",
    "id": "sa2st-8l-NY4",
    "outputId": "03f0752b-e204-4396-b282-7732e8221aca"
   },
   "outputs": [
    {
     "data": {
      "text/plain": [
       "((84, 50, 50, 3), (84,))"
      ]
     },
     "execution_count": 58,
     "metadata": {
      "tags": []
     },
     "output_type": "execute_result"
    }
   ],
   "source": [
    "X_test.shape, y_test.shape"
   ]
  },
  {
   "cell_type": "code",
   "execution_count": 59,
   "metadata": {
    "colab": {},
    "colab_type": "code",
    "id": "E7k468N--P7J"
   },
   "outputs": [],
   "source": [
    "X_test = X_test.reshape(X_test.shape[0], -1)"
   ]
  },
  {
   "cell_type": "code",
   "execution_count": 60,
   "metadata": {
    "colab": {
     "base_uri": "https://localhost:8080/",
     "height": 34
    },
    "colab_type": "code",
    "id": "0hvQ5PkC-VYG",
    "outputId": "bdbad614-36c9-416e-8152-1150a47dd4d3"
   },
   "outputs": [
    {
     "data": {
      "text/plain": [
       "(84, 7500)"
      ]
     },
     "execution_count": 60,
     "metadata": {
      "tags": []
     },
     "output_type": "execute_result"
    }
   ],
   "source": [
    "X_test.shape"
   ]
  },
  {
   "cell_type": "code",
   "execution_count": 61,
   "metadata": {
    "colab": {
     "base_uri": "https://localhost:8080/",
     "height": 578
    },
    "colab_type": "code",
    "id": "XaJqLFNh-sZH",
    "outputId": "3826fad8-8684-4ec2-f0ea-b40aa300373c"
   },
   "outputs": [
    {
     "data": {
      "text/plain": [
       "array([1, 1, 1, 1, 1, 1, 1, 1, 1, 1, 1, 1, 1, 1, 1, 1, 1, 1, 1, 1, 1, 1,\n",
       "       1, 1, 1, 1, 1, 1, 1, 1, 1, 1, 1, 1, 1, 1, 1, 1, 1, 1, 1, 1, 1, 1,\n",
       "       1, 1, 1, 1, 1, 1, 1, 1, 1, 1, 1, 1, 1, 1, 1, 1, 1, 1, 1, 1, 1, 1,\n",
       "       1, 1, 1, 1, 1, 1, 1, 1, 1, 1, 1, 1, 1, 1, 1, 1, 1, 1, 1, 1, 1, 1,\n",
       "       1, 1, 1, 1, 1, 1, 1, 1, 1, 1, 1, 1, 1, 1, 1, 1, 1, 1, 1, 1, 1, 1,\n",
       "       1, 1, 1, 1, 1, 1, 1, 1, 1, 1, 1, 1, 1, 1, 1, 1, 1, 1, 1, 1, 1, 1,\n",
       "       1, 1, 1, 1, 1, 1, 1, 1, 1, 1, 1, 1, 1, 1, 1, 1, 1, 1, 1, 1, 1, 1,\n",
       "       1, 1, 1, 1, 1, 1, 1, 1, 1, 1, 1, 1, 1, 1, 1, 1, 1, 1, 1, 1, 1, 1,\n",
       "       1, 1, 1, 1, 1, 0, 0, 0, 0, 0, 0, 0, 0, 0, 0, 0, 0, 0, 0, 0, 0, 0,\n",
       "       0, 0, 0, 0, 0, 0, 0, 0, 0, 0, 0, 0, 0, 0, 0, 0, 0, 0, 0, 0, 0, 0,\n",
       "       0, 0, 0, 0, 0, 0, 0, 0, 0, 0, 0, 0, 0, 0, 0, 0, 0, 0, 0, 0, 0, 0,\n",
       "       0, 0, 0, 0, 0, 0, 0, 0, 0, 0, 0, 0, 0, 0, 0, 0, 0, 0, 0, 0, 0, 0,\n",
       "       0, 0, 0, 0, 0, 0, 0, 0, 0, 0, 0, 0, 0, 0, 0, 0, 0, 0, 0, 0, 0, 0,\n",
       "       0, 0, 0, 0, 0, 0, 0, 0, 0, 0, 0, 0, 0, 0, 0, 0, 0, 0, 0, 0, 0, 0,\n",
       "       0, 0, 0, 0, 0, 0, 0, 0, 0, 0, 0, 0, 0, 0, 0, 0, 0, 0, 0, 0, 0, 0,\n",
       "       0, 0, 0, 0, 0, 0, 0, 0, 0, 0, 0, 0, 0, 0, 0, 0, 0, 0, 0, 0, 0, 0,\n",
       "       0, 0, 0, 0, 0, 0, 0, 0, 0, 0, 3, 3, 3, 3, 3, 3, 3, 3, 3, 3, 3, 3,\n",
       "       3, 3, 3, 3, 3, 3, 3, 3, 3, 3, 3, 3, 3, 3, 3, 3, 3, 3, 3, 3, 3, 3,\n",
       "       3, 3, 3, 3, 3, 3, 3, 3, 3, 3, 3, 3, 3, 3, 3, 3, 3, 3, 3, 3, 3, 3,\n",
       "       3, 3, 3, 3, 3, 3, 3, 3, 3, 3, 3, 3, 3, 3, 3, 3, 3, 3, 3, 3, 3, 3,\n",
       "       3, 3, 3, 3, 3, 3, 3, 3, 3, 3, 3, 3, 3, 3, 3, 3, 3, 3, 3, 3, 3, 3,\n",
       "       3, 3, 3, 3, 3, 3, 3, 3, 3, 3, 3, 3, 3, 3, 3, 3, 3, 3, 3, 3, 3, 3,\n",
       "       3, 3, 3, 3, 3, 3, 3, 3, 3, 3, 3, 3, 3, 3, 3, 3, 3, 3, 3, 3, 3, 3,\n",
       "       3, 3, 3, 3, 3, 3, 3, 3, 3, 3, 3, 3, 3, 3, 3, 3, 3, 3, 3, 3, 3, 3,\n",
       "       3, 3, 3, 3, 3, 3, 3, 3, 3, 3, 3, 3, 3, 3, 3, 2, 2, 2, 2, 2, 2, 2,\n",
       "       2, 2, 2, 2, 2, 2, 2, 2, 2, 2, 2, 2, 2, 2, 2, 2, 2, 2, 2, 2, 2, 2,\n",
       "       2, 2, 2, 2, 2, 2, 2, 2, 2, 2, 2, 2, 2, 2, 2, 2, 2, 2, 2, 2, 2, 2,\n",
       "       2, 2, 2, 2, 2, 2, 2, 2, 2, 2, 2, 2, 2, 2, 2, 2, 2, 2, 2, 2, 2, 2,\n",
       "       2, 2, 2, 2, 2, 2, 2, 2, 2, 2, 2, 2, 2, 2, 2, 2, 2, 2, 2, 2, 2, 2,\n",
       "       2, 2, 2, 2, 2, 2, 2, 2, 2, 2, 2, 2, 2, 2, 2, 2, 2, 2, 2, 2, 2, 2,\n",
       "       2, 2, 2, 2, 2, 2, 2, 2, 2, 2, 2, 2, 2, 2, 2, 2, 2, 2, 2, 2, 2, 2,\n",
       "       2, 2, 2, 2, 2, 2, 2, 2, 2, 2, 2, 2, 2, 2, 2, 2, 2, 2, 2, 2, 2, 2,\n",
       "       2, 2, 2, 2, 2, 2, 2, 2, 2, 2, 2, 2, 2, 2, 2, 2, 2, 2, 2, 2])"
      ]
     },
     "execution_count": 61,
     "metadata": {
      "tags": []
     },
     "output_type": "execute_result"
    }
   ],
   "source": [
    "y_train"
   ]
  },
  {
   "cell_type": "markdown",
   "metadata": {
    "colab_type": "text",
    "id": "96ck4LHe_dQy"
   },
   "source": [
    "# Shuffling of Data"
   ]
  },
  {
   "cell_type": "code",
   "execution_count": 63,
   "metadata": {
    "colab": {},
    "colab_type": "code",
    "id": "TMGIiF7x_NUM"
   },
   "outputs": [],
   "source": [
    "from sklearn.utils import shuffle"
   ]
  },
  {
   "cell_type": "code",
   "execution_count": 64,
   "metadata": {
    "colab": {},
    "colab_type": "code",
    "id": "c1f2E-Fd-vb-"
   },
   "outputs": [],
   "source": [
    "X_train, y_train = shuffle(X_train, y_train, random_state = 2)"
   ]
  },
  {
   "cell_type": "code",
   "execution_count": 67,
   "metadata": {
    "colab": {},
    "colab_type": "code",
    "id": "HgIRPT2s_09x"
   },
   "outputs": [],
   "source": [
    "X_test, y_test = shuffle(X_test, y_test, random_state = 2)"
   ]
  },
  {
   "cell_type": "code",
   "execution_count": 69,
   "metadata": {
    "colab": {},
    "colab_type": "code",
    "id": "02ndN-rf_2BD"
   },
   "outputs": [],
   "source": [
    "from keras.utils import to_categorical "
   ]
  },
  {
   "cell_type": "code",
   "execution_count": 70,
   "metadata": {
    "colab": {},
    "colab_type": "code",
    "id": "zJmHJe_8ATfx"
   },
   "outputs": [],
   "source": [
    "y_train = to_categorical(y_train)\n",
    "y_test = to_categorical(y_test)"
   ]
  },
  {
   "cell_type": "code",
   "execution_count": 71,
   "metadata": {
    "colab": {
     "base_uri": "https://localhost:8080/",
     "height": 34
    },
    "colab_type": "code",
    "id": "RORX4YhABMQh",
    "outputId": "bdbf6b29-2ef6-4779-b05b-c77a7b201b85"
   },
   "outputs": [
    {
     "data": {
      "text/plain": [
       "(724, 4)"
      ]
     },
     "execution_count": 71,
     "metadata": {
      "tags": []
     },
     "output_type": "execute_result"
    }
   ],
   "source": [
    "y_train.shape"
   ]
  },
  {
   "cell_type": "code",
   "execution_count": 72,
   "metadata": {
    "colab": {
     "base_uri": "https://localhost:8080/",
     "height": 34
    },
    "colab_type": "code",
    "id": "H9qQvZWlBN0t",
    "outputId": "91f307d6-104d-43df-c567-93b9e4aa2a72"
   },
   "outputs": [
    {
     "data": {
      "text/plain": [
       "(84, 4)"
      ]
     },
     "execution_count": 72,
     "metadata": {
      "tags": []
     },
     "output_type": "execute_result"
    }
   ],
   "source": [
    "y_test.shape"
   ]
  },
  {
   "cell_type": "markdown",
   "metadata": {
    "colab_type": "text",
    "id": "yhvYRLdTBR54"
   },
   "source": [
    "# Model Building"
   ]
  },
  {
   "cell_type": "code",
   "execution_count": 116,
   "metadata": {
    "colab": {},
    "colab_type": "code",
    "id": "UpHy4mElBO9f"
   },
   "outputs": [],
   "source": [
    "from keras.models import Sequential\n",
    "from keras.layers import Dense, Dropout"
   ]
  },
  {
   "cell_type": "code",
   "execution_count": 137,
   "metadata": {
    "colab": {},
    "colab_type": "code",
    "id": "qM2Z9XhnBjz3"
   },
   "outputs": [],
   "source": [
    "model = Sequential()\n",
    "model.add( Dense(units = 256, activation = \"relu\",  input_shape = (7500,) ))\n",
    "model.add( Dropout(0.3))\n",
    "model.add( Dense(units = 128, activation = 'relu') )\n",
    "model.add( Dropout(0.2))\n",
    "model.add( Dense(units = 64, activation='relu'))\n",
    "model.add( Dropout(0.1))\n",
    "model.add( Dense(units = 64, activation='relu'))\n",
    "model.add( Dense(units = 4, activation='softmax'))"
   ]
  },
  {
   "cell_type": "code",
   "execution_count": 138,
   "metadata": {
    "colab": {
     "base_uri": "https://localhost:8080/",
     "height": 425
    },
    "colab_type": "code",
    "id": "dOmJx8f-Ct9l",
    "outputId": "8f8fa07b-25e8-4c11-a993-c8878b197c78"
   },
   "outputs": [
    {
     "name": "stdout",
     "output_type": "stream",
     "text": [
      "Model: \"sequential_7\"\n",
      "_________________________________________________________________\n",
      "Layer (type)                 Output Shape              Param #   \n",
      "=================================================================\n",
      "dense_31 (Dense)             (None, 256)               1920256   \n",
      "_________________________________________________________________\n",
      "dropout_7 (Dropout)          (None, 256)               0         \n",
      "_________________________________________________________________\n",
      "dense_32 (Dense)             (None, 128)               32896     \n",
      "_________________________________________________________________\n",
      "dropout_8 (Dropout)          (None, 128)               0         \n",
      "_________________________________________________________________\n",
      "dense_33 (Dense)             (None, 64)                8256      \n",
      "_________________________________________________________________\n",
      "dropout_9 (Dropout)          (None, 64)                0         \n",
      "_________________________________________________________________\n",
      "dense_34 (Dense)             (None, 64)                4160      \n",
      "_________________________________________________________________\n",
      "dense_35 (Dense)             (None, 4)                 260       \n",
      "=================================================================\n",
      "Total params: 1,965,828\n",
      "Trainable params: 1,965,828\n",
      "Non-trainable params: 0\n",
      "_________________________________________________________________\n"
     ]
    }
   ],
   "source": [
    "model.summary()"
   ]
  },
  {
   "cell_type": "code",
   "execution_count": 139,
   "metadata": {
    "colab": {},
    "colab_type": "code",
    "id": "pcesoWpCRZtS"
   },
   "outputs": [],
   "source": [
    "from keras.callbacks import ModelCheckpoint, EarlyStopping"
   ]
  },
  {
   "cell_type": "code",
   "execution_count": 140,
   "metadata": {
    "colab": {},
    "colab_type": "code",
    "id": "cU0gaYh3SFau"
   },
   "outputs": [],
   "source": [
    "checkpoint = ModelCheckpoint(\"./best_model.h5\", monitor='val_loss', verbose = 1, save_best_only=True, mode = 'auto')\n",
    "earlystop =  EarlyStopping(monitor='val_loss', min_delta=0.05, patience=5, verbose =1, mode=\"auto\", restore_best_weights=True)"
   ]
  },
  {
   "cell_type": "code",
   "execution_count": 141,
   "metadata": {
    "colab": {},
    "colab_type": "code",
    "id": "2iw6sUCvCwjm"
   },
   "outputs": [],
   "source": [
    "model.compile(optimizer='adam' , loss=\"categorical_crossentropy\", metrics=['accuracy'])"
   ]
  },
  {
   "cell_type": "code",
   "execution_count": 142,
   "metadata": {
    "colab": {
     "base_uri": "https://localhost:8080/",
     "height": 1000
    },
    "colab_type": "code",
    "id": "0b3KQIliEEGq",
    "outputId": "bf1a9186-6833-404a-cf7f-88d2fdc43508"
   },
   "outputs": [
    {
     "name": "stdout",
     "output_type": "stream",
     "text": [
      "Train on 724 samples, validate on 84 samples\n",
      "Epoch 1/100\n",
      "724/724 [==============================] - 0s 570us/step - loss: 1.9099 - accuracy: 0.2541 - val_loss: 1.3519 - val_accuracy: 0.3214\n",
      "\n",
      "Epoch 00001: val_loss improved from inf to 1.35188, saving model to ./best_model.h5\n",
      "Epoch 2/100\n",
      "724/724 [==============================] - 0s 294us/step - loss: 1.5116 - accuracy: 0.2528 - val_loss: 1.4424 - val_accuracy: 0.1905\n",
      "\n",
      "Epoch 00002: val_loss did not improve from 1.35188\n",
      "Epoch 3/100\n",
      "724/724 [==============================] - 0s 273us/step - loss: 1.4788 - accuracy: 0.2541 - val_loss: 1.3559 - val_accuracy: 0.2976\n",
      "\n",
      "Epoch 00003: val_loss did not improve from 1.35188\n",
      "Epoch 4/100\n",
      "724/724 [==============================] - 0s 293us/step - loss: 1.3870 - accuracy: 0.3191 - val_loss: 1.3187 - val_accuracy: 0.3929\n",
      "\n",
      "Epoch 00004: val_loss improved from 1.35188 to 1.31874, saving model to ./best_model.h5\n",
      "Epoch 5/100\n",
      "724/724 [==============================] - 0s 284us/step - loss: 1.3680 - accuracy: 0.3177 - val_loss: 1.3027 - val_accuracy: 0.3810\n",
      "\n",
      "Epoch 00005: val_loss improved from 1.31874 to 1.30270, saving model to ./best_model.h5\n",
      "Epoch 6/100\n",
      "724/724 [==============================] - 0s 273us/step - loss: 1.3461 - accuracy: 0.3398 - val_loss: 1.2737 - val_accuracy: 0.4881\n",
      "\n",
      "Epoch 00006: val_loss improved from 1.30270 to 1.27371, saving model to ./best_model.h5\n",
      "Epoch 7/100\n",
      "724/724 [==============================] - 0s 292us/step - loss: 1.3257 - accuracy: 0.3702 - val_loss: 1.2452 - val_accuracy: 0.5119\n",
      "\n",
      "Epoch 00007: val_loss improved from 1.27371 to 1.24524, saving model to ./best_model.h5\n",
      "Epoch 8/100\n",
      "724/724 [==============================] - 0s 282us/step - loss: 1.2919 - accuracy: 0.3743 - val_loss: 1.2272 - val_accuracy: 0.4286\n",
      "\n",
      "Epoch 00008: val_loss improved from 1.24524 to 1.22717, saving model to ./best_model.h5\n",
      "Epoch 9/100\n",
      "724/724 [==============================] - 0s 282us/step - loss: 1.2615 - accuracy: 0.3978 - val_loss: 1.2449 - val_accuracy: 0.4405\n",
      "\n",
      "Epoch 00009: val_loss did not improve from 1.22717\n",
      "Epoch 10/100\n",
      "724/724 [==============================] - 0s 282us/step - loss: 1.2397 - accuracy: 0.4144 - val_loss: 1.1383 - val_accuracy: 0.4762\n",
      "\n",
      "Epoch 00010: val_loss improved from 1.22717 to 1.13830, saving model to ./best_model.h5\n",
      "Epoch 11/100\n",
      "724/724 [==============================] - 0s 289us/step - loss: 1.2098 - accuracy: 0.4213 - val_loss: 1.2395 - val_accuracy: 0.3690\n",
      "\n",
      "Epoch 00011: val_loss did not improve from 1.13830\n",
      "Epoch 12/100\n",
      "724/724 [==============================] - 0s 286us/step - loss: 1.2541 - accuracy: 0.4282 - val_loss: 1.1470 - val_accuracy: 0.4762\n",
      "\n",
      "Epoch 00012: val_loss did not improve from 1.13830\n",
      "Epoch 13/100\n",
      "724/724 [==============================] - 0s 301us/step - loss: 1.1981 - accuracy: 0.4461 - val_loss: 1.0519 - val_accuracy: 0.5357\n",
      "\n",
      "Epoch 00013: val_loss improved from 1.13830 to 1.05188, saving model to ./best_model.h5\n",
      "Epoch 14/100\n",
      "724/724 [==============================] - 0s 280us/step - loss: 1.1424 - accuracy: 0.4613 - val_loss: 1.0483 - val_accuracy: 0.5952\n",
      "\n",
      "Epoch 00014: val_loss improved from 1.05188 to 1.04833, saving model to ./best_model.h5\n",
      "Epoch 15/100\n",
      "724/724 [==============================] - 0s 285us/step - loss: 1.1151 - accuracy: 0.4682 - val_loss: 1.1579 - val_accuracy: 0.5238\n",
      "\n",
      "Epoch 00015: val_loss did not improve from 1.04833\n",
      "Epoch 16/100\n",
      "724/724 [==============================] - 0s 282us/step - loss: 1.2263 - accuracy: 0.4130 - val_loss: 1.1718 - val_accuracy: 0.4881\n",
      "\n",
      "Epoch 00016: val_loss did not improve from 1.04833\n",
      "Epoch 17/100\n",
      "724/724 [==============================] - 0s 298us/step - loss: 1.1658 - accuracy: 0.4627 - val_loss: 1.1430 - val_accuracy: 0.5119\n",
      "\n",
      "Epoch 00017: val_loss did not improve from 1.04833\n",
      "Epoch 18/100\n",
      "724/724 [==============================] - 0s 284us/step - loss: 1.1296 - accuracy: 0.4475 - val_loss: 1.0197 - val_accuracy: 0.5833\n",
      "\n",
      "Epoch 00018: val_loss improved from 1.04833 to 1.01973, saving model to ./best_model.h5\n",
      "Restoring model weights from the end of the best epoch\n",
      "Epoch 00018: early stopping\n"
     ]
    }
   ],
   "source": [
    "hist = model.fit(x= X_train, y = y_train, batch_size = 32, epochs = 100, validation_data=(X_test, y_test), callbacks=[checkpoint, earlystop])"
   ]
  },
  {
   "cell_type": "code",
   "execution_count": 143,
   "metadata": {
    "colab": {},
    "colab_type": "code",
    "id": "CdRsJ38jGy7K"
   },
   "outputs": [],
   "source": [
    "history  = hist.history"
   ]
  },
  {
   "cell_type": "code",
   "execution_count": 144,
   "metadata": {
    "colab": {
     "base_uri": "https://localhost:8080/",
     "height": 265
    },
    "colab_type": "code",
    "id": "8A-NSYSSE-_x",
    "outputId": "68c5afa4-5983-4762-dfae-e8bc83da0715"
   },
   "outputs": [
    {
     "data": {
      "image/png": "[encoded data removed]",
      "text/plain": [
       "<Figure size 432x288 with 1 Axes>"
      ]
     },
     "metadata": {
      "needs_background": "light",
      "tags": []
     },
     "output_type": "display_data"
    }
   ],
   "source": [
    "plt.plot(history['accuracy'])\n",
    "plt.plot(history['val_accuracy'])\n",
    "plt.show()"
   ]
  },
  {
   "cell_type": "code",
   "execution_count": 145,
   "metadata": {
    "colab": {
     "base_uri": "https://localhost:8080/",
     "height": 265
    },
    "colab_type": "code",
    "id": "-Y84iD9nHVxx",
    "outputId": "5acdefb0-20ec-428e-d28e-c3b8b14c5c61"
   },
   "outputs": [
    {
     "data": {
      "image/png": "[encoded data removed]",
      "text/plain": [
       "<Figure size 432x288 with 1 Axes>"
      ]
     },
     "metadata": {
      "needs_background": "light",
      "tags": []
     },
     "output_type": "display_data"
    }
   ],
   "source": [
    "plt.plot(history['loss'])\n",
    "plt.plot(history['val_loss'])\n",
    "plt.show()"
   ]
  },
  {
   "cell_type": "code",
   "execution_count": 146,
   "metadata": {
    "colab": {
     "base_uri": "https://localhost:8080/",
     "height": 51
    },
    "colab_type": "code",
    "id": "Vdv4ANnRHjUF",
    "outputId": "a2ecae5f-4d56-4ca4-965f-0e97e6d0d57e"
   },
   "outputs": [
    {
     "name": "stdout",
     "output_type": "stream",
     "text": [
      "84/84 [==============================] - 0s 187us/step\n"
     ]
    },
    {
     "data": {
      "text/plain": [
       "[1.0518849747521537, 0.5357142686843872]"
      ]
     },
     "execution_count": 146,
     "metadata": {
      "tags": []
     },
     "output_type": "execute_result"
    }
   ],
   "source": [
    "model.evaluate(X_test, y_test)"
   ]
  },
  {
   "cell_type": "markdown",
   "metadata": {
    "colab_type": "text",
    "id": "TvnxD3JhIIDF"
   },
   "source": [
    "# Predict for One Image"
   ]
  },
  {
   "cell_type": "code",
   "execution_count": 105,
   "metadata": {
    "colab": {
     "base_uri": "https://localhost:8080/",
     "height": 267
    },
    "colab_type": "code",
    "id": "TL8OhE3PIHAk",
    "outputId": "11dfe076-1205-4794-e8ad-84a58fd19b36"
   },
   "outputs": [
    {
     "data": {
      "image/png": "[encoded data removed]",
      "text/plain": [
       "<Figure size 432x288 with 1 Axes>"
      ]
     },
     "metadata": {
      "needs_background": "light",
      "tags": []
     },
     "output_type": "display_data"
    }
   ],
   "source": [
    "display(X_test[13])"
   ]
  },
  {
   "cell_type": "code",
   "execution_count": 106,
   "metadata": {
    "colab": {
     "base_uri": "https://localhost:8080/",
     "height": 34
    },
    "colab_type": "code",
    "id": "fC9VonqWH9Ib",
    "outputId": "2b07934f-1913-46d4-b646-75d41bde0f58"
   },
   "outputs": [
    {
     "data": {
      "text/plain": [
       "array([0])"
      ]
     },
     "execution_count": 106,
     "metadata": {
      "tags": []
     },
     "output_type": "execute_result"
    }
   ],
   "source": [
    "model.predict_classes(X_test[13].reshape(1, -1))"
   ]
  },
  {
   "cell_type": "markdown",
   "metadata": {
    "colab_type": "text",
    "id": "JWm506jCJYZM"
   },
   "source": [
    "# Predict for External Images"
   ]
  },
  {
   "cell_type": "code",
   "execution_count": 107,
   "metadata": {
    "colab": {},
    "colab_type": "code",
    "id": "C-Qgfo9ZIDT-"
   },
   "outputs": [],
   "source": [
    "test_img = image.load_img(\"cat.jpg\", target_size=(50,50))\n",
    "test_img = image.img_to_array(test_img)/255.\n",
    "test_img = test_img.reshape(1 , -1)"
   ]
  },
  {
   "cell_type": "code",
   "execution_count": 108,
   "metadata": {
    "colab": {
     "base_uri": "https://localhost:8080/",
     "height": 34
    },
    "colab_type": "code",
    "id": "7m9xWfn5Jvkf",
    "outputId": "c7cef472-37f9-4156-d241-60454d6e9e24"
   },
   "outputs": [
    {
     "data": {
      "text/plain": [
       "array([1])"
      ]
     },
     "execution_count": 108,
     "metadata": {
      "tags": []
     },
     "output_type": "execute_result"
    }
   ],
   "source": [
    "model.predict_classes(test_img)"
   ]
  },
  {
   "cell_type": "code",
   "execution_count": 112,
   "metadata": {
    "colab": {},
    "colab_type": "code",
    "id": "V--AQrGFJzCt"
   },
   "outputs": [],
   "source": [
    "#model.save(\"best_model.h5\")"
   ]
  },
  {
   "cell_type": "code",
   "execution_count": 111,
   "metadata": {
    "colab": {},
    "colab_type": "code",
    "id": "NfCWOgkkJ7E8"
   },
   "outputs": [],
   "source": []
  },
  {
   "cell_type": "code",
   "execution_count": 113,
   "metadata": {
    "colab": {},
    "colab_type": "code",
    "id": "f4nmKRsQKcJj"
   },
   "outputs": [],
   "source": [
    "from keras.models import load_model"
   ]
  },
  {
   "cell_type": "code",
   "execution_count": 131,
   "metadata": {
    "colab": {},
    "colab_type": "code",
    "id": "SSWcDtKNLVOw"
   },
   "outputs": [],
   "source": [
    "m1 = load_model(\"best_model.h5\")"
   ]
  },
  {
   "cell_type": "code",
   "execution_count": 132,
   "metadata": {
    "colab": {
     "base_uri": "https://localhost:8080/",
     "height": 425
    },
    "colab_type": "code",
    "id": "7ErB4p5QLZhv",
    "outputId": "420825b0-f5db-4d82-86de-fe41d1c54e62"
   },
   "outputs": [
    {
     "name": "stdout",
     "output_type": "stream",
     "text": [
      "Model: \"sequential_6\"\n",
      "_________________________________________________________________\n",
      "Layer (type)                 Output Shape              Param #   \n",
      "=================================================================\n",
      "dense_26 (Dense)             (None, 256)               1920256   \n",
      "_________________________________________________________________\n",
      "dropout_4 (Dropout)          (None, 256)               0         \n",
      "_________________________________________________________________\n",
      "dense_27 (Dense)             (None, 128)               32896     \n",
      "_________________________________________________________________\n",
      "dropout_5 (Dropout)          (None, 128)               0         \n",
      "_________________________________________________________________\n",
      "dense_28 (Dense)             (None, 64)                8256      \n",
      "_________________________________________________________________\n",
      "dropout_6 (Dropout)          (None, 64)                0         \n",
      "_________________________________________________________________\n",
      "dense_29 (Dense)             (None, 64)                4160      \n",
      "_________________________________________________________________\n",
      "dense_30 (Dense)             (None, 4)                 260       \n",
      "=================================================================\n",
      "Total params: 1,965,828\n",
      "Trainable params: 1,965,828\n",
      "Non-trainable params: 0\n",
      "_________________________________________________________________\n"
     ]
    }
   ],
   "source": [
    "m1.summary()"
   ]
  },
  {
   "cell_type": "code",
   "execution_count": 133,
   "metadata": {
    "colab": {
     "base_uri": "https://localhost:8080/",
     "height": 51
    },
    "colab_type": "code",
    "id": "51yU04IcLiuC",
    "outputId": "22d6e5c5-ce66-4235-eb6c-8efbeb328565"
   },
   "outputs": [
    {
     "name": "stdout",
     "output_type": "stream",
     "text": [
      "84/84 [==============================] - 0s 655us/step\n"
     ]
    },
    {
     "data": {
      "text/plain": [
       "[0.9900131253969102, 0.5714285969734192]"
      ]
     },
     "execution_count": 133,
     "metadata": {
      "tags": []
     },
     "output_type": "execute_result"
    }
   ],
   "source": [
    "m1.evaluate(X_test, y_test)"
   ]
  },
  {
   "cell_type": "code",
   "execution_count": 134,
   "metadata": {
    "colab": {},
    "colab_type": "code",
    "id": "i7ozxFlTUEPc"
   },
   "outputs": [],
   "source": [
    "test_img = image.load_img(\"cat.jpg\", target_size=(50,50))\n",
    "test_img = image.img_to_array(test_img)/255.\n",
    "test_img = test_img.reshape(1 , -1)"
   ]
  },
  {
   "cell_type": "code",
   "execution_count": 135,
   "metadata": {
    "colab": {
     "base_uri": "https://localhost:8080/",
     "height": 34
    },
    "colab_type": "code",
    "id": "In_VB6VzUS3d",
    "outputId": "70c666c1-206a-4633-ad98-69c7ef92f018"
   },
   "outputs": [
    {
     "data": {
      "text/plain": [
       "array([1])"
      ]
     },
     "execution_count": 135,
     "metadata": {
      "tags": []
     },
     "output_type": "execute_result"
    }
   ],
   "source": [
    "m1.predict_classes(test_img)"
   ]
  },
  {
   "cell_type": "code",
   "execution_count": null,
   "metadata": {
    "colab": {},
    "colab_type": "code",
    "id": "IV7IiY85UWL6"
   },
   "outputs": [],
   "source": []
  }
 ],
 "metadata": {
  "accelerator": "GPU",
  "colab": {
   "name": "Image Classification",
   "provenance": []
  },
  "kernelspec": {
   "display_name": "Python 3",
   "language": "python",
   "name": "python3"
  },
  "language_info": {
   "codemirror_mode": {
    "name": "ipython",
    "version": 3
   },
   "file_extension": ".py",
   "mimetype": "text/x-python",
   "name": "python",
   "nbconvert_exporter": "python",
   "pygments_lexer": "ipython3",
   "version": "3.7.4"
  }
 },
 "nbformat": 4,
 "nbformat_minor": 1
}
