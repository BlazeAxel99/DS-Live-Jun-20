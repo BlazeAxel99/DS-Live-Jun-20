{
 "cells": [
  {
   "cell_type": "code",
   "execution_count": 38,
   "metadata": {
    "colab": {},
    "colab_type": "code",
    "id": "t-lU7mBsIVbH"
   },
   "outputs": [],
   "source": [
    "import numpy as np\n",
    "import keras\n",
    "from keras.datasets import mnist\n",
    "import matplotlib.pyplot as plt"
   ]
  },
  {
   "cell_type": "code",
   "execution_count": 39,
   "metadata": {
    "colab": {},
    "colab_type": "code",
    "id": "NXEdIRdlIxqg"
   },
   "outputs": [],
   "source": [
    "(x_train, y_train), (x_test, y_test) = mnist.load_data()"
   ]
  },
  {
   "cell_type": "code",
   "execution_count": 40,
   "metadata": {
    "colab": {
     "base_uri": "https://localhost:8080/",
     "height": 34
    },
    "colab_type": "code",
    "id": "jBZ_1XbLJSQc",
    "outputId": "d78d8752-01b1-497a-f624-2eaf10f2bf20"
   },
   "outputs": [
    {
     "data": {
      "text/plain": [
       "(60000, 28, 28)"
      ]
     },
     "execution_count": 40,
     "metadata": {
      "tags": []
     },
     "output_type": "execute_result"
    }
   ],
   "source": [
    "x_train.shape"
   ]
  },
  {
   "cell_type": "code",
   "execution_count": 41,
   "metadata": {
    "colab": {
     "base_uri": "https://localhost:8080/",
     "height": 34
    },
    "colab_type": "code",
    "id": "cGT0n2VVJgMi",
    "outputId": "7607f6c6-f41d-43e5-fe40-b48888c596af"
   },
   "outputs": [
    {
     "data": {
      "text/plain": [
       "(60000,)"
      ]
     },
     "execution_count": 41,
     "metadata": {
      "tags": []
     },
     "output_type": "execute_result"
    }
   ],
   "source": [
    "y_train.shape"
   ]
  },
  {
   "cell_type": "code",
   "execution_count": 42,
   "metadata": {
    "colab": {
     "base_uri": "https://localhost:8080/",
     "height": 34
    },
    "colab_type": "code",
    "id": "MvTGWOBVJiL1",
    "outputId": "8fb484bf-e40c-4301-8d34-a3d935984514"
   },
   "outputs": [
    {
     "data": {
      "text/plain": [
       "(10000, 28, 28)"
      ]
     },
     "execution_count": 42,
     "metadata": {
      "tags": []
     },
     "output_type": "execute_result"
    }
   ],
   "source": [
    "x_test.shape"
   ]
  },
  {
   "cell_type": "code",
   "execution_count": 43,
   "metadata": {
    "colab": {},
    "colab_type": "code",
    "id": "bSySLzshLfu6"
   },
   "outputs": [],
   "source": [
    "x_train = x_train.reshape(-1, 784)\n",
    "x_test = x_test.reshape(-1, 784)"
   ]
  },
  {
   "cell_type": "code",
   "execution_count": 44,
   "metadata": {
    "colab": {
     "base_uri": "https://localhost:8080/",
     "height": 34
    },
    "colab_type": "code",
    "id": "wB-xCeUoLtIh",
    "outputId": "436914b9-8d49-4025-ef4d-9f4f1bfb0341"
   },
   "outputs": [
    {
     "data": {
      "text/plain": [
       "(60000, 784)"
      ]
     },
     "execution_count": 44,
     "metadata": {
      "tags": []
     },
     "output_type": "execute_result"
    }
   ],
   "source": [
    "x_train.shape"
   ]
  },
  {
   "cell_type": "markdown",
   "metadata": {
    "colab_type": "text",
    "id": "z80XcgcjJqhp"
   },
   "source": [
    "# Create Model"
   ]
  },
  {
   "cell_type": "code",
   "execution_count": 45,
   "metadata": {
    "colab": {},
    "colab_type": "code",
    "id": "kdtTnff9Jofg"
   },
   "outputs": [],
   "source": [
    "from keras.models import Sequential\n",
    "from keras.layers import Dense"
   ]
  },
  {
   "cell_type": "code",
   "execution_count": 46,
   "metadata": {
    "colab": {},
    "colab_type": "code",
    "id": "4fHgVAUaJli0"
   },
   "outputs": [],
   "source": [
    "model = Sequential()"
   ]
  },
  {
   "cell_type": "code",
   "execution_count": 47,
   "metadata": {
    "colab": {},
    "colab_type": "code",
    "id": "iYomas2iKWW8"
   },
   "outputs": [],
   "source": [
    "model.add( Dense(units = 128, activation = \"relu\",  input_shape = (784,) ))\n",
    "model.add( Dense(units = 128, activation = 'relu') )\n",
    "model.add( Dense(units = 128, activation='relu'))\n",
    "model.add( Dense(units = 64, activation='relu'))\n",
    "model.add( Dense(units = 10, activation='softmax'))"
   ]
  },
  {
   "cell_type": "code",
   "execution_count": 48,
   "metadata": {
    "colab": {
     "base_uri": "https://localhost:8080/",
     "height": 323
    },
    "colab_type": "code",
    "id": "3-CB4ytyOfx7",
    "outputId": "baf2c64b-283e-497f-d248-d4d1568e300c"
   },
   "outputs": [
    {
     "name": "stdout",
     "output_type": "stream",
     "text": [
      "Model: \"sequential_2\"\n",
      "_________________________________________________________________\n",
      "Layer (type)                 Output Shape              Param #   \n",
      "=================================================================\n",
      "dense_6 (Dense)              (None, 128)               100480    \n",
      "_________________________________________________________________\n",
      "dense_7 (Dense)              (None, 128)               16512     \n",
      "_________________________________________________________________\n",
      "dense_8 (Dense)              (None, 128)               16512     \n",
      "_________________________________________________________________\n",
      "dense_9 (Dense)              (None, 64)                8256      \n",
      "_________________________________________________________________\n",
      "dense_10 (Dense)             (None, 10)                650       \n",
      "=================================================================\n",
      "Total params: 142,410\n",
      "Trainable params: 142,410\n",
      "Non-trainable params: 0\n",
      "_________________________________________________________________\n"
     ]
    }
   ],
   "source": [
    "model.summary()"
   ]
  },
  {
   "cell_type": "code",
   "execution_count": 49,
   "metadata": {
    "colab": {},
    "colab_type": "code",
    "id": "Dy6BwFJIOh5B"
   },
   "outputs": [],
   "source": [
    "# model compilation\n",
    "model.compile(optimizer=\"adam\", loss=\"categorical_crossentropy\", metrics=['accuracy'])"
   ]
  },
  {
   "cell_type": "code",
   "execution_count": 50,
   "metadata": {
    "colab": {
     "base_uri": "https://localhost:8080/",
     "height": 51
    },
    "colab_type": "code",
    "id": "foPdI7ZuP6QD",
    "outputId": "2a95f54a-89af-4003-831a-7539d311fc39"
   },
   "outputs": [
    {
     "data": {
      "text/plain": [
       "array([5, 0, 4, 1, 9, 2, 1, 3, 1, 4, 3, 5, 3, 6, 1, 7, 2, 8, 6, 9, 4, 0,\n",
       "       9, 1, 1, 2, 4, 3, 2, 7, 3, 8, 6, 9, 0, 5, 6, 0, 7, 6], dtype=uint8)"
      ]
     },
     "execution_count": 50,
     "metadata": {
      "tags": []
     },
     "output_type": "execute_result"
    }
   ],
   "source": [
    "y_train[:40]"
   ]
  },
  {
   "cell_type": "code",
   "execution_count": 51,
   "metadata": {
    "colab": {},
    "colab_type": "code",
    "id": "rMa99mxqQAFf"
   },
   "outputs": [],
   "source": [
    "from keras.utils import to_categorical"
   ]
  },
  {
   "cell_type": "code",
   "execution_count": 52,
   "metadata": {
    "colab": {
     "base_uri": "https://localhost:8080/",
     "height": 34
    },
    "colab_type": "code",
    "id": "Nf4rr88rQ1Gu",
    "outputId": "ddb395d2-e9e5-4015-bc62-f460acf574fe"
   },
   "outputs": [
    {
     "data": {
      "text/plain": [
       "(60000,)"
      ]
     },
     "execution_count": 52,
     "metadata": {
      "tags": []
     },
     "output_type": "execute_result"
    }
   ],
   "source": [
    "y_train.shape"
   ]
  },
  {
   "cell_type": "code",
   "execution_count": 53,
   "metadata": {
    "colab": {
     "base_uri": "https://localhost:8080/",
     "height": 34
    },
    "colab_type": "code",
    "id": "OQk2WyL5Q3Gu",
    "outputId": "7acdb556-7079-4cb8-800a-91c5a5af85a8"
   },
   "outputs": [
    {
     "data": {
      "text/plain": [
       "(60000, 10)"
      ]
     },
     "execution_count": 53,
     "metadata": {
      "tags": []
     },
     "output_type": "execute_result"
    }
   ],
   "source": [
    "y_train = to_categorical(y_train)\n",
    "y_train.shape"
   ]
  },
  {
   "cell_type": "code",
   "execution_count": 54,
   "metadata": {
    "colab": {
     "base_uri": "https://localhost:8080/",
     "height": 34
    },
    "colab_type": "code",
    "id": "LQ7aK5ZpQ_Jj",
    "outputId": "ebf66bcc-f72a-45c1-be22-48a48a0f6d30"
   },
   "outputs": [
    {
     "data": {
      "text/plain": [
       "(10000, 10)"
      ]
     },
     "execution_count": 54,
     "metadata": {
      "tags": []
     },
     "output_type": "execute_result"
    }
   ],
   "source": [
    "y_test = to_categorical(y_test)\n",
    "y_test.shape"
   ]
  },
  {
   "cell_type": "code",
   "execution_count": 55,
   "metadata": {
    "colab": {
     "base_uri": "https://localhost:8080/",
     "height": 884
    },
    "colab_type": "code",
    "id": "WcwErcZnRVay",
    "outputId": "24850339-2735-4116-c31d-a8f14ac771fd"
   },
   "outputs": [
    {
     "name": "stdout",
     "output_type": "stream",
     "text": [
      "Train on 48000 samples, validate on 12000 samples\n",
      "Epoch 1/25\n",
      "48000/48000 [==============================] - 6s 124us/step - loss: 0.6604 - accuracy: 0.8656 - val_loss: 0.2590 - val_accuracy: 0.9294\n",
      "Epoch 2/25\n",
      "48000/48000 [==============================] - 5s 113us/step - loss: 0.2083 - accuracy: 0.9402 - val_loss: 0.1703 - val_accuracy: 0.9497\n",
      "Epoch 3/25\n",
      "48000/48000 [==============================] - 6s 115us/step - loss: 0.1586 - accuracy: 0.9544 - val_loss: 0.1655 - val_accuracy: 0.9549\n",
      "Epoch 4/25\n",
      "48000/48000 [==============================] - 5s 114us/step - loss: 0.1325 - accuracy: 0.9614 - val_loss: 0.1429 - val_accuracy: 0.9622\n",
      "Epoch 5/25\n",
      "48000/48000 [==============================] - 5s 112us/step - loss: 0.1143 - accuracy: 0.9668 - val_loss: 0.1310 - val_accuracy: 0.9639\n",
      "Epoch 6/25\n",
      "48000/48000 [==============================] - 5s 112us/step - loss: 0.1008 - accuracy: 0.9710 - val_loss: 0.1246 - val_accuracy: 0.9672\n",
      "Epoch 7/25\n",
      "48000/48000 [==============================] - 6s 117us/step - loss: 0.0920 - accuracy: 0.9742 - val_loss: 0.1831 - val_accuracy: 0.9545\n",
      "Epoch 8/25\n",
      "48000/48000 [==============================] - 5s 113us/step - loss: 0.0764 - accuracy: 0.9779 - val_loss: 0.1429 - val_accuracy: 0.9656\n",
      "Epoch 9/25\n",
      "48000/48000 [==============================] - 5s 113us/step - loss: 0.0754 - accuracy: 0.9796 - val_loss: 0.1376 - val_accuracy: 0.9668\n",
      "Epoch 10/25\n",
      "48000/48000 [==============================] - 5s 112us/step - loss: 0.0663 - accuracy: 0.9818 - val_loss: 0.1624 - val_accuracy: 0.9638\n",
      "Epoch 11/25\n",
      "48000/48000 [==============================] - 5s 111us/step - loss: 0.0689 - accuracy: 0.9816 - val_loss: 0.2057 - val_accuracy: 0.9537\n",
      "Epoch 12/25\n",
      "48000/48000 [==============================] - 5s 113us/step - loss: 0.0645 - accuracy: 0.9830 - val_loss: 0.1768 - val_accuracy: 0.9569\n",
      "Epoch 13/25\n",
      "48000/48000 [==============================] - 6s 116us/step - loss: 0.0508 - accuracy: 0.9854 - val_loss: 0.1505 - val_accuracy: 0.9693\n",
      "Epoch 14/25\n",
      "48000/48000 [==============================] - 5s 113us/step - loss: 0.0502 - accuracy: 0.9866 - val_loss: 0.1501 - val_accuracy: 0.9695\n",
      "Epoch 15/25\n",
      "48000/48000 [==============================] - 5s 113us/step - loss: 0.0494 - accuracy: 0.9870 - val_loss: 0.1442 - val_accuracy: 0.9712\n",
      "Epoch 16/25\n",
      "48000/48000 [==============================] - 5s 112us/step - loss: 0.0535 - accuracy: 0.9869 - val_loss: 0.1752 - val_accuracy: 0.9663\n",
      "Epoch 17/25\n",
      "48000/48000 [==============================] - 5s 113us/step - loss: 0.0469 - accuracy: 0.9889 - val_loss: 0.1511 - val_accuracy: 0.9709\n",
      "Epoch 18/25\n",
      "48000/48000 [==============================] - 6s 115us/step - loss: 0.0433 - accuracy: 0.9895 - val_loss: 0.1671 - val_accuracy: 0.9704\n",
      "Epoch 19/25\n",
      "48000/48000 [==============================] - 5s 113us/step - loss: 0.0491 - accuracy: 0.9883 - val_loss: 0.1791 - val_accuracy: 0.9710\n",
      "Epoch 20/25\n",
      "48000/48000 [==============================] - 6s 115us/step - loss: 0.0432 - accuracy: 0.9895 - val_loss: 0.1703 - val_accuracy: 0.9715\n",
      "Epoch 21/25\n",
      "48000/48000 [==============================] - 5s 113us/step - loss: 0.0450 - accuracy: 0.9895 - val_loss: 0.1842 - val_accuracy: 0.9687\n",
      "Epoch 22/25\n",
      "48000/48000 [==============================] - 5s 108us/step - loss: 0.0408 - accuracy: 0.9905 - val_loss: 0.1563 - val_accuracy: 0.9734\n",
      "Epoch 23/25\n",
      "48000/48000 [==============================] - 5s 110us/step - loss: 0.0367 - accuracy: 0.9917 - val_loss: 0.2053 - val_accuracy: 0.9660\n",
      "Epoch 24/25\n",
      "48000/48000 [==============================] - 5s 111us/step - loss: 0.0384 - accuracy: 0.9904 - val_loss: 0.2224 - val_accuracy: 0.9609\n",
      "Epoch 25/25\n",
      "48000/48000 [==============================] - 5s 112us/step - loss: 0.0329 - accuracy: 0.9926 - val_loss: 0.1628 - val_accuracy: 0.9754\n"
     ]
    }
   ],
   "source": [
    "hist = model.fit(x= x_train, y = y_train, batch_size=32, epochs=25, validation_split=0.2, shuffle=True)"
   ]
  },
  {
   "cell_type": "code",
   "execution_count": 58,
   "metadata": {
    "colab": {
     "base_uri": "https://localhost:8080/",
     "height": 265
    },
    "colab_type": "code",
    "id": "n9XLP4aWUd1R",
    "outputId": "8918d780-ba3f-4218-f1aa-48ecbb6ca890"
   },
   "outputs": [
    {
     "data": {
      "image/png": "[encoded data removed]",
      "text/plain": [
       "<Figure size 432x288 with 1 Axes>"
      ]
     },
     "metadata": {
      "needs_background": "light",
      "tags": []
     },
     "output_type": "display_data"
    }
   ],
   "source": [
    "history = hist.history\n",
    "\n",
    "plt.plot(history['accuracy'])\n",
    "plt.plot(history['val_accuracy'])\n",
    "plt.show()"
   ]
  },
  {
   "cell_type": "code",
   "execution_count": 59,
   "metadata": {
    "colab": {
     "base_uri": "https://localhost:8080/",
     "height": 265
    },
    "colab_type": "code",
    "id": "Sx00UBgTVb3n",
    "outputId": "53434339-0aa7-4e15-8df0-f21d6a525582"
   },
   "outputs": [
    {
     "data": {
      "image/png": "[encoded data removed]",
      "text/plain": [
       "<Figure size 432x288 with 1 Axes>"
      ]
     },
     "metadata": {
      "needs_background": "light",
      "tags": []
     },
     "output_type": "display_data"
    }
   ],
   "source": [
    "plt.plot(history['loss'])\n",
    "plt.plot(history['val_loss'])\n",
    "plt.show()"
   ]
  },
  {
   "cell_type": "code",
   "execution_count": 57,
   "metadata": {
    "colab": {
     "base_uri": "https://localhost:8080/",
     "height": 1000
    },
    "colab_type": "code",
    "id": "v3NlwApBU5S8",
    "outputId": "d3b2b888-d1f6-4647-bd19-3231a7facf2e"
   },
   "outputs": [
    {
     "data": {
      "text/plain": [
       "{'accuracy': [0.86560416,\n",
       "  0.9401875,\n",
       "  0.954375,\n",
       "  0.9613542,\n",
       "  0.9668125,\n",
       "  0.9710417,\n",
       "  0.9741875,\n",
       "  0.9779375,\n",
       "  0.9795833,\n",
       "  0.98183334,\n",
       "  0.98158336,\n",
       "  0.983,\n",
       "  0.9853542,\n",
       "  0.986625,\n",
       "  0.98704165,\n",
       "  0.986875,\n",
       "  0.98889583,\n",
       "  0.98954165,\n",
       "  0.9883125,\n",
       "  0.98952085,\n",
       "  0.98954165,\n",
       "  0.9904792,\n",
       "  0.9916875,\n",
       "  0.990375,\n",
       "  0.99264586],\n",
       " 'loss': [0.6603992358669639,\n",
       "  0.20831185453369594,\n",
       "  0.1585793236073417,\n",
       "  0.13253845030923064,\n",
       "  0.11430626145463127,\n",
       "  0.1008202774587941,\n",
       "  0.0920042820329351,\n",
       "  0.07642136828028985,\n",
       "  0.07542349442776564,\n",
       "  0.06631738449184922,\n",
       "  0.06894500093569514,\n",
       "  0.06445759815675653,\n",
       "  0.0507896423993152,\n",
       "  0.050176370252137836,\n",
       "  0.04944700338268255,\n",
       "  0.053519232514103954,\n",
       "  0.04689345881829831,\n",
       "  0.04325119639505283,\n",
       "  0.049142126929389934,\n",
       "  0.04321760446654507,\n",
       "  0.04496224559292447,\n",
       "  0.04082324588464826,\n",
       "  0.03665452081158163,\n",
       "  0.038393066093782444,\n",
       "  0.03293232088216284],\n",
       " 'val_accuracy': [0.9294166564941406,\n",
       "  0.9496666789054871,\n",
       "  0.9549166560173035,\n",
       "  0.9621666669845581,\n",
       "  0.9639166593551636,\n",
       "  0.9671666622161865,\n",
       "  0.9545000195503235,\n",
       "  0.965583324432373,\n",
       "  0.9668333530426025,\n",
       "  0.9638333320617676,\n",
       "  0.9536666870117188,\n",
       "  0.9569166898727417,\n",
       "  0.9692500233650208,\n",
       "  0.9695000052452087,\n",
       "  0.9712499976158142,\n",
       "  0.9663333296775818,\n",
       "  0.9709166884422302,\n",
       "  0.9704166650772095,\n",
       "  0.9710000157356262,\n",
       "  0.9714999794960022,\n",
       "  0.968666672706604,\n",
       "  0.9734166860580444,\n",
       "  0.9660000205039978,\n",
       "  0.9609166383743286,\n",
       "  0.9754166603088379],\n",
       " 'val_loss': [0.25903254057342806,\n",
       "  0.1703455173612262,\n",
       "  0.16546681348637987,\n",
       "  0.1429217530180079,\n",
       "  0.13096755856275558,\n",
       "  0.12464010462258011,\n",
       "  0.18313782258091185,\n",
       "  0.14288582736614625,\n",
       "  0.13761197591076293,\n",
       "  0.16243802986494849,\n",
       "  0.2056849133549258,\n",
       "  0.17677985605814805,\n",
       "  0.150475064467338,\n",
       "  0.15007285889685834,\n",
       "  0.14421985720295924,\n",
       "  0.17520161163589607,\n",
       "  0.15107273410778727,\n",
       "  0.1671270823788527,\n",
       "  0.17907490950996482,\n",
       "  0.17026171674246932,\n",
       "  0.1842344674914493,\n",
       "  0.1562941730393912,\n",
       "  0.2052601182894626,\n",
       "  0.22238906439921569,\n",
       "  0.1627684808043018]}"
      ]
     },
     "execution_count": 57,
     "metadata": {
      "tags": []
     },
     "output_type": "execute_result"
    }
   ],
   "source": [
    "hist.history"
   ]
  },
  {
   "cell_type": "code",
   "execution_count": 22,
   "metadata": {
    "colab": {
     "base_uri": "https://localhost:8080/",
     "height": 51
    },
    "colab_type": "code",
    "id": "ZD1hyeSYRsKI",
    "outputId": "bd6caeb0-bc93-4bf2-9388-a530681d57e2"
   },
   "outputs": [
    {
     "name": "stdout",
     "output_type": "stream",
     "text": [
      "60000/60000 [==============================] - 2s 28us/step\n"
     ]
    },
    {
     "data": {
      "text/plain": [
       "[0.059548234520348096, 0.9848333597183228]"
      ]
     },
     "execution_count": 22,
     "metadata": {
      "tags": []
     },
     "output_type": "execute_result"
    }
   ],
   "source": [
    "model.evaluate(x_train, y_train)"
   ]
  },
  {
   "cell_type": "code",
   "execution_count": 23,
   "metadata": {
    "colab": {
     "base_uri": "https://localhost:8080/",
     "height": 51
    },
    "colab_type": "code",
    "id": "du_JS77PSAVp",
    "outputId": "aa68b003-43d9-4a0d-ae17-16a06eb0e293"
   },
   "outputs": [
    {
     "name": "stdout",
     "output_type": "stream",
     "text": [
      "10000/10000 [==============================] - 0s 28us/step\n"
     ]
    },
    {
     "data": {
      "text/plain": [
       "[0.1320856559289561, 0.9718000292778015]"
      ]
     },
     "execution_count": 23,
     "metadata": {
      "tags": []
     },
     "output_type": "execute_result"
    }
   ],
   "source": [
    "model.evaluate(x_test, y_test)"
   ]
  },
  {
   "cell_type": "code",
   "execution_count": 28,
   "metadata": {
    "colab": {
     "base_uri": "https://localhost:8080/",
     "height": 282
    },
    "colab_type": "code",
    "id": "hAsslrzRSE3Y",
    "outputId": "ad006a47-f771-4a5e-868c-7219f79fe47e"
   },
   "outputs": [
    {
     "data": {
      "text/plain": [
       "<matplotlib.image.AxesImage at 0x7f22a5455ac8>"
      ]
     },
     "execution_count": 28,
     "metadata": {
      "tags": []
     },
     "output_type": "execute_result"
    },
    {
     "data": {
      "image/png": "[encoded data removed]",
      "text/plain": [
       "<Figure size 432x288 with 1 Axes>"
      ]
     },
     "metadata": {
      "needs_background": "light",
      "tags": []
     },
     "output_type": "display_data"
    }
   ],
   "source": [
    "plt.imshow(x_test[999].reshape(28,28), cmap=\"gray\")"
   ]
  },
  {
   "cell_type": "code",
   "execution_count": 37,
   "metadata": {
    "colab": {
     "base_uri": "https://localhost:8080/",
     "height": 34
    },
    "colab_type": "code",
    "id": "O16HeHDoSp8e",
    "outputId": "aec0d2f0-1ab3-42df-b3d6-4d87c1313ee2"
   },
   "outputs": [
    {
     "data": {
      "text/plain": [
       "array([9])"
      ]
     },
     "execution_count": 37,
     "metadata": {
      "tags": []
     },
     "output_type": "execute_result"
    }
   ],
   "source": [
    "model.predict_classes(x_test[999].reshape(-1, 784))"
   ]
  },
  {
   "cell_type": "code",
   "execution_count": 35,
   "metadata": {
    "colab": {},
    "colab_type": "code",
    "id": "IQBoiV83S8L1"
   },
   "outputs": [],
   "source": []
  },
  {
   "cell_type": "code",
   "execution_count": null,
   "metadata": {
    "colab": {},
    "colab_type": "code",
    "id": "1noTK2xlTIrT"
   },
   "outputs": [],
   "source": []
  }
 ],
 "metadata": {
  "colab": {
   "name": "Neural Networks",
   "provenance": []
  },
  "kernelspec": {
   "display_name": "Python 3",
   "language": "python",
   "name": "python3"
  }
 },
 "nbformat": 4,
 "nbformat_minor": 1
}
