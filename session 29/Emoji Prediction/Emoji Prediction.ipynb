{
 "cells": [
  {
   "cell_type": "code",
   "execution_count": 2,
   "metadata": {},
   "outputs": [],
   "source": [
    "#! pip install emoji"
   ]
  },
  {
   "cell_type": "code",
   "execution_count": 1,
   "metadata": {},
   "outputs": [],
   "source": [
    "import emoji\n",
    "import pandas as pd\n",
    "import numpy as np"
   ]
  },
  {
   "cell_type": "code",
   "execution_count": 2,
   "metadata": {},
   "outputs": [],
   "source": [
    "# emoji.EMOJI_UNICODE"
   ]
  },
  {
   "cell_type": "code",
   "execution_count": 3,
   "metadata": {},
   "outputs": [],
   "source": [
    "emoji_dict = {      \"0\": \"\\u2764\\uFE0F\",    \n",
    "                    \"1\": \":baseball:\",\n",
    "                    \"2\": \":beaming_face_with_smiling_eyes:\",\n",
    "                    \"3\": \":downcast_face_with_sweat:\",\n",
    "                    \"4\": \":fork_and_knife:\",\n",
    "                   }"
   ]
  },
  {
   "cell_type": "code",
   "execution_count": 4,
   "metadata": {},
   "outputs": [
    {
     "name": "stdout",
     "output_type": "stream",
     "text": [
      "❤️\n",
      "⚾\n",
      "😁\n",
      "😓\n",
      "🍴\n"
     ]
    }
   ],
   "source": [
    "for e in emoji_dict.values():\n",
    "    print(emoji.emojize(e))"
   ]
  },
  {
   "cell_type": "markdown",
   "metadata": {},
   "source": [
    "## Read Data"
   ]
  },
  {
   "cell_type": "code",
   "execution_count": 157,
   "metadata": {},
   "outputs": [],
   "source": [
    "train_data = pd.read_csv(\"train_emoji.csv\", header=None)\n",
    "test_data =  pd.read_csv(\"test_emoji.csv\", header=None)"
   ]
  },
  {
   "cell_type": "code",
   "execution_count": 158,
   "metadata": {},
   "outputs": [
    {
     "data": {
      "text/html": [
       "<div>\n",
       "<style scoped>\n",
       "    .dataframe tbody tr th:only-of-type {\n",
       "        vertical-align: middle;\n",
       "    }\n",
       "\n",
       "    .dataframe tbody tr th {\n",
       "        vertical-align: top;\n",
       "    }\n",
       "\n",
       "    .dataframe thead th {\n",
       "        text-align: right;\n",
       "    }\n",
       "</style>\n",
       "<table border=\"1\" class=\"dataframe\">\n",
       "  <thead>\n",
       "    <tr style=\"text-align: right;\">\n",
       "      <th></th>\n",
       "      <th>0</th>\n",
       "      <th>1</th>\n",
       "      <th>2</th>\n",
       "      <th>3</th>\n",
       "    </tr>\n",
       "  </thead>\n",
       "  <tbody>\n",
       "    <tr>\n",
       "      <td>0</td>\n",
       "      <td>never talk to me again</td>\n",
       "      <td>3</td>\n",
       "      <td>NaN</td>\n",
       "      <td>NaN</td>\n",
       "    </tr>\n",
       "    <tr>\n",
       "      <td>1</td>\n",
       "      <td>I am proud of your achievements</td>\n",
       "      <td>2</td>\n",
       "      <td>NaN</td>\n",
       "      <td>NaN</td>\n",
       "    </tr>\n",
       "    <tr>\n",
       "      <td>2</td>\n",
       "      <td>It is the worst day in my life</td>\n",
       "      <td>3</td>\n",
       "      <td>NaN</td>\n",
       "      <td>NaN</td>\n",
       "    </tr>\n",
       "    <tr>\n",
       "      <td>3</td>\n",
       "      <td>Miss you so much</td>\n",
       "      <td>0</td>\n",
       "      <td>NaN</td>\n",
       "      <td>[0]</td>\n",
       "    </tr>\n",
       "    <tr>\n",
       "      <td>4</td>\n",
       "      <td>food is life</td>\n",
       "      <td>4</td>\n",
       "      <td>NaN</td>\n",
       "      <td>NaN</td>\n",
       "    </tr>\n",
       "  </tbody>\n",
       "</table>\n",
       "</div>"
      ],
      "text/plain": [
       "                                 0  1   2     3\n",
       "0           never talk to me again  3 NaN   NaN\n",
       "1  I am proud of your achievements  2 NaN   NaN\n",
       "2   It is the worst day in my life  3 NaN   NaN\n",
       "3                 Miss you so much  0 NaN   [0]\n",
       "4                     food is life  4 NaN   NaN"
      ]
     },
     "execution_count": 158,
     "metadata": {},
     "output_type": "execute_result"
    }
   ],
   "source": [
    "train_data.head()"
   ]
  },
  {
   "cell_type": "code",
   "execution_count": 159,
   "metadata": {},
   "outputs": [],
   "source": [
    "train_data.drop(columns=[2, 3], inplace=True)"
   ]
  },
  {
   "cell_type": "code",
   "execution_count": 160,
   "metadata": {},
   "outputs": [],
   "source": [
    "train_data.columns = [\"Text\", 'Label']"
   ]
  },
  {
   "cell_type": "code",
   "execution_count": 161,
   "metadata": {},
   "outputs": [],
   "source": [
    "test_data.columns = ['Text', 'Label']"
   ]
  },
  {
   "cell_type": "code",
   "execution_count": 162,
   "metadata": {},
   "outputs": [
    {
     "data": {
      "text/html": [
       "<div>\n",
       "<style scoped>\n",
       "    .dataframe tbody tr th:only-of-type {\n",
       "        vertical-align: middle;\n",
       "    }\n",
       "\n",
       "    .dataframe tbody tr th {\n",
       "        vertical-align: top;\n",
       "    }\n",
       "\n",
       "    .dataframe thead th {\n",
       "        text-align: right;\n",
       "    }\n",
       "</style>\n",
       "<table border=\"1\" class=\"dataframe\">\n",
       "  <thead>\n",
       "    <tr style=\"text-align: right;\">\n",
       "      <th></th>\n",
       "      <th>Text</th>\n",
       "      <th>Label</th>\n",
       "    </tr>\n",
       "  </thead>\n",
       "  <tbody>\n",
       "    <tr>\n",
       "      <td>0</td>\n",
       "      <td>never talk to me again</td>\n",
       "      <td>3</td>\n",
       "    </tr>\n",
       "    <tr>\n",
       "      <td>1</td>\n",
       "      <td>I am proud of your achievements</td>\n",
       "      <td>2</td>\n",
       "    </tr>\n",
       "    <tr>\n",
       "      <td>2</td>\n",
       "      <td>It is the worst day in my life</td>\n",
       "      <td>3</td>\n",
       "    </tr>\n",
       "    <tr>\n",
       "      <td>3</td>\n",
       "      <td>Miss you so much</td>\n",
       "      <td>0</td>\n",
       "    </tr>\n",
       "    <tr>\n",
       "      <td>4</td>\n",
       "      <td>food is life</td>\n",
       "      <td>4</td>\n",
       "    </tr>\n",
       "  </tbody>\n",
       "</table>\n",
       "</div>"
      ],
      "text/plain": [
       "                              Text  Label\n",
       "0           never talk to me again      3\n",
       "1  I am proud of your achievements      2\n",
       "2   It is the worst day in my life      3\n",
       "3                 Miss you so much      0\n",
       "4                     food is life      4"
      ]
     },
     "execution_count": 162,
     "metadata": {},
     "output_type": "execute_result"
    }
   ],
   "source": [
    "train_data.head()"
   ]
  },
  {
   "cell_type": "code",
   "execution_count": 163,
   "metadata": {},
   "outputs": [],
   "source": [
    "x_train = train_data['Text'].values\n",
    "y_train = train_data['Label'].values\n",
    "\n",
    "x_test = test_data['Text'].values\n",
    "y_test = test_data['Label'].values"
   ]
  },
  {
   "cell_type": "code",
   "execution_count": 164,
   "metadata": {},
   "outputs": [
    {
     "data": {
      "text/plain": [
       "array([3, 2, 3, 0, 4, 0, 3, 2, 3, 1, 3, 3, 1, 3, 2, 3, 2, 3, 1, 2, 3, 0,\n",
       "       2, 2, 2, 1, 4, 2, 2, 4, 0, 3, 4, 2, 0, 3, 2, 2, 3, 4, 2, 2, 0, 2,\n",
       "       3, 0, 3, 2, 4, 3, 0, 3, 3, 3, 4, 2, 1, 1, 1, 2, 3, 1, 0, 0, 0, 3,\n",
       "       4, 4, 2, 2, 1, 2, 0, 3, 2, 2, 0, 0, 3, 1, 2, 1, 2, 2, 4, 3, 3, 2,\n",
       "       4, 0, 0, 0, 3, 3, 3, 2, 0, 1, 2, 3, 0, 2, 2, 2, 3, 2, 2, 2, 4, 1,\n",
       "       1, 3, 3, 4, 1, 2, 1, 1, 3, 1, 0, 4, 0, 3, 3, 4, 4, 1, 4, 3, 0, 2])"
      ]
     },
     "execution_count": 164,
     "metadata": {},
     "output_type": "execute_result"
    }
   ],
   "source": [
    "y_train"
   ]
  },
  {
   "cell_type": "code",
   "execution_count": 165,
   "metadata": {},
   "outputs": [
    {
     "data": {
      "text/plain": [
       "(132,)"
      ]
     },
     "execution_count": 165,
     "metadata": {},
     "output_type": "execute_result"
    }
   ],
   "source": [
    "x_train.shape"
   ]
  },
  {
   "cell_type": "code",
   "execution_count": 166,
   "metadata": {},
   "outputs": [
    {
     "data": {
      "text/plain": [
       "(56,)"
      ]
     },
     "execution_count": 166,
     "metadata": {},
     "output_type": "execute_result"
    }
   ],
   "source": [
    "x_test.shape"
   ]
  },
  {
   "cell_type": "code",
   "execution_count": 167,
   "metadata": {},
   "outputs": [
    {
     "name": "stdout",
     "output_type": "stream",
     "text": [
      "I will celebrate soon 😁\n",
      "So sad you are not coming 😓\n",
      "She is my dearest love ❤️\n",
      "Good job 😁\n",
      "It was funny lol 😁\n",
      "candy is life  😁\n",
      "The chicago cubs won again ⚾\n",
      "I am hungry 🍴\n",
      "I am so excited to see you after so long 😁\n",
      "you did well on you exam 😁\n"
     ]
    }
   ],
   "source": [
    "for i in range(19, 29):\n",
    "    print(x_train[i], emoji.emojize(emoji_dict[str(y_train[i])]))"
   ]
  },
  {
   "cell_type": "code",
   "execution_count": null,
   "metadata": {},
   "outputs": [],
   "source": []
  },
  {
   "cell_type": "markdown",
   "metadata": {},
   "source": [
    "# Get Embedding"
   ]
  },
  {
   "cell_type": "code",
   "execution_count": 17,
   "metadata": {},
   "outputs": [],
   "source": [
    "f = open(\"glove.6B.50d.txt\", encoding='utf8')"
   ]
  },
  {
   "cell_type": "code",
   "execution_count": 18,
   "metadata": {},
   "outputs": [],
   "source": [
    "embedding_index = {}\n",
    "\n",
    "for line in f:\n",
    "    values = line.split()\n",
    "    word = values[0]\n",
    "    emb = np.array(values[1:], dtype ='float')\n",
    "    \n",
    "    embedding_index[word] = emb"
   ]
  },
  {
   "cell_type": "code",
   "execution_count": 19,
   "metadata": {},
   "outputs": [
    {
     "data": {
      "text/plain": [
       "(50,)"
      ]
     },
     "execution_count": 19,
     "metadata": {},
     "output_type": "execute_result"
    }
   ],
   "source": [
    "embedding_index['america']\n",
    "embedding_index['apple'].shape"
   ]
  },
  {
   "cell_type": "code",
   "execution_count": null,
   "metadata": {},
   "outputs": [],
   "source": []
  },
  {
   "cell_type": "code",
   "execution_count": null,
   "metadata": {},
   "outputs": [],
   "source": []
  },
  {
   "cell_type": "code",
   "execution_count": 20,
   "metadata": {},
   "outputs": [],
   "source": [
    "def get_embedding_output(X):\n",
    "    maxLen = 10\n",
    "    embedding_output = np.zeros((len(X), maxLen, 50))\n",
    "    \n",
    "    for ix in range(X.shape[0]):\n",
    "        X[ix] = X[ix].split()\n",
    "        \n",
    "        for ij in range(len(X[ix])):\n",
    "            embedding_output[ix][ij] = embedding_index[X[ix][ij].lower()]\n",
    "            \n",
    "    return embedding_output"
   ]
  },
  {
   "cell_type": "code",
   "execution_count": 21,
   "metadata": {},
   "outputs": [],
   "source": [
    "train_embeddings = get_embedding_output(x_train)"
   ]
  },
  {
   "cell_type": "code",
   "execution_count": 22,
   "metadata": {},
   "outputs": [],
   "source": [
    "test_embeddings = get_embedding_output(x_test)"
   ]
  },
  {
   "cell_type": "code",
   "execution_count": 23,
   "metadata": {},
   "outputs": [
    {
     "data": {
      "text/plain": [
       "(132, 10, 50)"
      ]
     },
     "execution_count": 23,
     "metadata": {},
     "output_type": "execute_result"
    }
   ],
   "source": [
    "train_embeddings.shape"
   ]
  },
  {
   "cell_type": "code",
   "execution_count": 24,
   "metadata": {},
   "outputs": [
    {
     "data": {
      "text/plain": [
       "(56, 10, 50)"
      ]
     },
     "execution_count": 24,
     "metadata": {},
     "output_type": "execute_result"
    }
   ],
   "source": [
    "test_embeddings.shape"
   ]
  },
  {
   "cell_type": "code",
   "execution_count": 26,
   "metadata": {},
   "outputs": [],
   "source": [
    "from keras.utils import to_categorical"
   ]
  },
  {
   "cell_type": "code",
   "execution_count": 27,
   "metadata": {},
   "outputs": [],
   "source": [
    "y_train = to_categorical(y_train)\n",
    "y_test = to_categorical(y_test)"
   ]
  },
  {
   "cell_type": "code",
   "execution_count": 28,
   "metadata": {},
   "outputs": [
    {
     "data": {
      "text/plain": [
       "(132, 5)"
      ]
     },
     "execution_count": 28,
     "metadata": {},
     "output_type": "execute_result"
    }
   ],
   "source": [
    "y_train.shape"
   ]
  },
  {
   "cell_type": "code",
   "execution_count": 30,
   "metadata": {},
   "outputs": [
    {
     "data": {
      "text/plain": [
       "(56, 5)"
      ]
     },
     "execution_count": 30,
     "metadata": {},
     "output_type": "execute_result"
    }
   ],
   "source": [
    "y_test.shape"
   ]
  },
  {
   "cell_type": "markdown",
   "metadata": {},
   "source": [
    "## Define LSTM/RNN Model"
   ]
  },
  {
   "cell_type": "code",
   "execution_count": 36,
   "metadata": {},
   "outputs": [],
   "source": [
    "from keras.models import Sequential\n",
    "from keras.layers import LSTM, Dense, Dropout, SimpleRNN"
   ]
  },
  {
   "cell_type": "code",
   "execution_count": 47,
   "metadata": {},
   "outputs": [
    {
     "name": "stdout",
     "output_type": "stream",
     "text": [
      "_________________________________________________________________\n",
      "Layer (type)                 Output Shape              Param #   \n",
      "=================================================================\n",
      "lstm_11 (LSTM)               (None, 10, 64)            29440     \n",
      "_________________________________________________________________\n",
      "dropout_13 (Dropout)         (None, 10, 64)            0         \n",
      "_________________________________________________________________\n",
      "lstm_12 (LSTM)               (None, 32)                12416     \n",
      "_________________________________________________________________\n",
      "dropout_14 (Dropout)         (None, 32)                0         \n",
      "_________________________________________________________________\n",
      "dense_11 (Dense)             (None, 10)                330       \n",
      "_________________________________________________________________\n",
      "dense_12 (Dense)             (None, 5)                 55        \n",
      "=================================================================\n",
      "Total params: 42,241\n",
      "Trainable params: 42,241\n",
      "Non-trainable params: 0\n",
      "_________________________________________________________________\n"
     ]
    }
   ],
   "source": [
    "model = Sequential()\n",
    "model.add(LSTM(units=64, input_shape =(10, 50), return_sequences= True ))\n",
    "model.add(Dropout(0.3))\n",
    "model.add(LSTM(units = 32))\n",
    "model.add(Dropout(0.3))\n",
    "model.add(Dense(units= 10, activation= 'tanh'))\n",
    "model.add(Dense(units= 5, activation= 'softmax'))\n",
    "model.summary()"
   ]
  },
  {
   "cell_type": "code",
   "execution_count": 48,
   "metadata": {},
   "outputs": [],
   "source": [
    "model.compile(optimizer='adam', loss=\"categorical_crossentropy\", metrics=['accuracy'])"
   ]
  },
  {
   "cell_type": "code",
   "execution_count": 49,
   "metadata": {
    "scrolled": true
   },
   "outputs": [
    {
     "name": "stdout",
     "output_type": "stream",
     "text": [
      "Train on 118 samples, validate on 14 samples\n",
      "Epoch 1/50\n",
      "118/118 [==============================] - 4s 30ms/step - loss: 1.5970 - acc: 0.2288 - val_loss: 1.6348 - val_acc: 0.0714\n",
      "Epoch 2/50\n",
      "118/118 [==============================] - 0s 642us/step - loss: 1.5680 - acc: 0.2712 - val_loss: 1.6456 - val_acc: 0.0714\n",
      "Epoch 3/50\n",
      "118/118 [==============================] - 0s 750us/step - loss: 1.5254 - acc: 0.3051 - val_loss: 1.6620 - val_acc: 0.0714\n",
      "Epoch 4/50\n",
      "118/118 [==============================] - 0s 1ms/step - loss: 1.5213 - acc: 0.3305 - val_loss: 1.6794 - val_acc: 0.0714\n",
      "Epoch 5/50\n",
      "118/118 [==============================] - 0s 901us/step - loss: 1.5177 - acc: 0.3814 - val_loss: 1.6850 - val_acc: 0.0714\n",
      "Epoch 6/50\n",
      "118/118 [==============================] - 0s 1ms/step - loss: 1.5008 - acc: 0.3475 - val_loss: 1.6758 - val_acc: 0.0714\n",
      "Epoch 7/50\n",
      "118/118 [==============================] - 0s 742us/step - loss: 1.4794 - acc: 0.3729 - val_loss: 1.6666 - val_acc: 0.0714\n",
      "Epoch 8/50\n",
      "118/118 [==============================] - 0s 980us/step - loss: 1.4390 - acc: 0.3814 - val_loss: 1.6514 - val_acc: 0.2143\n",
      "Epoch 9/50\n",
      "118/118 [==============================] - 0s 1ms/step - loss: 1.4479 - acc: 0.3475 - val_loss: 1.6222 - val_acc: 0.2143\n",
      "Epoch 10/50\n",
      "118/118 [==============================] - 0s 974us/step - loss: 1.4308 - acc: 0.3983 - val_loss: 1.5771 - val_acc: 0.2857\n",
      "Epoch 11/50\n",
      "118/118 [==============================] - 0s 1ms/step - loss: 1.4093 - acc: 0.3983 - val_loss: 1.5433 - val_acc: 0.2857\n",
      "Epoch 12/50\n",
      "118/118 [==============================] - 0s 962us/step - loss: 1.3470 - acc: 0.4407 - val_loss: 1.5139 - val_acc: 0.2143\n",
      "Epoch 13/50\n",
      "118/118 [==============================] - 0s 779us/step - loss: 1.3138 - acc: 0.4576 - val_loss: 1.4849 - val_acc: 0.2857\n",
      "Epoch 14/50\n",
      "118/118 [==============================] - 0s 810us/step - loss: 1.2756 - acc: 0.5000 - val_loss: 1.4758 - val_acc: 0.2857\n",
      "Epoch 15/50\n",
      "118/118 [==============================] - 0s 1ms/step - loss: 1.2381 - acc: 0.5000 - val_loss: 1.4546 - val_acc: 0.2857\n",
      "Epoch 16/50\n",
      "118/118 [==============================] - 0s 669us/step - loss: 1.2231 - acc: 0.5000 - val_loss: 1.3849 - val_acc: 0.2857\n",
      "Epoch 17/50\n",
      "118/118 [==============================] - 0s 669us/step - loss: 1.2032 - acc: 0.5339 - val_loss: 1.3167 - val_acc: 0.3571\n",
      "Epoch 18/50\n",
      "118/118 [==============================] - 0s 1ms/step - loss: 1.1413 - acc: 0.6186 - val_loss: 1.3019 - val_acc: 0.3571\n",
      "Epoch 19/50\n",
      "118/118 [==============================] - 0s 1ms/step - loss: 1.1056 - acc: 0.6017 - val_loss: 1.2996 - val_acc: 0.3571\n",
      "Epoch 20/50\n",
      "118/118 [==============================] - 0s 780us/step - loss: 1.0795 - acc: 0.6102 - val_loss: 1.2545 - val_acc: 0.2857\n",
      "Epoch 21/50\n",
      "118/118 [==============================] - 0s 804us/step - loss: 1.0139 - acc: 0.7203 - val_loss: 1.2111 - val_acc: 0.2143\n",
      "Epoch 22/50\n",
      "118/118 [==============================] - 0s 831us/step - loss: 1.0115 - acc: 0.7203 - val_loss: 1.1658 - val_acc: 0.2857\n",
      "Epoch 23/50\n",
      "118/118 [==============================] - 0s 883us/step - loss: 0.9252 - acc: 0.7373 - val_loss: 1.1579 - val_acc: 0.4286\n",
      "Epoch 24/50\n",
      "118/118 [==============================] - 0s 1ms/step - loss: 0.9095 - acc: 0.7542 - val_loss: 1.2739 - val_acc: 0.3571\n",
      "Epoch 25/50\n",
      "118/118 [==============================] - 0s 845us/step - loss: 0.8667 - acc: 0.7712 - val_loss: 1.1945 - val_acc: 0.3571\n",
      "Epoch 26/50\n",
      "118/118 [==============================] - 0s 1ms/step - loss: 0.7925 - acc: 0.7966 - val_loss: 1.0901 - val_acc: 0.4286\n",
      "Epoch 27/50\n",
      "118/118 [==============================] - 0s 1ms/step - loss: 0.7441 - acc: 0.7966 - val_loss: 1.0583 - val_acc: 0.4286\n",
      "Epoch 28/50\n",
      "118/118 [==============================] - 0s 808us/step - loss: 0.7324 - acc: 0.7966 - val_loss: 1.2036 - val_acc: 0.4286\n",
      "Epoch 29/50\n",
      "118/118 [==============================] - 0s 915us/step - loss: 0.7218 - acc: 0.7797 - val_loss: 1.0207 - val_acc: 0.5000\n",
      "Epoch 30/50\n",
      "118/118 [==============================] - 0s 1ms/step - loss: 0.6400 - acc: 0.8305 - val_loss: 1.0595 - val_acc: 0.5000\n",
      "Epoch 31/50\n",
      "118/118 [==============================] - 0s 1ms/step - loss: 0.6132 - acc: 0.8390 - val_loss: 1.0375 - val_acc: 0.5714\n",
      "Epoch 32/50\n",
      "118/118 [==============================] - 0s 850us/step - loss: 0.5371 - acc: 0.8898 - val_loss: 0.9273 - val_acc: 0.5714\n",
      "Epoch 33/50\n",
      "118/118 [==============================] - 0s 943us/step - loss: 0.5137 - acc: 0.9153 - val_loss: 1.1013 - val_acc: 0.5000\n",
      "Epoch 34/50\n",
      "118/118 [==============================] - 0s 911us/step - loss: 0.4855 - acc: 0.8814 - val_loss: 1.2702 - val_acc: 0.5000\n",
      "Epoch 35/50\n",
      "118/118 [==============================] - 0s 870us/step - loss: 0.4841 - acc: 0.8644 - val_loss: 0.9533 - val_acc: 0.6429\n",
      "Epoch 36/50\n",
      "118/118 [==============================] - 0s 1ms/step - loss: 0.4234 - acc: 0.9068 - val_loss: 1.0342 - val_acc: 0.5714\n",
      "Epoch 37/50\n",
      "118/118 [==============================] - 0s 947us/step - loss: 0.4224 - acc: 0.8983 - val_loss: 1.2755 - val_acc: 0.4286\n",
      "Epoch 38/50\n",
      "118/118 [==============================] - 0s 939us/step - loss: 0.3925 - acc: 0.9153 - val_loss: 1.0923 - val_acc: 0.5000\n",
      "Epoch 39/50\n",
      "118/118 [==============================] - 0s 782us/step - loss: 0.3692 - acc: 0.9492 - val_loss: 1.0709 - val_acc: 0.5000\n",
      "Epoch 40/50\n",
      "118/118 [==============================] - 0s 927us/step - loss: 0.3322 - acc: 0.9407 - val_loss: 1.2964 - val_acc: 0.5000\n",
      "Epoch 41/50\n",
      "118/118 [==============================] - 0s 837us/step - loss: 0.3214 - acc: 0.9237 - val_loss: 1.2294 - val_acc: 0.4286\n",
      "Epoch 42/50\n",
      "118/118 [==============================] - 0s 967us/step - loss: 0.3746 - acc: 0.9322 - val_loss: 0.9166 - val_acc: 0.5714\n",
      "Epoch 43/50\n",
      "118/118 [==============================] - 0s 825us/step - loss: 0.3048 - acc: 0.9492 - val_loss: 1.4241 - val_acc: 0.4286\n",
      "Epoch 44/50\n",
      "118/118 [==============================] - 0s 892us/step - loss: 0.3141 - acc: 0.9322 - val_loss: 1.1548 - val_acc: 0.5714\n",
      "Epoch 45/50\n",
      "118/118 [==============================] - 0s 1ms/step - loss: 0.2653 - acc: 0.9492 - val_loss: 0.9348 - val_acc: 0.7143\n",
      "Epoch 46/50\n",
      "118/118 [==============================] - 0s 914us/step - loss: 0.2491 - acc: 0.9576 - val_loss: 1.1988 - val_acc: 0.4286\n",
      "Epoch 47/50\n",
      "118/118 [==============================] - 0s 811us/step - loss: 0.2330 - acc: 0.9576 - val_loss: 1.4821 - val_acc: 0.4286\n",
      "Epoch 48/50\n",
      "118/118 [==============================] - 0s 774us/step - loss: 0.2119 - acc: 0.9831 - val_loss: 1.3084 - val_acc: 0.5714\n",
      "Epoch 49/50\n",
      "118/118 [==============================] - 0s 771us/step - loss: 0.2126 - acc: 0.9746 - val_loss: 1.1691 - val_acc: 0.5714\n",
      "Epoch 50/50\n",
      "118/118 [==============================] - 0s 851us/step - loss: 0.1880 - acc: 0.9746 - val_loss: 1.0139 - val_acc: 0.7143\n"
     ]
    }
   ],
   "source": [
    "# Callbacks\n",
    "\n",
    "hist = model.fit(train_embeddings, y_train, validation_split=0.1 , shuffle=True, batch_size=64, epochs=50 )"
   ]
  },
  {
   "cell_type": "code",
   "execution_count": null,
   "metadata": {},
   "outputs": [],
   "source": []
  },
  {
   "cell_type": "code",
   "execution_count": 50,
   "metadata": {},
   "outputs": [
    {
     "name": "stdout",
     "output_type": "stream",
     "text": [
      "56/56 [==============================] - 0s 357us/step\n"
     ]
    },
    {
     "data": {
      "text/plain": [
       "[1.2338575635637556, 0.6249999914850507]"
      ]
     },
     "execution_count": 50,
     "metadata": {},
     "output_type": "execute_result"
    }
   ],
   "source": [
    "model.evaluate(test_embeddings, y_test)"
   ]
  },
  {
   "cell_type": "code",
   "execution_count": 52,
   "metadata": {},
   "outputs": [],
   "source": [
    "pred = model.predict_classes(test_embeddings)"
   ]
  },
  {
   "cell_type": "code",
   "execution_count": 53,
   "metadata": {},
   "outputs": [
    {
     "data": {
      "text/plain": [
       "array([4, 3, 3, 0, 2, 2, 1, 2, 4, 2, 1, 3, 0, 3, 1, 3, 3, 2, 4, 2, 3, 2,\n",
       "       4, 2, 3, 1, 2, 0, 4, 2, 0, 1, 2, 2, 0, 1, 2, 4, 4, 2, 1, 0, 0, 1,\n",
       "       2, 0, 2, 2, 3, 1, 3, 1, 3, 2, 3, 3])"
      ]
     },
     "execution_count": 53,
     "metadata": {},
     "output_type": "execute_result"
    }
   ],
   "source": [
    "pred"
   ]
  },
  {
   "cell_type": "code",
   "execution_count": 57,
   "metadata": {},
   "outputs": [
    {
     "data": {
      "text/plain": [
       "array([list(['I', 'want', 'to', 'eat']),\n",
       "       list(['he', 'did', 'not', 'answer']),\n",
       "       list(['he', 'got', 'a', 'raise']),\n",
       "       list(['she', 'got', 'me', 'a', 'present']),\n",
       "       list(['ha', 'ha', 'ha', 'it', 'was', 'so', 'funny']),\n",
       "       list(['he', 'is', 'a', 'good', 'friend']),\n",
       "       list(['I', 'am', 'upset']),\n",
       "       list(['We', 'had', 'such', 'a', 'lovely', 'dinner', 'tonight']),\n",
       "       list(['where', 'is', 'the', 'food']),\n",
       "       list(['Stop', 'making', 'this', 'joke', 'ha', 'ha', 'ha']),\n",
       "       list(['where', 'is', 'the', 'ball']), list(['work', 'is', 'hard']),\n",
       "       list(['This', 'girl', 'is', 'messing', 'with', 'me']),\n",
       "       list(['are', 'you', 'serious', 'ha', 'ha']),\n",
       "       list(['Let', 'us', 'go', 'play', 'baseball']),\n",
       "       list(['This', 'stupid', 'grader', 'is', 'not', 'working']),\n",
       "       list(['work', 'is', 'horrible']),\n",
       "       list(['Congratulation', 'for', 'having', 'a', 'baby']),\n",
       "       list(['stop', 'messing', 'around']),\n",
       "       list(['any', 'suggestions', 'for', 'dinner']),\n",
       "       list(['I', 'love', 'taking', 'breaks']),\n",
       "       list(['you', 'brighten', 'my', 'day']),\n",
       "       list(['I', 'boiled', 'rice']), list(['she', 'is', 'a', 'bully']),\n",
       "       list(['Why', 'are', 'you', 'feeling', 'bad']),\n",
       "       list(['I', 'am', 'upset']),\n",
       "       list(['I', 'worked', 'during', 'my', 'birthday']),\n",
       "       list(['My', 'grandmother', 'is', 'the', 'love', 'of', 'my', 'life']),\n",
       "       list(['enjoy', 'your', 'break']),\n",
       "       list(['valentine', 'day', 'is', 'near']),\n",
       "       list(['I', 'miss', 'you', 'so', 'much']),\n",
       "       list(['throw', 'the', 'ball']),\n",
       "       list(['My', 'life', 'is', 'so', 'boring']),\n",
       "       list(['she', 'said', 'yes']),\n",
       "       list(['will', 'you', 'be', 'my', 'valentine']),\n",
       "       list(['he', 'can', 'pitch', 'really', 'well']),\n",
       "       list(['dance', 'with', 'me']), list(['I', 'am', 'starving']),\n",
       "       list(['See', 'you', 'at', 'the', 'restaurant']),\n",
       "       list(['I', 'like', 'to', 'laugh']),\n",
       "       list(['I', 'will', 'go', 'dance']),\n",
       "       list(['I', 'like', 'your', 'jacket']), list(['i', 'miss', 'her']),\n",
       "       list(['what', 'is', 'your', 'favorite', 'baseball', 'game']),\n",
       "       list(['Good', 'job']),\n",
       "       list(['I', 'love', 'to', 'the', 'stars', 'and', 'back']),\n",
       "       list(['What', 'you', 'did', 'was', 'awesome']),\n",
       "       list(['ha', 'ha', 'ha', 'lol']), list(['I', 'want', 'to', 'joke']),\n",
       "       list(['go', 'away']), list(['yesterday', 'we', 'lost', 'again']),\n",
       "       list(['family', 'is', 'all', 'I', 'have']),\n",
       "       list(['you', 'are', 'failing', 'this', 'exercise']),\n",
       "       list(['Good', 'joke']),\n",
       "       list(['You', 'totally', 'deserve', 'this', 'prize']),\n",
       "       list(['I', 'did', 'not', 'have', 'breakfast'])], dtype=object)"
      ]
     },
     "execution_count": 57,
     "metadata": {},
     "output_type": "execute_result"
    }
   ],
   "source": [
    "x_test"
   ]
  },
  {
   "cell_type": "code",
   "execution_count": 59,
   "metadata": {},
   "outputs": [
    {
     "name": "stdout",
     "output_type": "stream",
     "text": [
      "I want to eat\n",
      "🍴\n",
      "he did not answer\n",
      "😓\n",
      "he got a raise\n",
      "😓\n",
      "she got me a present\n",
      "❤️\n",
      "ha ha ha it was so funny\n",
      "😁\n",
      "he is a good friend\n",
      "😁\n",
      "I am upset\n",
      "⚾\n",
      "We had such a lovely dinner tonight\n",
      "😁\n",
      "where is the food\n",
      "🍴\n",
      "Stop making this joke ha ha ha\n",
      "😁\n",
      "where is the ball\n",
      "⚾\n",
      "work is hard\n",
      "😓\n",
      "This girl is messing with me\n",
      "❤️\n",
      "are you serious ha ha\n",
      "😓\n",
      "Let us go play baseball\n",
      "⚾\n",
      "This stupid grader is not working\n",
      "😓\n",
      "work is horrible\n",
      "😓\n",
      "Congratulation for having a baby\n",
      "😁\n",
      "stop messing around\n",
      "🍴\n",
      "any suggestions for dinner\n",
      "😁\n",
      "I love taking breaks\n",
      "😓\n",
      "you brighten my day\n",
      "😁\n",
      "I boiled rice\n",
      "🍴\n",
      "she is a bully\n",
      "😁\n",
      "Why are you feeling bad\n",
      "😓\n",
      "I am upset\n",
      "⚾\n",
      "I worked during my birthday\n",
      "😁\n",
      "My grandmother is the love of my life\n",
      "❤️\n",
      "enjoy your break\n",
      "🍴\n",
      "valentine day is near\n",
      "😁\n",
      "I miss you so much\n",
      "❤️\n",
      "throw the ball\n",
      "⚾\n",
      "My life is so boring\n",
      "😁\n",
      "she said yes\n",
      "😁\n",
      "will you be my valentine\n",
      "❤️\n",
      "he can pitch really well\n",
      "⚾\n",
      "dance with me\n",
      "😁\n",
      "I am starving\n",
      "🍴\n",
      "See you at the restaurant\n",
      "🍴\n",
      "I like to laugh\n",
      "😁\n",
      "I will go dance\n",
      "⚾\n",
      "I like your jacket\n",
      "❤️\n",
      "i miss her\n",
      "❤️\n",
      "what is your favorite baseball game\n",
      "⚾\n",
      "Good job\n",
      "😁\n",
      "I love to the stars and back\n",
      "❤️\n",
      "What you did was awesome\n",
      "😁\n",
      "ha ha ha lol\n",
      "😁\n",
      "I want to joke\n",
      "😓\n",
      "go away\n",
      "⚾\n",
      "yesterday we lost again\n",
      "😓\n",
      "family is all I have\n",
      "⚾\n",
      "you are failing this exercise\n",
      "😓\n",
      "Good joke\n",
      "😁\n",
      "You totally deserve this prize\n",
      "😓\n",
      "I did not have breakfast\n",
      "😓\n"
     ]
    }
   ],
   "source": [
    "for i in range(len(pred)):\n",
    "    \n",
    "    print(\" \".join(x_test[i]))\n",
    "    \n",
    "    emote = emoji_dict[str(pred[i])]\n",
    "    print(emoji.emojize(emote))"
   ]
  },
  {
   "cell_type": "code",
   "execution_count": null,
   "metadata": {},
   "outputs": [],
   "source": []
  },
  {
   "cell_type": "markdown",
   "metadata": {},
   "source": [
    "# Custom Example Prediction"
   ]
  },
  {
   "cell_type": "code",
   "execution_count": 144,
   "metadata": {},
   "outputs": [],
   "source": [
    "x_query = \"i ate dinner happily and i love soccer\".lower()"
   ]
  },
  {
   "cell_type": "code",
   "execution_count": 145,
   "metadata": {},
   "outputs": [],
   "source": [
    "embedding_x_query = []"
   ]
  },
  {
   "cell_type": "code",
   "execution_count": 146,
   "metadata": {},
   "outputs": [
    {
     "name": "stdout",
     "output_type": "stream",
     "text": [
      "i\n",
      "ate\n",
      "dinner\n",
      "happily\n",
      "and\n",
      "i\n",
      "love\n",
      "soccer\n"
     ]
    }
   ],
   "source": [
    "for w in x_query.split():\n",
    "    print(w)\n",
    "    emb = embedding_index[w]\n",
    "    embedding_x_query.append(emb)"
   ]
  },
  {
   "cell_type": "code",
   "execution_count": 147,
   "metadata": {},
   "outputs": [],
   "source": [
    "embedding_x_query = np.array(embedding_x_query)"
   ]
  },
  {
   "cell_type": "code",
   "execution_count": 148,
   "metadata": {},
   "outputs": [
    {
     "data": {
      "text/plain": [
       "(8, 50)"
      ]
     },
     "execution_count": 148,
     "metadata": {},
     "output_type": "execute_result"
    }
   ],
   "source": [
    "embedding_x_query.shape"
   ]
  },
  {
   "cell_type": "code",
   "execution_count": 149,
   "metadata": {},
   "outputs": [],
   "source": [
    "if embedding_x_query.shape <10:\n",
    "    embedding_x_query = np.vstack((embedding_x_query , np.zeros((10 - len(x_query.split()), 50))))"
   ]
  },
  {
   "cell_type": "code",
   "execution_count": 150,
   "metadata": {},
   "outputs": [],
   "source": [
    "embedding_x_query = embedding_x_query.reshape(1, 10, 50)"
   ]
  },
  {
   "cell_type": "code",
   "execution_count": 151,
   "metadata": {},
   "outputs": [
    {
     "data": {
      "text/plain": [
       "(1, 10, 50)"
      ]
     },
     "execution_count": 151,
     "metadata": {},
     "output_type": "execute_result"
    }
   ],
   "source": [
    "embedding_x_query.shape"
   ]
  },
  {
   "cell_type": "code",
   "execution_count": 152,
   "metadata": {},
   "outputs": [],
   "source": [
    "p = model.predict_classes(embedding_x_query)"
   ]
  },
  {
   "cell_type": "code",
   "execution_count": 153,
   "metadata": {},
   "outputs": [
    {
     "name": "stdout",
     "output_type": "stream",
     "text": [
      "🍴\n"
     ]
    }
   ],
   "source": [
    "print(emoji.emojize(emoji_dict[str(p[0])]))"
   ]
  },
  {
   "cell_type": "code",
   "execution_count": null,
   "metadata": {},
   "outputs": [],
   "source": []
  }
 ],
 "metadata": {
  "kernelspec": {
   "display_name": "Python 3",
   "language": "python",
   "name": "python3"
  },
  "language_info": {
   "codemirror_mode": {
    "name": "ipython",
    "version": 3
   },
   "file_extension": ".py",
   "mimetype": "text/x-python",
   "name": "python",
   "nbconvert_exporter": "python",
   "pygments_lexer": "ipython3",
   "version": "3.7.4"
  }
 },
 "nbformat": 4,
 "nbformat_minor": 2
}
