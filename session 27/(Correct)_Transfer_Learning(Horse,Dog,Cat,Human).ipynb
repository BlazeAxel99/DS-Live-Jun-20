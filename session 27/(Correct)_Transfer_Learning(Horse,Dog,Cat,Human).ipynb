{
  "nbformat": 4,
  "nbformat_minor": 0,
  "metadata": {
    "colab": {
      "name": "(Correct) Transfer Learning(Horse,Dog,Cat,Human).ipynb",
      "provenance": [],
      "collapsed_sections": []
    },
    "kernelspec": {
      "name": "python3",
      "display_name": "Python 3"
    },
    "accelerator": "GPU"
  },
  "cells": [
    {
      "cell_type": "code",
      "metadata": {
        "id": "2Ff9eAVYs6ie",
        "colab_type": "code",
        "colab": {
          "base_uri": "https://localhost:8080/",
          "height": 377
        },
        "outputId": "f4e57e16-f7cc-4eb4-f73e-8fdba882b292"
      },
      "source": [
        "!wget \"https://www.dropbox.com/sh/3st0m56ysutsr90/AAB-193KAr7qhFrwbwBENjPNa?dl=0\""
      ],
      "execution_count": 1,
      "outputs": [
        {
          "output_type": "stream",
          "text": [
            "--2020-07-22 12:04:32--  https://www.dropbox.com/sh/3st0m56ysutsr90/AAB-193KAr7qhFrwbwBENjPNa?dl=0\n",
            "Resolving www.dropbox.com (www.dropbox.com)... 162.125.67.1, 2620:100:6023:1::a27d:4301\n",
            "Connecting to www.dropbox.com (www.dropbox.com)|162.125.67.1|:443... connected.\n",
            "HTTP request sent, awaiting response... 301 Moved Permanently\n",
            "Location: /sh/raw/3st0m56ysutsr90/AAB-193KAr7qhFrwbwBENjPNa [following]\n",
            "--2020-07-22 12:04:32--  https://www.dropbox.com/sh/raw/3st0m56ysutsr90/AAB-193KAr7qhFrwbwBENjPNa\n",
            "Reusing existing connection to www.dropbox.com:443.\n",
            "HTTP request sent, awaiting response... 302 Found\n",
            "Location: https://uc914a757cbf603a46486bde7431.dl.dropboxusercontent.com/zip_download_get/AfZb-IRFtZ_EAg8f_Es8OvYtUJK33qppXJ7oucoweiJxsPACMC_A4wGGIOVMokL8A6x9XmNi06zuk6DWCYPgEguKZnWon8Dknf1j09RzFKMmhg [following]\n",
            "--2020-07-22 12:04:34--  https://uc914a757cbf603a46486bde7431.dl.dropboxusercontent.com/zip_download_get/AfZb-IRFtZ_EAg8f_Es8OvYtUJK33qppXJ7oucoweiJxsPACMC_A4wGGIOVMokL8A6x9XmNi06zuk6DWCYPgEguKZnWon8Dknf1j09RzFKMmhg\n",
            "Resolving uc914a757cbf603a46486bde7431.dl.dropboxusercontent.com (uc914a757cbf603a46486bde7431.dl.dropboxusercontent.com)... 162.125.67.15, 2620:100:6023:15::a27d:430f\n",
            "Connecting to uc914a757cbf603a46486bde7431.dl.dropboxusercontent.com (uc914a757cbf603a46486bde7431.dl.dropboxusercontent.com)|162.125.67.15|:443... connected.\n",
            "HTTP request sent, awaiting response... 200 OK\n",
            "Length: 20859450 (20M) [application/zip]\n",
            "Saving to: ‘AAB-193KAr7qhFrwbwBENjPNa?dl=0’\n",
            "\n",
            "AAB-193KAr7qhFrwbwB 100%[===================>]  19.89M   645KB/s    in 37s     \n",
            "\n",
            "2020-07-22 12:05:12 (546 KB/s) - ‘AAB-193KAr7qhFrwbwBENjPNa?dl=0’ saved [20859450/20859450]\n",
            "\n"
          ],
          "name": "stdout"
        }
      ]
    },
    {
      "cell_type": "code",
      "metadata": {
        "id": "bA0Mz74Ot_8x",
        "colab_type": "code",
        "colab": {}
      },
      "source": [
        "! mkdir images"
      ],
      "execution_count": 2,
      "outputs": []
    },
    {
      "cell_type": "code",
      "metadata": {
        "id": "jD4RLciBuKwg",
        "colab_type": "code",
        "colab": {
          "base_uri": "https://localhost:8080/",
          "height": 1000
        },
        "outputId": "6a863af1-d482-4986-c65c-d7aea7d96d8f"
      },
      "source": [
        "!unzip AAB-193KAr7qhFrwbwBENjPNa?dl=0 -d images/"
      ],
      "execution_count": 3,
      "outputs": [
        {
          "output_type": "stream",
          "text": [
            "Archive:  AAB-193KAr7qhFrwbwBENjPNa?dl=0\n",
            "warning:  stripped absolute path spec from /\n",
            "mapname:  conversion of  failed\n",
            "   creating: images/cats/\n",
            "   creating: images/dogs/\n",
            "   creating: images/humans/\n",
            "   creating: images/horses/\n",
            " extracting: images/dogs/dog.3.jpg   \n",
            " extracting: images/cats/cat.3.jpg   \n",
            " extracting: images/dogs/dog.9.jpg   \n",
            " extracting: images/cats/cat.6.jpg   \n",
            " extracting: images/dogs/dog.4.jpg   \n",
            " extracting: images/cats/cat.8.jpg   \n",
            " extracting: images/dogs/dog.5.jpg   \n",
            " extracting: images/cats/cat.7.jpg   \n",
            " extracting: images/dogs/dog.2.jpg   \n",
            " extracting: images/dogs/dog.8.jpg   \n",
            " extracting: images/cats/cat.5.jpg   \n",
            " extracting: images/dogs/dog.7.jpg   \n",
            " extracting: images/cats/cat.2.jpg   \n",
            " extracting: images/dogs/dog.1.jpg   \n",
            " extracting: images/cats/cat.4.jpg   \n",
            " extracting: images/cats/cat.1.jpg   \n",
            " extracting: images/dogs/dog.6.jpg   \n",
            " extracting: images/cats/cat.9.jpg   \n",
            " extracting: images/dogs/dog.57.jpg  \n",
            " extracting: images/cats/cat.15.jpg  \n",
            " extracting: images/dogs/dog.76.jpg  \n",
            " extracting: images/cats/cat.22.jpg  \n",
            " extracting: images/cats/cat.12.jpg  \n",
            " extracting: images/cats/cat.70.jpg  \n",
            " extracting: images/dogs/dog.80.jpg  \n",
            " extracting: images/dogs/dog.69.jpg  \n",
            " extracting: images/cats/cat.31.jpg  \n",
            " extracting: images/dogs/dog.62.jpg  \n",
            " extracting: images/dogs/dog.54.jpg  \n",
            " extracting: images/dogs/dog.97.jpg  \n",
            " extracting: images/cats/cat.86.jpg  \n",
            " extracting: images/cats/cat.63.jpg  \n",
            " extracting: images/dogs/dog.88.jpg  \n",
            " extracting: images/dogs/dog.58.jpg  \n",
            " extracting: images/cats/cat.74.jpg  \n",
            " extracting: images/dogs/dog.24.jpg  \n",
            " extracting: images/cats/cat.76.jpg  \n",
            " extracting: images/dogs/dog.61.jpg  \n",
            " extracting: images/dogs/dog.41.jpg  \n",
            " extracting: images/dogs/dog.12.jpg  \n",
            " extracting: images/cats/cat.53.jpg  \n",
            " extracting: images/dogs/dog.82.jpg  \n",
            " extracting: images/dogs/dog.31.jpg  \n",
            " extracting: images/dogs/dog.86.jpg  \n",
            " extracting: images/dogs/dog.18.jpg  \n",
            " extracting: images/cats/cat.18.jpg  \n",
            " extracting: images/cats/cat.43.jpg  \n",
            " extracting: images/dogs/dog.70.jpg  \n",
            " extracting: images/dogs/dog.38.jpg  \n",
            " extracting: images/dogs/dog.60.jpg  \n",
            " extracting: images/dogs/dog.29.jpg  \n",
            " extracting: images/cats/cat.91.jpg  \n",
            " extracting: images/dogs/dog.14.jpg  \n",
            " extracting: images/cats/cat.79.jpg  \n",
            " extracting: images/dogs/dog.59.jpg  \n",
            " extracting: images/dogs/dog.77.jpg  \n",
            " extracting: images/cats/cat.36.jpg  \n",
            " extracting: images/cats/cat.13.jpg  \n",
            " extracting: images/cats/cat.21.jpg  \n",
            " extracting: images/dogs/dog.22.jpg  \n",
            " extracting: images/dogs/dog.45.jpg  \n",
            " extracting: images/dogs/dog.32.jpg  \n",
            " extracting: images/dogs/dog.92.jpg  \n",
            " extracting: images/dogs/dog.87.jpg  \n",
            " extracting: images/cats/cat.23.jpg  \n",
            " extracting: images/cats/cat.95.jpg  \n",
            " extracting: images/dogs/dog.93.jpg  \n",
            " extracting: images/dogs/dog.96.jpg  \n",
            " extracting: images/dogs/dog.65.jpg  \n",
            " extracting: images/cats/cat.73.jpg  \n",
            " extracting: images/dogs/dog.25.jpg  \n",
            " extracting: images/dogs/dog.48.jpg  \n",
            " extracting: images/cats/cat.47.jpg  \n",
            " extracting: images/cats/cat.69.jpg  \n",
            " extracting: images/cats/cat.68.jpg  \n",
            " extracting: images/cats/cat.54.jpg  \n",
            " extracting: images/cats/cat.19.jpg  \n",
            " extracting: images/dogs/dog.13.jpg  \n",
            " extracting: images/cats/cat.20.jpg  \n",
            " extracting: images/dogs/dog.71.jpg  \n",
            " extracting: images/dogs/dog.15.jpg  \n",
            " extracting: images/dogs/dog.39.jpg  \n",
            " extracting: images/dogs/dog.64.jpg  \n",
            " extracting: images/dogs/dog.83.jpg  \n",
            " extracting: images/cats/cat.84.jpg  \n",
            " extracting: images/cats/cat.45.jpg  \n",
            " extracting: images/dogs/dog.53.jpg  \n",
            " extracting: images/cats/cat.85.jpg  \n",
            " extracting: images/cats/cat.60.jpg  \n",
            " extracting: images/cats/cat.42.jpg  \n",
            " extracting: images/cats/cat.41.jpg  \n",
            " extracting: images/cats/cat.30.jpg  \n",
            " extracting: images/cats/cat.27.jpg  \n",
            " extracting: images/cats/cat.55.jpg  \n",
            " extracting: images/cats/cat.94.jpg  \n",
            " extracting: images/cats/cat.75.jpg  \n",
            " extracting: images/cats/cat.16.jpg  \n",
            " extracting: images/dogs/dog.33.jpg  \n",
            " extracting: images/dogs/dog.34.jpg  \n",
            " extracting: images/dogs/dog.47.jpg  \n",
            " extracting: images/cats/cat.64.jpg  \n",
            " extracting: images/dogs/dog.28.jpg  \n",
            " extracting: images/dogs/dog.52.jpg  \n",
            " extracting: images/cats/cat.96.jpg  \n",
            " extracting: images/dogs/dog.94.jpg  \n",
            " extracting: images/cats/cat.72.jpg  \n",
            " extracting: images/dogs/dog.23.jpg  \n",
            " extracting: images/dogs/dog.44.jpg  \n",
            " extracting: images/cats/cat.52.jpg  \n",
            " extracting: images/dogs/dog.42.jpg  \n",
            " extracting: images/cats/cat.61.jpg  \n",
            " extracting: images/cats/cat.51.jpg  \n",
            " extracting: images/dogs/dog.95.jpg  \n",
            " extracting: images/cats/cat.44.jpg  \n",
            " extracting: images/cats/cat.62.jpg  \n",
            " extracting: images/cats/cat.99.jpg  \n",
            " extracting: images/cats/cat.78.jpg  \n",
            " extracting: images/dogs/dog.98.jpg  \n",
            " extracting: images/cats/cat.67.jpg  \n",
            " extracting: images/dogs/dog.10.jpg  \n",
            " extracting: images/dogs/dog.26.jpg  \n",
            " extracting: images/cats/cat.26.jpg  \n",
            " extracting: images/cats/cat.48.jpg  \n",
            " extracting: images/cats/cat.58.jpg  \n",
            " extracting: images/dogs/dog.74.jpg  \n",
            " extracting: images/dogs/dog.84.jpg  \n",
            " extracting: images/dogs/dog.90.jpg  \n",
            " extracting: images/cats/cat.35.jpg  \n",
            " extracting: images/cats/cat.57.jpg  \n",
            " extracting: images/dogs/dog.40.jpg  \n",
            " extracting: images/cats/cat.92.jpg  \n",
            " extracting: images/cats/cat.29.jpg  \n",
            " extracting: images/cats/cat.89.jpg  \n",
            " extracting: images/dogs/dog.46.jpg  \n",
            " extracting: images/dogs/dog.99.jpg  \n",
            " extracting: images/dogs/dog.72.jpg  \n",
            " extracting: images/dogs/dog.66.jpg  \n",
            " extracting: images/cats/cat.98.jpg  \n",
            " extracting: images/cats/cat.81.jpg  \n",
            " extracting: images/dogs/dog.49.jpg  \n",
            " extracting: images/cats/cat.17.jpg  \n",
            " extracting: images/cats/cat.11.jpg  \n",
            " extracting: images/dogs/dog.85.jpg  \n",
            " extracting: images/dogs/dog.50.jpg  \n",
            " extracting: images/cats/cat.80.jpg  \n",
            " extracting: images/dogs/dog.67.jpg  \n",
            " extracting: images/dogs/dog.35.jpg  \n",
            " extracting: images/dogs/dog.56.jpg  \n",
            " extracting: images/dogs/dog.43.jpg  \n",
            " extracting: images/cats/cat.32.jpg  \n",
            " extracting: images/dogs/dog.75.jpg  \n",
            " extracting: images/dogs/dog.68.jpg  \n",
            " extracting: images/cats/cat.71.jpg  \n",
            " extracting: images/dogs/dog.16.jpg  \n",
            " extracting: images/dogs/dog.37.jpg  \n",
            " extracting: images/cats/cat.39.jpg  \n",
            " extracting: images/cats/cat.97.jpg  \n",
            " extracting: images/dogs/dog.73.jpg  \n",
            " extracting: images/dogs/dog.91.jpg  \n",
            " extracting: images/dogs/dog.11.jpg  \n",
            " extracting: images/cats/cat.93.jpg  \n",
            " extracting: images/cats/cat.50.jpg  \n",
            " extracting: images/cats/cat.66.jpg  \n",
            " extracting: images/dogs/dog.78.jpg  \n",
            " extracting: images/dogs/dog.63.jpg  \n",
            " extracting: images/cats/cat.88.jpg  \n",
            " extracting: images/dogs/dog.81.jpg  \n",
            " extracting: images/dogs/dog.20.jpg  \n",
            " extracting: images/cats/cat.46.jpg  \n",
            " extracting: images/dogs/dog.27.jpg  \n",
            " extracting: images/cats/cat.28.jpg  \n",
            " extracting: images/cats/cat.34.jpg  \n",
            " extracting: images/cats/cat.49.jpg  \n",
            " extracting: images/dogs/dog.55.jpg  \n",
            " extracting: images/cats/cat.82.jpg  \n",
            " extracting: images/cats/cat.56.jpg  \n",
            " extracting: images/dogs/dog.36.jpg  \n",
            " extracting: images/cats/cat.33.jpg  \n",
            " extracting: images/cats/cat.25.jpg  \n",
            " extracting: images/cats/cat.65.jpg  \n",
            " extracting: images/dogs/dog.17.jpg  \n",
            " extracting: images/cats/cat.14.jpg  \n",
            " extracting: images/cats/cat.38.jpg  \n",
            " extracting: images/dogs/dog.21.jpg  \n",
            " extracting: images/cats/cat.10.jpg  \n",
            " extracting: images/dogs/dog.89.jpg  \n",
            " extracting: images/dogs/dog.30.jpg  \n",
            " extracting: images/cats/cat.24.jpg  \n",
            " extracting: images/cats/cat.40.jpg  \n",
            " extracting: images/cats/cat.37.jpg  \n",
            " extracting: images/dogs/dog.79.jpg  \n",
            " extracting: images/cats/cat.59.jpg  \n",
            " extracting: images/cats/cat.90.jpg  \n",
            " extracting: images/dogs/dog.51.jpg  \n",
            " extracting: images/cats/cat.87.jpg  \n",
            " extracting: images/cats/cat.83.jpg  \n",
            " extracting: images/dogs/dog.19.jpg  \n",
            " extracting: images/cats/cat.77.jpg  \n",
            " extracting: images/cats/cat.196.jpg  \n",
            " extracting: images/cats/cat.115.jpg  \n",
            " extracting: images/cats/cat.195.jpg  \n",
            " extracting: images/cats/cat.136.jpg  \n",
            " extracting: images/dogs/dog.159.jpg  \n",
            " extracting: images/dogs/dog.137.jpg  \n",
            " extracting: images/cats/cat.155.jpg  \n",
            " extracting: images/cats/cat.131.jpg  \n",
            " extracting: images/dogs/dog.116.jpg  \n",
            " extracting: images/dogs/dog.187.jpg  \n",
            " extracting: images/cats/cat.148.jpg  \n",
            " extracting: images/cats/cat.190.jpg  \n",
            " extracting: images/cats/cat.170.jpg  \n",
            " extracting: images/cats/cat.113.jpg  \n",
            " extracting: images/cats/cat.193.jpg  \n",
            " extracting: images/cats/cat.138.jpg  \n",
            " extracting: images/dogs/dog.201.jpg  \n",
            " extracting: images/cats/cat.182.jpg  \n",
            " extracting: images/cats/cat.150.jpg  \n",
            " extracting: images/dogs/dog.131.jpg  \n",
            " extracting: images/dogs/dog.192.jpg  \n",
            " extracting: images/dogs/dog.182.jpg  \n",
            " extracting: images/dogs/dog.113.jpg  \n",
            " extracting: images/cats/cat.169.jpg  \n",
            " extracting: images/dogs/dog.124.jpg  \n",
            " extracting: images/dogs/dog.146.jpg  \n",
            " extracting: images/cats/cat.153.jpg  \n",
            " extracting: images/cats/cat.184.jpg  \n",
            " extracting: images/dogs/dog.112.jpg  \n",
            " extracting: images/cats/cat.175.jpg  \n",
            " extracting: images/cats/cat.141.jpg  \n",
            " extracting: images/cats/cat.108.jpg  \n",
            " extracting: images/dogs/dog.122.jpg  \n",
            " extracting: images/dogs/dog.111.jpg  \n",
            " extracting: images/cats/cat.139.jpg  \n",
            " extracting: images/cats/cat.174.jpg  \n",
            " extracting: images/dogs/dog.193.jpg  \n",
            " extracting: images/dogs/dog.128.jpg  \n",
            " extracting: images/cats/cat.120.jpg  \n",
            " extracting: images/cats/cat.149.jpg  \n",
            " extracting: images/cats/cat.151.jpg  \n",
            " extracting: images/dogs/dog.117.jpg  \n",
            " extracting: images/cats/cat.125.jpg  \n",
            " extracting: images/cats/cat.133.jpg  \n",
            " extracting: images/cats/cat.191.jpg  \n",
            " extracting: images/dogs/dog.186.jpg  \n",
            " extracting: images/dogs/dog.176.jpg  \n",
            " extracting: images/cats/cat.106.jpg  \n",
            " extracting: images/dogs/dog.125.jpg  \n",
            " extracting: images/dogs/dog.171.jpg  \n",
            " extracting: images/dogs/dog.123.jpg  \n",
            " extracting: images/dogs/dog.141.jpg  \n",
            " extracting: images/dogs/dog.183.jpg  \n",
            " extracting: images/dogs/dog.170.jpg  \n",
            " extracting: images/cats/cat.163.jpg  \n",
            " extracting: images/cats/cat.202.jpg  \n",
            " extracting: images/cats/cat.199.jpg  \n",
            " extracting: images/cats/cat.130.jpg  \n",
            " extracting: images/dogs/dog.198.jpg  \n",
            " extracting: images/cats/cat.165.jpg  \n",
            " extracting: images/cats/cat.147.jpg  \n",
            " extracting: images/cats/cat.143.jpg  \n",
            " extracting: images/dogs/dog.100.jpg  \n",
            " extracting: images/cats/cat.128.jpg  \n",
            " extracting: images/dogs/dog.148.jpg  \n",
            " extracting: images/cats/cat.107.jpg  \n",
            " extracting: images/cats/cat.132.jpg  \n",
            " extracting: images/cats/cat.154.jpg  \n",
            " extracting: images/cats/cat.124.jpg  \n",
            " extracting: images/dogs/dog.199.jpg  \n",
            " extracting: images/cats/cat.158.jpg  \n",
            " extracting: images/cats/cat.177.jpg  \n",
            " extracting: images/dogs/dog.167.jpg  \n",
            " extracting: images/dogs/dog.163.jpg  \n",
            " extracting: images/dogs/dog.140.jpg  \n",
            " extracting: images/cats/cat.101.jpg  \n",
            " extracting: images/dogs/dog.160.jpg  \n",
            " extracting: images/cats/cat.123.jpg  \n",
            " extracting: images/cats/cat.111.jpg  \n",
            " extracting: images/dogs/dog.177.jpg  \n",
            " extracting: images/cats/cat.172.jpg  \n",
            " extracting: images/cats/cat.146.jpg  \n",
            " extracting: images/dogs/dog.154.jpg  \n",
            " extracting: images/dogs/dog.129.jpg  \n",
            " extracting: images/dogs/dog.147.jpg  \n",
            " extracting: images/dogs/dog.166.jpg  \n",
            " extracting: images/cats/cat.100.jpg  \n",
            " extracting: images/cats/cat.164.jpg  \n",
            " extracting: images/dogs/dog.104.jpg  \n",
            " extracting: images/dogs/dog.138.jpg  \n",
            " extracting: images/dogs/dog.155.jpg  \n",
            " extracting: images/dogs/dog.118.jpg  \n",
            " extracting: images/cats/cat.162.jpg  \n",
            " extracting: images/cats/cat.103.jpg  \n",
            " extracting: images/cats/cat.197.jpg  \n",
            " extracting: images/dogs/dog.149.jpg  \n",
            " extracting: images/dogs/dog.134.jpg  \n",
            " extracting: images/cats/cat.135.jpg  \n",
            " extracting: images/cats/cat.142.jpg  \n",
            " extracting: images/dogs/dog.132.jpg  \n",
            " extracting: images/dogs/dog.196.jpg  \n",
            " extracting: images/dogs/dog.153.jpg  \n",
            " extracting: images/cats/cat.104.jpg  \n",
            " extracting: images/cats/cat.168.jpg  \n",
            " extracting: images/cats/cat.181.jpg  \n",
            " extracting: images/dogs/dog.185.jpg  \n",
            " extracting: images/cats/cat.110.jpg  \n",
            " extracting: images/dogs/dog.110.jpg  \n",
            " extracting: images/cats/cat.194.jpg  \n",
            " extracting: images/dogs/dog.119.jpg  \n",
            " extracting: images/cats/cat.117.jpg  \n",
            " extracting: images/dogs/dog.169.jpg  \n",
            " extracting: images/cats/cat.187.jpg  \n",
            " extracting: images/cats/cat.129.jpg  \n",
            " extracting: images/dogs/dog.135.jpg  \n",
            " extracting: images/cats/cat.188.jpg  \n",
            " extracting: images/cats/cat.122.jpg  \n",
            " extracting: images/dogs/dog.101.jpg  \n",
            " extracting: images/dogs/dog.144.jpg  \n",
            " extracting: images/dogs/dog.164.jpg  \n",
            " extracting: images/cats/cat.140.jpg  \n",
            " extracting: images/dogs/dog.105.jpg  \n",
            " extracting: images/cats/cat.179.jpg  \n",
            " extracting: images/cats/cat.152.jpg  \n",
            " extracting: images/dogs/dog.142.jpg  \n",
            " extracting: images/cats/cat.189.jpg  \n",
            " extracting: images/dogs/dog.139.jpg  \n",
            " extracting: images/cats/cat.180.jpg  \n",
            " extracting: images/dogs/dog.178.jpg  \n",
            " extracting: images/dogs/dog.107.jpg  \n",
            " extracting: images/dogs/dog.190.jpg  \n",
            " extracting: images/dogs/dog.194.jpg  \n",
            " extracting: images/dogs/dog.120.jpg  \n",
            " extracting: images/cats/cat.127.jpg  \n",
            " extracting: images/dogs/dog.143.jpg  \n",
            " extracting: images/dogs/dog.145.jpg  \n",
            " extracting: images/cats/cat.161.jpg  \n",
            " extracting: images/dogs/dog.165.jpg  \n",
            " extracting: images/dogs/dog.152.jpg  \n",
            " extracting: images/dogs/dog.202.jpg  \n",
            " extracting: images/cats/cat.105.jpg  \n",
            " extracting: images/dogs/dog.133.jpg  \n",
            " extracting: images/cats/cat.145.jpg  \n",
            " extracting: images/cats/cat.134.jpg  \n",
            " extracting: images/cats/cat.176.jpg  \n",
            " extracting: images/cats/cat.173.jpg  \n",
            " extracting: images/dogs/dog.108.jpg  \n",
            " extracting: images/cats/cat.167.jpg  \n",
            " extracting: images/cats/cat.166.jpg  \n",
            " extracting: images/dogs/dog.179.jpg  \n",
            " extracting: images/dogs/dog.102.jpg  \n",
            " extracting: images/dogs/dog.191.jpg  \n",
            " extracting: images/dogs/dog.151.jpg  \n",
            " extracting: images/dogs/dog.180.jpg  \n",
            " extracting: images/dogs/dog.106.jpg  \n",
            " extracting: images/cats/cat.186.jpg  \n",
            " extracting: images/dogs/dog.184.jpg  \n",
            " extracting: images/dogs/dog.115.jpg  \n",
            " extracting: images/cats/cat.137.jpg  \n",
            " extracting: images/dogs/dog.168.jpg  \n",
            " extracting: images/dogs/dog.150.jpg  \n",
            " extracting: images/dogs/dog.189.jpg  \n",
            " extracting: images/dogs/dog.197.jpg  \n",
            " extracting: images/dogs/dog.158.jpg  \n",
            " extracting: images/cats/cat.198.jpg  \n",
            " extracting: images/cats/cat.112.jpg  \n",
            " extracting: images/cats/cat.144.jpg  \n",
            " extracting: images/dogs/dog.157.jpg  \n",
            " extracting: images/dogs/dog.109.jpg  \n",
            " extracting: images/cats/cat.157.jpg  \n",
            " extracting: images/dogs/dog.127.jpg  \n",
            " extracting: images/dogs/dog.156.jpg  \n",
            " extracting: images/cats/cat.178.jpg  \n",
            " extracting: images/cats/cat.118.jpg  \n",
            " extracting: images/cats/cat.116.jpg  \n",
            " extracting: images/dogs/dog.172.jpg  \n",
            " extracting: images/cats/cat.200.jpg  \n",
            " extracting: images/dogs/dog.162.jpg  \n",
            " extracting: images/dogs/dog.200.jpg  \n",
            " extracting: images/dogs/dog.181.jpg  \n",
            " extracting: images/cats/cat.159.jpg  \n",
            " extracting: images/dogs/dog.188.jpg  \n",
            " extracting: images/dogs/dog.195.jpg  \n",
            " extracting: images/cats/cat.102.jpg  \n",
            " extracting: images/cats/cat.171.jpg  \n",
            " extracting: images/dogs/dog.114.jpg  \n",
            " extracting: images/cats/cat.114.jpg  \n",
            " extracting: images/cats/cat.119.jpg  \n",
            " extracting: images/dogs/dog.173.jpg  \n",
            " extracting: images/dogs/dog.136.jpg  \n",
            " extracting: images/dogs/dog.174.jpg  \n",
            " extracting: images/dogs/dog.130.jpg  \n",
            " extracting: images/cats/cat.121.jpg  \n",
            " extracting: images/cats/cat.156.jpg  \n",
            " extracting: images/cats/cat.160.jpg  \n",
            " extracting: images/dogs/dog.126.jpg  \n",
            " extracting: images/cats/cat.109.jpg  \n",
            " extracting: images/dogs/dog.161.jpg  \n",
            " extracting: images/cats/cat.201.jpg  \n",
            " extracting: images/cats/cat.126.jpg  \n",
            " extracting: images/dogs/dog.175.jpg  \n",
            " extracting: images/cats/cat.183.jpg  \n",
            " extracting: images/dogs/dog.103.jpg  \n",
            " extracting: images/dogs/dog.121.jpg  \n",
            " extracting: images/cats/cat.185.jpg  \n",
            " extracting: images/cats/cat.192.jpg  \n",
            " extracting: images/humans/rider-8.jpg  \n",
            " extracting: images/humans/rider-6.jpg  \n",
            " extracting: images/humans/rider-7.jpg  \n",
            " extracting: images/horses/horse-5.jpg  \n",
            " extracting: images/horses/horse-6.jpg  \n",
            " extracting: images/humans/rider-1.jpg  \n",
            " extracting: images/horses/horse-1.jpg  \n",
            " extracting: images/humans/rider-4.jpg  \n",
            " extracting: images/horses/horse-7.jpg  \n",
            " extracting: images/horses/horse-9.jpg  \n",
            " extracting: images/horses/horse-2.jpg  \n",
            " extracting: images/horses/horse-3.jpg  \n",
            " extracting: images/humans/rider-2.jpg  \n",
            " extracting: images/horses/horse-8.jpg  \n",
            " extracting: images/humans/rider-5.jpg  \n",
            " extracting: images/humans/rider-9.jpg  \n",
            " extracting: images/horses/horse-4.jpg  \n",
            " extracting: images/humans/rider-3.jpg  \n",
            " extracting: images/humans/rider-83.jpg  \n",
            " extracting: images/humans/rider-85.jpg  \n",
            " extracting: images/horses/horse-34.jpg  \n",
            " extracting: images/humans/rider-58.jpg  \n",
            " extracting: images/horses/horse-16.jpg  \n",
            " extracting: images/horses/horse-98.jpg  \n",
            " extracting: images/humans/rider-24.jpg  \n",
            " extracting: images/humans/rider-28.jpg  \n",
            " extracting: images/humans/rider-10.jpg  \n",
            " extracting: images/horses/horse-53.jpg  \n",
            " extracting: images/humans/rider-20.jpg  \n",
            " extracting: images/horses/horse-43.jpg  \n",
            " extracting: images/horses/horse-61.jpg  \n",
            " extracting: images/humans/rider-77.jpg  \n",
            " extracting: images/horses/horse-84.jpg  \n",
            " extracting: images/horses/horse-66.jpg  \n",
            " extracting: images/humans/rider-71.jpg  \n",
            " extracting: images/horses/horse-33.jpg  \n",
            " extracting: images/humans/rider-51.jpg  \n",
            " extracting: images/humans/rider-15.jpg  \n",
            " extracting: images/horses/horse-59.jpg  \n",
            " extracting: images/horses/horse-49.jpg  \n",
            " extracting: images/horses/horse-75.jpg  \n",
            " extracting: images/humans/rider-41.jpg  \n",
            " extracting: images/humans/rider-96.jpg  \n",
            " extracting: images/horses/horse-48.jpg  \n",
            " extracting: images/humans/rider-25.jpg  \n",
            " extracting: images/horses/horse-29.jpg  \n",
            " extracting: images/humans/rider-38.jpg  \n",
            " extracting: images/horses/horse-79.jpg  \n",
            " extracting: images/humans/rider-35.jpg  \n",
            " extracting: images/horses/horse-45.jpg  \n",
            " extracting: images/humans/rider-23.jpg  \n",
            " extracting: images/humans/rider-31.jpg  \n",
            " extracting: images/horses/horse-70.jpg  \n",
            " extracting: images/humans/rider-32.jpg  \n",
            " extracting: images/horses/horse-83.jpg  \n",
            " extracting: images/humans/rider-19.jpg  \n",
            " extracting: images/horses/horse-26.jpg  \n",
            " extracting: images/humans/rider-29.jpg  \n",
            " extracting: images/humans/rider-59.jpg  \n",
            " extracting: images/horses/horse-56.jpg  \n",
            " extracting: images/horses/horse-11.jpg  \n",
            " extracting: images/humans/rider-46.jpg  \n",
            " extracting: images/horses/horse-38.jpg  \n",
            " extracting: images/horses/horse-13.jpg  \n",
            " extracting: images/humans/rider-56.jpg  \n",
            " extracting: images/humans/rider-34.jpg  \n",
            " extracting: images/humans/rider-21.jpg  \n",
            " extracting: images/humans/rider-92.jpg  \n",
            " extracting: images/horses/horse-55.jpg  \n",
            " extracting: images/horses/horse-86.jpg  \n",
            " extracting: images/humans/rider-62.jpg  \n",
            " extracting: images/horses/horse-91.jpg  \n",
            " extracting: images/humans/rider-55.jpg  \n",
            " extracting: images/horses/horse-74.jpg  \n",
            " extracting: images/humans/rider-64.jpg  \n",
            " extracting: images/horses/horse-39.jpg  \n",
            " extracting: images/horses/horse-51.jpg  \n",
            " extracting: images/horses/horse-67.jpg  \n",
            " extracting: images/horses/horse-72.jpg  \n",
            " extracting: images/horses/horse-52.jpg  \n",
            " extracting: images/humans/rider-13.jpg  \n",
            " extracting: images/humans/rider-82.jpg  \n",
            " extracting: images/horses/horse-27.jpg  \n",
            " extracting: images/horses/horse-36.jpg  \n",
            " extracting: images/horses/horse-18.jpg  \n",
            " extracting: images/horses/horse-40.jpg  \n",
            " extracting: images/horses/horse-19.jpg  \n",
            " extracting: images/horses/horse-65.jpg  \n",
            " extracting: images/horses/horse-21.jpg  \n",
            " extracting: images/horses/horse-68.jpg  \n",
            " extracting: images/humans/rider-63.jpg  \n",
            " extracting: images/humans/rider-97.jpg  \n",
            " extracting: images/humans/rider-93.jpg  \n",
            " extracting: images/humans/rider-36.jpg  \n",
            " extracting: images/horses/horse-76.jpg  \n",
            " extracting: images/humans/rider-69.jpg  \n",
            " extracting: images/horses/horse-96.jpg  \n",
            " extracting: images/humans/rider-48.jpg  \n",
            " extracting: images/humans/rider-26.jpg  \n",
            " extracting: images/horses/horse-71.jpg  \n",
            " extracting: images/humans/rider-91.jpg  \n",
            " extracting: images/horses/horse-30.jpg  \n",
            " extracting: images/horses/horse-17.jpg  \n",
            " extracting: images/humans/rider-98.jpg  \n",
            " extracting: images/horses/horse-69.jpg  \n",
            " extracting: images/horses/horse-64.jpg  \n",
            " extracting: images/humans/rider-72.jpg  \n",
            " extracting: images/horses/horse-87.jpg  \n",
            " extracting: images/humans/rider-40.jpg  \n",
            " extracting: images/humans/rider-37.jpg  \n",
            " extracting: images/horses/horse-77.jpg  \n",
            " extracting: images/humans/rider-65.jpg  \n",
            " extracting: images/horses/horse-57.jpg  \n",
            " extracting: images/humans/rider-78.jpg  \n",
            " extracting: images/horses/horse-41.jpg  \n",
            " extracting: images/horses/horse-97.jpg  \n",
            " extracting: images/horses/horse-62.jpg  \n",
            " extracting: images/humans/rider-27.jpg  \n",
            " extracting: images/humans/rider-94.jpg  \n",
            " extracting: images/horses/horse-46.jpg  \n",
            " extracting: images/horses/horse-15.jpg  \n",
            " extracting: images/humans/rider-16.jpg  \n",
            " extracting: images/humans/rider-90.jpg  \n",
            " extracting: images/horses/horse-12.jpg  \n",
            " extracting: images/humans/rider-12.jpg  \n",
            " extracting: images/humans/rider-87.jpg  \n",
            " extracting: images/horses/horse-90.jpg  \n",
            " extracting: images/humans/rider-42.jpg  \n",
            " extracting: images/humans/rider-18.jpg  \n",
            " extracting: images/horses/horse-24.jpg  \n",
            " extracting: images/humans/rider-99.jpg  \n",
            " extracting: images/horses/horse-85.jpg  \n",
            " extracting: images/humans/rider-45.jpg  \n",
            " extracting: images/horses/horse-20.jpg  \n",
            " extracting: images/humans/rider-75.jpg  \n",
            " extracting: images/humans/rider-44.jpg  \n",
            " extracting: images/horses/horse-78.jpg  \n",
            " extracting: images/horses/horse-37.jpg  \n",
            " extracting: images/humans/rider-30.jpg  \n",
            " extracting: images/horses/horse-89.jpg  \n",
            " extracting: images/humans/rider-17.jpg  \n",
            " extracting: images/humans/rider-86.jpg  \n",
            " extracting: images/horses/horse-54.jpg  \n",
            " extracting: images/humans/rider-60.jpg  \n",
            " extracting: images/horses/horse-95.jpg  \n",
            " extracting: images/humans/rider-66.jpg  \n",
            " extracting: images/humans/rider-47.jpg  \n",
            " extracting: images/humans/rider-53.jpg  \n",
            " extracting: images/humans/rider-49.jpg  \n",
            " extracting: images/humans/rider-57.jpg  \n",
            " extracting: images/humans/rider-74.jpg  \n",
            " extracting: images/humans/rider-54.jpg  \n",
            " extracting: images/humans/rider-33.jpg  \n",
            " extracting: images/horses/horse-81.jpg  \n",
            " extracting: images/humans/rider-43.jpg  \n",
            " extracting: images/horses/horse-88.jpg  \n",
            " extracting: images/horses/horse-63.jpg  \n",
            " extracting: images/humans/rider-95.jpg  \n",
            " extracting: images/humans/rider-73.jpg  \n",
            " extracting: images/horses/horse-82.jpg  \n",
            " extracting: images/horses/horse-93.jpg  \n",
            " extracting: images/humans/rider-52.jpg  \n",
            " extracting: images/humans/rider-68.jpg  \n",
            " extracting: images/humans/rider-84.jpg  \n",
            " extracting: images/humans/rider-61.jpg  \n",
            " extracting: images/humans/rider-11.jpg  \n",
            " extracting: images/horses/horse-31.jpg  \n",
            " extracting: images/horses/horse-25.jpg  \n",
            " extracting: images/humans/rider-79.jpg  \n",
            " extracting: images/horses/horse-47.jpg  \n",
            " extracting: images/humans/rider-88.jpg  \n",
            " extracting: images/horses/horse-14.jpg  \n",
            " extracting: images/horses/horse-28.jpg  \n",
            " extracting: images/horses/horse-94.jpg  \n",
            " extracting: images/horses/horse-32.jpg  \n",
            " extracting: images/humans/rider-67.jpg  \n",
            " extracting: images/horses/horse-60.jpg  \n",
            " extracting: images/horses/horse-92.jpg  \n",
            " extracting: images/humans/rider-22.jpg  \n",
            " extracting: images/horses/horse-50.jpg  \n",
            " extracting: images/horses/horse-80.jpg  \n",
            " extracting: images/humans/rider-14.jpg  \n",
            " extracting: images/humans/rider-81.jpg  \n",
            " extracting: images/horses/horse-22.jpg  \n",
            " extracting: images/humans/rider-76.jpg  \n",
            " extracting: images/horses/horse-73.jpg  \n",
            " extracting: images/horses/horse-44.jpg  \n",
            " extracting: images/horses/horse-35.jpg  \n",
            " extracting: images/humans/rider-39.jpg  \n",
            " extracting: images/horses/horse-10.jpg  \n",
            " extracting: images/horses/horse-23.jpg  \n",
            " extracting: images/humans/rider-80.jpg  \n",
            " extracting: images/horses/horse-42.jpg  \n",
            " extracting: images/humans/rider-89.jpg  \n",
            " extracting: images/horses/horse-99.jpg  \n",
            " extracting: images/humans/rider-70.jpg  \n",
            " extracting: images/humans/rider-50.jpg  \n",
            " extracting: images/horses/horse-58.jpg  \n",
            " extracting: images/humans/rider-177.jpg  \n",
            " extracting: images/horses/horse-193.jpg  \n",
            " extracting: images/horses/horse-129.jpg  \n",
            " extracting: images/humans/rider-197.jpg  \n",
            " extracting: images/humans/rider-132.jpg  \n",
            " extracting: images/horses/horse-126.jpg  \n",
            " extracting: images/humans/rider-106.jpg  \n",
            " extracting: images/humans/rider-138.jpg  \n",
            " extracting: images/horses/horse-120.jpg  \n",
            " extracting: images/horses/horse-140.jpg  \n",
            " extracting: images/humans/rider-171.jpg  \n",
            " extracting: images/humans/rider-102.jpg  \n",
            " extracting: images/horses/horse-130.jpg  \n",
            " extracting: images/humans/rider-190.jpg  \n",
            " extracting: images/humans/rider-119.jpg  \n",
            " extracting: images/horses/horse-164.jpg  \n",
            " extracting: images/humans/rider-183.jpg  \n",
            " extracting: images/humans/rider-168.jpg  \n",
            " extracting: images/humans/rider-140.jpg  \n",
            " extracting: images/humans/rider-156.jpg  \n",
            " extracting: images/horses/horse-191.jpg  \n",
            " extracting: images/humans/rider-123.jpg  \n",
            " extracting: images/horses/horse-196.jpg  \n",
            " extracting: images/humans/rider-184.jpg  \n",
            " extracting: images/horses/horse-112.jpg  \n",
            " extracting: images/humans/rider-154.jpg  \n",
            " extracting: images/horses/horse-190.jpg  \n",
            " extracting: images/humans/rider-162.jpg  \n",
            " extracting: images/horses/horse-160.jpg  \n",
            " extracting: images/humans/rider-188.jpg  \n",
            " extracting: images/horses/horse-163.jpg  \n",
            " extracting: images/horses/horse-188.jpg  \n",
            " extracting: images/humans/rider-196.jpg  \n",
            " extracting: images/humans/rider-118.jpg  \n",
            " extracting: images/horses/horse-148.jpg  \n",
            " extracting: images/humans/rider-182.jpg  \n",
            " extracting: images/horses/horse-187.jpg  \n",
            " extracting: images/horses/horse-171.jpg  \n",
            " extracting: images/horses/horse-147.jpg  \n",
            " extracting: images/humans/rider-134.jpg  \n",
            " extracting: images/humans/rider-122.jpg  \n",
            " extracting: images/horses/horse-165.jpg  \n",
            " extracting: images/horses/horse-192.jpg  \n",
            " extracting: images/horses/horse-184.jpg  \n",
            " extracting: images/humans/rider-148.jpg  \n",
            " extracting: images/humans/rider-150.jpg  \n",
            " extracting: images/horses/horse-170.jpg  \n",
            " extracting: images/horses/horse-135.jpg  \n",
            " extracting: images/humans/rider-198.jpg  \n",
            " extracting: images/humans/rider-107.jpg  \n",
            " extracting: images/humans/rider-125.jpg  \n",
            " extracting: images/horses/horse-133.jpg  \n",
            " extracting: images/horses/horse-151.jpg  \n",
            " extracting: images/horses/horse-113.jpg  \n",
            " extracting: images/humans/rider-166.jpg  \n",
            " extracting: images/humans/rider-133.jpg  \n",
            " extracting: images/horses/horse-157.jpg  \n",
            " extracting: images/humans/rider-142.jpg  \n",
            " extracting: images/horses/horse-176.jpg  \n",
            " extracting: images/humans/rider-189.jpg  \n",
            " extracting: images/horses/horse-158.jpg  \n",
            " extracting: images/humans/rider-141.jpg  \n",
            " extracting: images/humans/rider-186.jpg  \n",
            " extracting: images/humans/rider-178.jpg  \n",
            " extracting: images/humans/rider-155.jpg  \n",
            " extracting: images/humans/rider-116.jpg  \n",
            " extracting: images/humans/rider-147.jpg  \n",
            " extracting: images/horses/horse-182.jpg  \n",
            " extracting: images/humans/rider-135.jpg  \n",
            " extracting: images/horses/horse-134.jpg  \n",
            " extracting: images/horses/horse-111.jpg  \n",
            " extracting: images/horses/horse-159.jpg  \n",
            " extracting: images/humans/rider-159.jpg  \n",
            " extracting: images/humans/rider-110.jpg  \n",
            " extracting: images/horses/horse-150.jpg  \n",
            " extracting: images/humans/rider-129.jpg  \n",
            " extracting: images/humans/rider-187.jpg  \n",
            " extracting: images/humans/rider-120.jpg  \n",
            " extracting: images/horses/horse-106.jpg  \n",
            " extracting: images/horses/horse-167.jpg  \n",
            " extracting: images/horses/horse-102.jpg  \n",
            " extracting: images/humans/rider-169.jpg  \n",
            " extracting: images/humans/rider-176.jpg  \n",
            " extracting: images/horses/horse-132.jpg  \n",
            " extracting: images/humans/rider-193.jpg  \n",
            " extracting: images/horses/horse-195.jpg  \n",
            " extracting: images/humans/rider-117.jpg  \n",
            " extracting: images/horses/horse-100.jpg  \n",
            " extracting: images/horses/horse-114.jpg  \n",
            " extracting: images/humans/rider-126.jpg  \n",
            " extracting: images/humans/rider-202.jpg  \n",
            " extracting: images/horses/horse-109.jpg  \n",
            " extracting: images/humans/rider-163.jpg  \n",
            " extracting: images/humans/rider-167.jpg  \n",
            " extracting: images/humans/rider-199.jpg  \n",
            " extracting: images/horses/horse-177.jpg  \n",
            " extracting: images/horses/horse-123.jpg  \n",
            " extracting: images/humans/rider-180.jpg  \n",
            " extracting: images/horses/horse-108.jpg  \n",
            " extracting: images/humans/rider-179.jpg  \n",
            " extracting: images/humans/rider-195.jpg  \n",
            " extracting: images/horses/horse-201.jpg  \n",
            " extracting: images/horses/horse-166.jpg  \n",
            " extracting: images/humans/rider-158.jpg  \n",
            " extracting: images/humans/rider-128.jpg  \n",
            " extracting: images/horses/horse-156.jpg  \n",
            " extracting: images/humans/rider-165.jpg  \n",
            " extracting: images/humans/rider-153.jpg  \n",
            " extracting: images/horses/horse-116.jpg  \n",
            " extracting: images/humans/rider-121.jpg  \n",
            " extracting: images/humans/rider-181.jpg  \n",
            " extracting: images/horses/horse-194.jpg  \n",
            " extracting: images/horses/horse-105.jpg  \n",
            " extracting: images/humans/rider-127.jpg  \n",
            " extracting: images/horses/horse-110.jpg  \n",
            " extracting: images/horses/horse-101.jpg  \n",
            " extracting: images/humans/rider-111.jpg  \n",
            " extracting: images/humans/rider-146.jpg  \n",
            " extracting: images/horses/horse-183.jpg  \n",
            " extracting: images/horses/horse-138.jpg  \n",
            " extracting: images/horses/horse-179.jpg  \n",
            " extracting: images/horses/horse-175.jpg  \n",
            " extracting: images/humans/rider-104.jpg  \n",
            " extracting: images/horses/horse-200.jpg  \n",
            " extracting: images/horses/horse-173.jpg  \n",
            " extracting: images/horses/horse-189.jpg  \n",
            " extracting: images/humans/rider-192.jpg  \n",
            " extracting: images/humans/rider-160.jpg  \n",
            " extracting: images/horses/horse-172.jpg  \n",
            " extracting: images/horses/horse-124.jpg  \n",
            " extracting: images/humans/rider-194.jpg  \n",
            " extracting: images/humans/rider-164.jpg  \n",
            " extracting: images/horses/horse-144.jpg  \n",
            " extracting: images/humans/rider-173.jpg  \n",
            " extracting: images/horses/horse-161.jpg  \n",
            " extracting: images/horses/horse-186.jpg  \n",
            " extracting: images/humans/rider-201.jpg  \n",
            " extracting: images/humans/rider-152.jpg  \n",
            " extracting: images/horses/horse-139.jpg  \n",
            " extracting: images/horses/horse-169.jpg  \n",
            " extracting: images/humans/rider-109.jpg  \n",
            " extracting: images/horses/horse-153.jpg  \n",
            " extracting: images/humans/rider-149.jpg  \n",
            " extracting: images/horses/horse-155.jpg  \n",
            " extracting: images/horses/horse-142.jpg  \n",
            " extracting: images/horses/horse-146.jpg  \n",
            " extracting: images/horses/horse-125.jpg  \n",
            " extracting: images/horses/horse-145.jpg  \n",
            " extracting: images/horses/horse-152.jpg  \n",
            " extracting: images/horses/horse-162.jpg  \n",
            " extracting: images/humans/rider-100.jpg  \n",
            " extracting: images/humans/rider-172.jpg  \n",
            " extracting: images/horses/horse-174.jpg  \n",
            " extracting: images/horses/horse-103.jpg  \n",
            " extracting: images/horses/horse-198.jpg  \n",
            " extracting: images/humans/rider-114.jpg  \n",
            " extracting: images/humans/rider-143.jpg  \n",
            " extracting: images/horses/horse-202.jpg  \n",
            " extracting: images/horses/horse-104.jpg  \n",
            " extracting: images/horses/horse-122.jpg  \n",
            " extracting: images/humans/rider-112.jpg  \n",
            " extracting: images/humans/rider-130.jpg  \n",
            " extracting: images/humans/rider-108.jpg  \n",
            " extracting: images/horses/horse-143.jpg  \n",
            " extracting: images/horses/horse-180.jpg  \n",
            " extracting: images/horses/horse-115.jpg  \n",
            " extracting: images/humans/rider-136.jpg  \n",
            " extracting: images/horses/horse-107.jpg  \n",
            " extracting: images/humans/rider-139.jpg  \n",
            " extracting: images/humans/rider-161.jpg  \n",
            " extracting: images/horses/horse-128.jpg  \n",
            " extracting: images/horses/horse-119.jpg  \n",
            " extracting: images/humans/rider-191.jpg  \n",
            " extracting: images/humans/rider-185.jpg  \n",
            " extracting: images/horses/horse-154.jpg  \n",
            " extracting: images/humans/rider-115.jpg  \n",
            " extracting: images/humans/rider-170.jpg  \n",
            " extracting: images/horses/horse-131.jpg  \n",
            " extracting: images/humans/rider-131.jpg  \n",
            " extracting: images/horses/horse-185.jpg  \n",
            " extracting: images/horses/horse-137.jpg  \n",
            " extracting: images/humans/rider-145.jpg  \n",
            " extracting: images/horses/horse-127.jpg  \n",
            " extracting: images/humans/rider-105.jpg  \n",
            " extracting: images/humans/rider-101.jpg  \n",
            " extracting: images/humans/rider-200.jpg  \n",
            " extracting: images/horses/horse-168.jpg  \n",
            " extracting: images/horses/horse-117.jpg  \n",
            " extracting: images/humans/rider-113.jpg  \n",
            " extracting: images/horses/horse-199.jpg  \n",
            " extracting: images/horses/horse-136.jpg  \n",
            " extracting: images/humans/rider-103.jpg  \n",
            " extracting: images/humans/rider-175.jpg  \n",
            " extracting: images/horses/horse-178.jpg  \n",
            " extracting: images/horses/horse-121.jpg  \n",
            " extracting: images/horses/horse-141.jpg  \n",
            " extracting: images/horses/horse-197.jpg  \n",
            " extracting: images/humans/rider-124.jpg  \n",
            " extracting: images/humans/rider-151.jpg  \n",
            " extracting: images/horses/horse-118.jpg  \n",
            " extracting: images/humans/rider-174.jpg  \n",
            " extracting: images/humans/rider-144.jpg  \n",
            " extracting: images/humans/rider-137.jpg  \n",
            " extracting: images/horses/horse-149.jpg  \n",
            " extracting: images/humans/rider-157.jpg  \n",
            " extracting: images/horses/horse-181.jpg  \n",
            "\n",
            "1 archive had fatal errors.\n"
          ],
          "name": "stdout"
        }
      ]
    },
    {
      "cell_type": "code",
      "metadata": {
        "id": "H0aSmYC7uS-5",
        "colab_type": "code",
        "colab": {}
      },
      "source": [
        "import os, shutil\n",
        "import matplotlib.pyplot as plt\n",
        "import numpy as np"
      ],
      "execution_count": 14,
      "outputs": []
    },
    {
      "cell_type": "code",
      "metadata": {
        "id": "F8yAcXFmubDx",
        "colab_type": "code",
        "colab": {}
      },
      "source": [
        "if not os.path.isdir(\"val_images\"):\n",
        "  os.mkdir(\"val_images\")"
      ],
      "execution_count": null,
      "outputs": []
    },
    {
      "cell_type": "code",
      "metadata": {
        "id": "IYAbaTHKujx1",
        "colab_type": "code",
        "colab": {}
      },
      "source": [
        "classes = ['cats', 'dogs', 'horses', 'humans']"
      ],
      "execution_count": null,
      "outputs": []
    },
    {
      "cell_type": "code",
      "metadata": {
        "id": "_cYNXXWPu9Pl",
        "colab_type": "code",
        "colab": {}
      },
      "source": [
        "for c in classes:\n",
        "  if not os.path.isdir(\"val_images/\" + c):\n",
        "    os.mkdir(\"val_images/\" + c)\n"
      ],
      "execution_count": null,
      "outputs": []
    },
    {
      "cell_type": "code",
      "metadata": {
        "id": "EyOyiVfgvEeq",
        "colab_type": "code",
        "colab": {
          "base_uri": "https://localhost:8080/",
          "height": 173
        },
        "outputId": "0ca6bc4f-11ae-45a2-fe81-7b60e86b2813"
      },
      "source": [
        "split = 0.9\n",
        "for dirc in os.listdir(\"images\"):\n",
        "  p = \"images/\" + dirc\n",
        "  imgs = os.listdir(p)\n",
        "  split_size = int(len(imgs)*split)\n",
        "  files_to_move =  imgs[split_size:]\n",
        "  print(files_to_move)\n",
        "  print()\n",
        "  for f in files_to_move:\n",
        "    src = os.path.join(p,f)\n",
        "    dest = os.path.join(\"val_images/\",dirc)\n",
        "    shutil.move(src,dest)"
      ],
      "execution_count": null,
      "outputs": [
        {
          "output_type": "stream",
          "text": [
            "['dog.74.jpg', 'dog.71.jpg', 'dog.90.jpg', 'dog.133.jpg', 'dog.72.jpg', 'dog.158.jpg', 'dog.33.jpg', 'dog.127.jpg', 'dog.182.jpg', 'dog.137.jpg', 'dog.91.jpg', 'dog.6.jpg', 'dog.171.jpg', 'dog.104.jpg', 'dog.161.jpg', 'dog.168.jpg', 'dog.101.jpg', 'dog.146.jpg', 'dog.102.jpg', 'dog.175.jpg', 'dog.42.jpg']\n",
            "\n",
            "['rider-96.jpg', 'rider-112.jpg', 'rider-17.jpg', 'rider-41.jpg', 'rider-45.jpg', 'rider-29.jpg', 'rider-120.jpg', 'rider-133.jpg', 'rider-93.jpg', 'rider-188.jpg', 'rider-193.jpg', 'rider-102.jpg', 'rider-39.jpg', 'rider-103.jpg', 'rider-32.jpg', 'rider-20.jpg', 'rider-136.jpg', 'rider-117.jpg', 'rider-137.jpg', 'rider-74.jpg', 'rider-44.jpg']\n",
            "\n",
            "['cat.26.jpg', 'cat.90.jpg', 'cat.43.jpg', 'cat.180.jpg', 'cat.83.jpg', 'cat.173.jpg', 'cat.79.jpg', 'cat.164.jpg', 'cat.69.jpg', 'cat.142.jpg', 'cat.68.jpg', 'cat.153.jpg', 'cat.192.jpg', 'cat.170.jpg', 'cat.143.jpg', 'cat.70.jpg', 'cat.152.jpg', 'cat.37.jpg', 'cat.157.jpg', 'cat.177.jpg', 'cat.29.jpg']\n",
            "\n",
            "['horse-15.jpg', 'horse-129.jpg', 'horse-89.jpg', 'horse-17.jpg', 'horse-8.jpg', 'horse-32.jpg', 'horse-75.jpg', 'horse-84.jpg', 'horse-74.jpg', 'horse-115.jpg', 'horse-151.jpg', 'horse-46.jpg', 'horse-5.jpg', 'horse-21.jpg', 'horse-98.jpg', 'horse-58.jpg', 'horse-190.jpg', 'horse-202.jpg', 'horse-80.jpg', 'horse-96.jpg', 'horse-157.jpg']\n",
            "\n"
          ],
          "name": "stdout"
        }
      ]
    },
    {
      "cell_type": "code",
      "metadata": {
        "id": "aJdR7BZxyQLa",
        "colab_type": "code",
        "colab": {
          "base_uri": "https://localhost:8080/",
          "height": 85
        },
        "outputId": "61dd06d0-87f4-4cad-bc85-fa0a382e4de0"
      },
      "source": [
        "for dirc in os.listdir(\"images/\"):\n",
        "    p = \"images/\" + dirc\n",
        "    if \".\" in p:\n",
        "        continue\n",
        "    img = os.listdir(p)\n",
        "    print(dirc, len(img))"
      ],
      "execution_count": null,
      "outputs": [
        {
          "output_type": "stream",
          "text": [
            "dogs 181\n",
            "humans 181\n",
            "cats 181\n",
            "horses 181\n"
          ],
          "name": "stdout"
        }
      ]
    },
    {
      "cell_type": "code",
      "metadata": {
        "id": "eMBHd9FdyYaV",
        "colab_type": "code",
        "colab": {
          "base_uri": "https://localhost:8080/",
          "height": 85
        },
        "outputId": "200d939d-3b58-4f22-b1e9-4aec5019fc23"
      },
      "source": [
        "for dirc in os.listdir(\"val_images/\"):\n",
        "    p = \"val_images/\" + dirc\n",
        "    if \".\" in p:\n",
        "        continue\n",
        "    img = os.listdir(p)\n",
        "    print(dirc, len(img))"
      ],
      "execution_count": null,
      "outputs": [
        {
          "output_type": "stream",
          "text": [
            "dogs 21\n",
            "humans 21\n",
            "cats 21\n",
            "horses 21\n"
          ],
          "name": "stdout"
        }
      ]
    },
    {
      "cell_type": "markdown",
      "metadata": {
        "id": "MBo5ylepzfne",
        "colab_type": "text"
      },
      "source": [
        "<h1>Image Augmentation</h1>"
      ]
    },
    {
      "cell_type": "code",
      "metadata": {
        "id": "YLjO8FMHydtB",
        "colab_type": "code",
        "colab": {
          "base_uri": "https://localhost:8080/",
          "height": 34
        },
        "outputId": "8d2bdc98-b86c-4f3b-c719-9d0c83ab0778"
      },
      "source": [
        "from keras.preprocessing import image\n"
      ],
      "execution_count": null,
      "outputs": [
        {
          "output_type": "stream",
          "text": [
            "Using TensorFlow backend.\n"
          ],
          "name": "stderr"
        }
      ]
    },
    {
      "cell_type": "code",
      "metadata": {
        "id": "gzDAWKnIzzG1",
        "colab_type": "code",
        "colab": {}
      },
      "source": [
        "train_datagen = image.ImageDataGenerator(rotation_range=20,\n",
        "                                         width_shift_range = 0.2,\n",
        "                                         height_shift_range = 0.2,\n",
        "                                         shear_range = 0.2,\n",
        "                                         zoom_range=0.3,\n",
        "                                         horizontal_flip = True\n",
        "                                         )"
      ],
      "execution_count": null,
      "outputs": []
    },
    {
      "cell_type": "code",
      "metadata": {
        "id": "JAwKZzD20gTC",
        "colab_type": "code",
        "colab": {}
      },
      "source": [
        "val_datagen = image.ImageDataGenerator()"
      ],
      "execution_count": null,
      "outputs": []
    },
    {
      "cell_type": "code",
      "metadata": {
        "id": "ntsncXHo0xdb",
        "colab_type": "code",
        "colab": {
          "base_uri": "https://localhost:8080/",
          "height": 34
        },
        "outputId": "f841b719-ff7e-4b58-9b92-b6b904383135"
      },
      "source": [
        "train_generator = train_datagen.flow_from_directory(\"images/\",\n",
        "                                  target_size=(224,224),  # image ka size\n",
        "                                  class_mode='categorical',\n",
        "                                  shuffle=True,\n",
        "                                  batch_size=32 )"
      ],
      "execution_count": null,
      "outputs": [
        {
          "output_type": "stream",
          "text": [
            "Found 724 images belonging to 4 classes.\n"
          ],
          "name": "stdout"
        }
      ]
    },
    {
      "cell_type": "code",
      "metadata": {
        "id": "cKXgJsSu1MuN",
        "colab_type": "code",
        "colab": {
          "base_uri": "https://localhost:8080/",
          "height": 34
        },
        "outputId": "06d7e42a-7caa-4b99-f839-0132dd984375"
      },
      "source": [
        "train_generator.class_indices"
      ],
      "execution_count": null,
      "outputs": [
        {
          "output_type": "execute_result",
          "data": {
            "text/plain": [
              "{'cats': 0, 'dogs': 1, 'horses': 2, 'humans': 3}"
            ]
          },
          "metadata": {
            "tags": []
          },
          "execution_count": 29
        }
      ]
    },
    {
      "cell_type": "code",
      "metadata": {
        "id": "pthxXoDhVJvw",
        "colab_type": "code",
        "colab": {}
      },
      "source": [
        "d, l = next(train_generator)"
      ],
      "execution_count": null,
      "outputs": []
    },
    {
      "cell_type": "code",
      "metadata": {
        "id": "dDN66CGzVR4K",
        "colab_type": "code",
        "colab": {
          "base_uri": "https://localhost:8080/",
          "height": 34
        },
        "outputId": "28f945f0-91e0-4502-b833-082276989a1d"
      },
      "source": [
        "d.shape, l.shape"
      ],
      "execution_count": null,
      "outputs": [
        {
          "output_type": "execute_result",
          "data": {
            "text/plain": [
              "((32, 224, 224, 3), (32, 4))"
            ]
          },
          "metadata": {
            "tags": []
          },
          "execution_count": 54
        }
      ]
    },
    {
      "cell_type": "code",
      "metadata": {
        "id": "fjZKmVFkV4sl",
        "colab_type": "code",
        "colab": {
          "base_uri": "https://localhost:8080/",
          "height": 850
        },
        "outputId": "0ac6b87d-d042-4ed0-f3fd-72ab6d2b3f0a"
      },
      "source": [
        "d[0]"
      ],
      "execution_count": null,
      "outputs": [
        {
          "output_type": "execute_result",
          "data": {
            "text/plain": [
              "array([[[ 92.573074,  88.22642 ,  59.23985 ],\n",
              "        [ 78.49234 ,  75.27182 ,  54.75383 ],\n",
              "        [ 71.86476 ,  70.117035,  58.06762 ],\n",
              "        ...,\n",
              "        [ 57.548584,  58.548584,  52.548584],\n",
              "        [ 56.684525,  56.315475,  53.05357 ],\n",
              "        [ 56.243805,  55.243805,  53.243805]],\n",
              "\n",
              "       [[143.84106 , 139.24284 ,  89.70089 ],\n",
              "        [129.09071 , 123.54675 ,  80.791245],\n",
              "        [106.63058 , 101.82302 ,  67.53608 ],\n",
              "        ...,\n",
              "        [ 56.22741 ,  57.22741 ,  51.22741 ],\n",
              "        [ 56.985184,  55.985184,  53.985184],\n",
              "        [ 56.086487,  55.086487,  53.086487]],\n",
              "\n",
              "       [[146.32434 , 149.68217 ,  92.60865 ],\n",
              "        [147.43297 , 148.82124 ,  92.69414 ],\n",
              "        [145.22377 , 142.93005 ,  90.85314 ],\n",
              "        ...,\n",
              "        [ 56.27344 ,  56.72656 ,  51.820328],\n",
              "        [ 56.65489 ,  55.65489 ,  53.65489 ],\n",
              "        [ 56.416782,  55.416782,  53.416782]],\n",
              "\n",
              "       ...,\n",
              "\n",
              "       [[ 42.53769 ,  38.53769 ,  35.53769 ],\n",
              "        [ 35.435364,  34.797424,  32.63794 ],\n",
              "        [ 36.736553,  35.82437 ,  33.82437 ],\n",
              "        ...,\n",
              "        [ 85.374664,  90.52507 ,  73.32453 ],\n",
              "        [ 83.53367 ,  90.893265,  70.74714 ],\n",
              "        [ 83.52293 ,  91.78439 ,  71.30733 ]],\n",
              "\n",
              "       [[ 42.107742,  38.504303,  35.603443],\n",
              "        [ 34.51243 ,  34.341618,  32.341618],\n",
              "        [ 35.787605,  34.787605,  32.787605],\n",
              "        ...,\n",
              "        [ 87.11644 ,  89.55822 ,  77.44178 ],\n",
              "        [ 87.85284 ,  89.926414,  77.073586],\n",
              "        [ 86.52692 ,  90.29462 ,  74.93769 ]],\n",
              "\n",
              "       [[ 39.135098,  36.852833,  34.282265],\n",
              "        [ 35.50331 ,  35.00221 ,  33.00221 ],\n",
              "        [ 34.13613 ,  33.13613 ,  31.136133],\n",
              "        ...,\n",
              "        [ 90.0863  ,  93.0863  ,  82.90357 ],\n",
              "        [ 86.40432 ,  89.40432 ,  78.48518 ],\n",
              "        [ 86.65553 ,  89.32777 ,  77.67223 ]]], dtype=float32)"
            ]
          },
          "metadata": {
            "tags": []
          },
          "execution_count": 55
        }
      ]
    },
    {
      "cell_type": "code",
      "metadata": {
        "id": "ds8HBhmqVUIv",
        "colab_type": "code",
        "colab": {
          "base_uri": "https://localhost:8080/",
          "height": 286
        },
        "outputId": "c09fc359-50a0-4f15-e940-100bd2e97f53"
      },
      "source": [
        "plt.imshow(d[0].astype('int'))\n",
        "print(l[0])"
      ],
      "execution_count": null,
      "outputs": [
        {
          "output_type": "stream",
          "text": [
            "[0. 0. 0. 1.]\n"
          ],
          "name": "stdout"
        },
        {
          "output_type": "display_data",
          "data": {
            "image/png": "[encoded data removed]",
            "text/plain": [
              "<Figure size 432x288 with 1 Axes>"
            ]
          },
          "metadata": {
            "tags": [],
            "needs_background": "light"
          }
        }
      ]
    },
    {
      "cell_type": "code",
      "metadata": {
        "id": "jq1OMNvA1SCD",
        "colab_type": "code",
        "colab": {
          "base_uri": "https://localhost:8080/",
          "height": 34
        },
        "outputId": "9f4abe2f-efc6-42c9-decb-b4aaed36ebd7"
      },
      "source": [
        "val_generator = val_datagen.flow_from_directory(\"val_images/\", \n",
        "                                                target_size=(224,224), \n",
        "                                                class_mode='categorical', \n",
        "                                                batch_size=32)"
      ],
      "execution_count": null,
      "outputs": [
        {
          "output_type": "stream",
          "text": [
            "Found 84 images belonging to 4 classes.\n"
          ],
          "name": "stdout"
        }
      ]
    },
    {
      "cell_type": "code",
      "metadata": {
        "id": "Y-B5R3061WGb",
        "colab_type": "code",
        "colab": {}
      },
      "source": [
        "from keras.applications.resnet50 import ResNet50\n",
        "from keras.applications.resnet50 import preprocess_input,decode_predictions\n",
        "\n",
        "import numpy as np"
      ],
      "execution_count": null,
      "outputs": []
    },
    {
      "cell_type": "code",
      "metadata": {
        "id": "7DQghhNj1yjm",
        "colab_type": "code",
        "colab": {
          "base_uri": "https://localhost:8080/",
          "height": 71
        },
        "outputId": "c0d925ba-d160-44e4-947d-4690bb92329f"
      },
      "source": [
        "resnet = ResNet50(include_top = True,weights = \"imagenet\")"
      ],
      "execution_count": null,
      "outputs": [
        {
          "output_type": "stream",
          "text": [
            "Downloading data from https://github.com/fchollet/deep-learning-models/releases/download/v0.2/resnet50_weights_tf_dim_ordering_tf_kernels.h5\n",
            "102858752/102853048 [==============================] - 4s 0us/step\n"
          ],
          "name": "stdout"
        }
      ]
    },
    {
      "cell_type": "code",
      "metadata": {
        "id": "uy8qe1LH2UPD",
        "colab_type": "code",
        "colab": {}
      },
      "source": [
        "from keras.layers import Input, Conv2D, MaxPool2D, Dense, Flatten\n",
        "from keras.models import Model\n",
        "x = resnet.layers[-2].output\n",
        "fc1 = Dense(4,activation = \"softmax\")(x)"
      ],
      "execution_count": null,
      "outputs": []
    },
    {
      "cell_type": "code",
      "metadata": {
        "id": "52rcWgtC3oOB",
        "colab_type": "code",
        "colab": {}
      },
      "source": [
        "my_model = Model(inputs=resnet.input,outputs = fc1)"
      ],
      "execution_count": null,
      "outputs": []
    },
    {
      "cell_type": "code",
      "metadata": {
        "id": "wz476W7V33Ud",
        "colab_type": "code",
        "colab": {}
      },
      "source": [
        "# Freezing All Layers\n",
        "for l in my_model.layers[:-2]:\n",
        "    #print(l)\n",
        "    l.trainable = False\n",
        "my_model.compile(optimizer=\"adam\",loss = \"categorical_crossentropy\",metrics=[\"accuracy\"])"
      ],
      "execution_count": null,
      "outputs": []
    },
    {
      "cell_type": "code",
      "metadata": {
        "id": "zcBmgvYd5MHX",
        "colab_type": "code",
        "colab": {
          "base_uri": "https://localhost:8080/",
          "height": 1000
        },
        "outputId": "a74dbe0c-26c4-4569-b5de-4008721447df"
      },
      "source": [
        "my_model.summary()"
      ],
      "execution_count": null,
      "outputs": [
        {
          "output_type": "stream",
          "text": [
            "Model: \"model_1\"\n",
            "__________________________________________________________________________________________________\n",
            "Layer (type)                    Output Shape         Param #     Connected to                     \n",
            "==================================================================================================\n",
            "input_1 (InputLayer)            (None, 224, 224, 3)  0                                            \n",
            "__________________________________________________________________________________________________\n",
            "conv1_pad (ZeroPadding2D)       (None, 230, 230, 3)  0           input_1[0][0]                    \n",
            "__________________________________________________________________________________________________\n",
            "conv1 (Conv2D)                  (None, 112, 112, 64) 9472        conv1_pad[0][0]                  \n",
            "__________________________________________________________________________________________________\n",
            "bn_conv1 (BatchNormalization)   (None, 112, 112, 64) 256         conv1[0][0]                      \n",
            "__________________________________________________________________________________________________\n",
            "activation_1 (Activation)       (None, 112, 112, 64) 0           bn_conv1[0][0]                   \n",
            "__________________________________________________________________________________________________\n",
            "pool1_pad (ZeroPadding2D)       (None, 114, 114, 64) 0           activation_1[0][0]               \n",
            "__________________________________________________________________________________________________\n",
            "max_pooling2d_1 (MaxPooling2D)  (None, 56, 56, 64)   0           pool1_pad[0][0]                  \n",
            "__________________________________________________________________________________________________\n",
            "res2a_branch2a (Conv2D)         (None, 56, 56, 64)   4160        max_pooling2d_1[0][0]            \n",
            "__________________________________________________________________________________________________\n",
            "bn2a_branch2a (BatchNormalizati (None, 56, 56, 64)   256         res2a_branch2a[0][0]             \n",
            "__________________________________________________________________________________________________\n",
            "activation_2 (Activation)       (None, 56, 56, 64)   0           bn2a_branch2a[0][0]              \n",
            "__________________________________________________________________________________________________\n",
            "res2a_branch2b (Conv2D)         (None, 56, 56, 64)   36928       activation_2[0][0]               \n",
            "__________________________________________________________________________________________________\n",
            "bn2a_branch2b (BatchNormalizati (None, 56, 56, 64)   256         res2a_branch2b[0][0]             \n",
            "__________________________________________________________________________________________________\n",
            "activation_3 (Activation)       (None, 56, 56, 64)   0           bn2a_branch2b[0][0]              \n",
            "__________________________________________________________________________________________________\n",
            "res2a_branch2c (Conv2D)         (None, 56, 56, 256)  16640       activation_3[0][0]               \n",
            "__________________________________________________________________________________________________\n",
            "res2a_branch1 (Conv2D)          (None, 56, 56, 256)  16640       max_pooling2d_1[0][0]            \n",
            "__________________________________________________________________________________________________\n",
            "bn2a_branch2c (BatchNormalizati (None, 56, 56, 256)  1024        res2a_branch2c[0][0]             \n",
            "__________________________________________________________________________________________________\n",
            "bn2a_branch1 (BatchNormalizatio (None, 56, 56, 256)  1024        res2a_branch1[0][0]              \n",
            "__________________________________________________________________________________________________\n",
            "add_1 (Add)                     (None, 56, 56, 256)  0           bn2a_branch2c[0][0]              \n",
            "                                                                 bn2a_branch1[0][0]               \n",
            "__________________________________________________________________________________________________\n",
            "activation_4 (Activation)       (None, 56, 56, 256)  0           add_1[0][0]                      \n",
            "__________________________________________________________________________________________________\n",
            "res2b_branch2a (Conv2D)         (None, 56, 56, 64)   16448       activation_4[0][0]               \n",
            "__________________________________________________________________________________________________\n",
            "bn2b_branch2a (BatchNormalizati (None, 56, 56, 64)   256         res2b_branch2a[0][0]             \n",
            "__________________________________________________________________________________________________\n",
            "activation_5 (Activation)       (None, 56, 56, 64)   0           bn2b_branch2a[0][0]              \n",
            "__________________________________________________________________________________________________\n",
            "res2b_branch2b (Conv2D)         (None, 56, 56, 64)   36928       activation_5[0][0]               \n",
            "__________________________________________________________________________________________________\n",
            "bn2b_branch2b (BatchNormalizati (None, 56, 56, 64)   256         res2b_branch2b[0][0]             \n",
            "__________________________________________________________________________________________________\n",
            "activation_6 (Activation)       (None, 56, 56, 64)   0           bn2b_branch2b[0][0]              \n",
            "__________________________________________________________________________________________________\n",
            "res2b_branch2c (Conv2D)         (None, 56, 56, 256)  16640       activation_6[0][0]               \n",
            "__________________________________________________________________________________________________\n",
            "bn2b_branch2c (BatchNormalizati (None, 56, 56, 256)  1024        res2b_branch2c[0][0]             \n",
            "__________________________________________________________________________________________________\n",
            "add_2 (Add)                     (None, 56, 56, 256)  0           bn2b_branch2c[0][0]              \n",
            "                                                                 activation_4[0][0]               \n",
            "__________________________________________________________________________________________________\n",
            "activation_7 (Activation)       (None, 56, 56, 256)  0           add_2[0][0]                      \n",
            "__________________________________________________________________________________________________\n",
            "res2c_branch2a (Conv2D)         (None, 56, 56, 64)   16448       activation_7[0][0]               \n",
            "__________________________________________________________________________________________________\n",
            "bn2c_branch2a (BatchNormalizati (None, 56, 56, 64)   256         res2c_branch2a[0][0]             \n",
            "__________________________________________________________________________________________________\n",
            "activation_8 (Activation)       (None, 56, 56, 64)   0           bn2c_branch2a[0][0]              \n",
            "__________________________________________________________________________________________________\n",
            "res2c_branch2b (Conv2D)         (None, 56, 56, 64)   36928       activation_8[0][0]               \n",
            "__________________________________________________________________________________________________\n",
            "bn2c_branch2b (BatchNormalizati (None, 56, 56, 64)   256         res2c_branch2b[0][0]             \n",
            "__________________________________________________________________________________________________\n",
            "activation_9 (Activation)       (None, 56, 56, 64)   0           bn2c_branch2b[0][0]              \n",
            "__________________________________________________________________________________________________\n",
            "res2c_branch2c (Conv2D)         (None, 56, 56, 256)  16640       activation_9[0][0]               \n",
            "__________________________________________________________________________________________________\n",
            "bn2c_branch2c (BatchNormalizati (None, 56, 56, 256)  1024        res2c_branch2c[0][0]             \n",
            "__________________________________________________________________________________________________\n",
            "add_3 (Add)                     (None, 56, 56, 256)  0           bn2c_branch2c[0][0]              \n",
            "                                                                 activation_7[0][0]               \n",
            "__________________________________________________________________________________________________\n",
            "activation_10 (Activation)      (None, 56, 56, 256)  0           add_3[0][0]                      \n",
            "__________________________________________________________________________________________________\n",
            "res3a_branch2a (Conv2D)         (None, 28, 28, 128)  32896       activation_10[0][0]              \n",
            "__________________________________________________________________________________________________\n",
            "bn3a_branch2a (BatchNormalizati (None, 28, 28, 128)  512         res3a_branch2a[0][0]             \n",
            "__________________________________________________________________________________________________\n",
            "activation_11 (Activation)      (None, 28, 28, 128)  0           bn3a_branch2a[0][0]              \n",
            "__________________________________________________________________________________________________\n",
            "res3a_branch2b (Conv2D)         (None, 28, 28, 128)  147584      activation_11[0][0]              \n",
            "__________________________________________________________________________________________________\n",
            "bn3a_branch2b (BatchNormalizati (None, 28, 28, 128)  512         res3a_branch2b[0][0]             \n",
            "__________________________________________________________________________________________________\n",
            "activation_12 (Activation)      (None, 28, 28, 128)  0           bn3a_branch2b[0][0]              \n",
            "__________________________________________________________________________________________________\n",
            "res3a_branch2c (Conv2D)         (None, 28, 28, 512)  66048       activation_12[0][0]              \n",
            "__________________________________________________________________________________________________\n",
            "res3a_branch1 (Conv2D)          (None, 28, 28, 512)  131584      activation_10[0][0]              \n",
            "__________________________________________________________________________________________________\n",
            "bn3a_branch2c (BatchNormalizati (None, 28, 28, 512)  2048        res3a_branch2c[0][0]             \n",
            "__________________________________________________________________________________________________\n",
            "bn3a_branch1 (BatchNormalizatio (None, 28, 28, 512)  2048        res3a_branch1[0][0]              \n",
            "__________________________________________________________________________________________________\n",
            "add_4 (Add)                     (None, 28, 28, 512)  0           bn3a_branch2c[0][0]              \n",
            "                                                                 bn3a_branch1[0][0]               \n",
            "__________________________________________________________________________________________________\n",
            "activation_13 (Activation)      (None, 28, 28, 512)  0           add_4[0][0]                      \n",
            "__________________________________________________________________________________________________\n",
            "res3b_branch2a (Conv2D)         (None, 28, 28, 128)  65664       activation_13[0][0]              \n",
            "__________________________________________________________________________________________________\n",
            "bn3b_branch2a (BatchNormalizati (None, 28, 28, 128)  512         res3b_branch2a[0][0]             \n",
            "__________________________________________________________________________________________________\n",
            "activation_14 (Activation)      (None, 28, 28, 128)  0           bn3b_branch2a[0][0]              \n",
            "__________________________________________________________________________________________________\n",
            "res3b_branch2b (Conv2D)         (None, 28, 28, 128)  147584      activation_14[0][0]              \n",
            "__________________________________________________________________________________________________\n",
            "bn3b_branch2b (BatchNormalizati (None, 28, 28, 128)  512         res3b_branch2b[0][0]             \n",
            "__________________________________________________________________________________________________\n",
            "activation_15 (Activation)      (None, 28, 28, 128)  0           bn3b_branch2b[0][0]              \n",
            "__________________________________________________________________________________________________\n",
            "res3b_branch2c (Conv2D)         (None, 28, 28, 512)  66048       activation_15[0][0]              \n",
            "__________________________________________________________________________________________________\n",
            "bn3b_branch2c (BatchNormalizati (None, 28, 28, 512)  2048        res3b_branch2c[0][0]             \n",
            "__________________________________________________________________________________________________\n",
            "add_5 (Add)                     (None, 28, 28, 512)  0           bn3b_branch2c[0][0]              \n",
            "                                                                 activation_13[0][0]              \n",
            "__________________________________________________________________________________________________\n",
            "activation_16 (Activation)      (None, 28, 28, 512)  0           add_5[0][0]                      \n",
            "__________________________________________________________________________________________________\n",
            "res3c_branch2a (Conv2D)         (None, 28, 28, 128)  65664       activation_16[0][0]              \n",
            "__________________________________________________________________________________________________\n",
            "bn3c_branch2a (BatchNormalizati (None, 28, 28, 128)  512         res3c_branch2a[0][0]             \n",
            "__________________________________________________________________________________________________\n",
            "activation_17 (Activation)      (None, 28, 28, 128)  0           bn3c_branch2a[0][0]              \n",
            "__________________________________________________________________________________________________\n",
            "res3c_branch2b (Conv2D)         (None, 28, 28, 128)  147584      activation_17[0][0]              \n",
            "__________________________________________________________________________________________________\n",
            "bn3c_branch2b (BatchNormalizati (None, 28, 28, 128)  512         res3c_branch2b[0][0]             \n",
            "__________________________________________________________________________________________________\n",
            "activation_18 (Activation)      (None, 28, 28, 128)  0           bn3c_branch2b[0][0]              \n",
            "__________________________________________________________________________________________________\n",
            "res3c_branch2c (Conv2D)         (None, 28, 28, 512)  66048       activation_18[0][0]              \n",
            "__________________________________________________________________________________________________\n",
            "bn3c_branch2c (BatchNormalizati (None, 28, 28, 512)  2048        res3c_branch2c[0][0]             \n",
            "__________________________________________________________________________________________________\n",
            "add_6 (Add)                     (None, 28, 28, 512)  0           bn3c_branch2c[0][0]              \n",
            "                                                                 activation_16[0][0]              \n",
            "__________________________________________________________________________________________________\n",
            "activation_19 (Activation)      (None, 28, 28, 512)  0           add_6[0][0]                      \n",
            "__________________________________________________________________________________________________\n",
            "res3d_branch2a (Conv2D)         (None, 28, 28, 128)  65664       activation_19[0][0]              \n",
            "__________________________________________________________________________________________________\n",
            "bn3d_branch2a (BatchNormalizati (None, 28, 28, 128)  512         res3d_branch2a[0][0]             \n",
            "__________________________________________________________________________________________________\n",
            "activation_20 (Activation)      (None, 28, 28, 128)  0           bn3d_branch2a[0][0]              \n",
            "__________________________________________________________________________________________________\n",
            "res3d_branch2b (Conv2D)         (None, 28, 28, 128)  147584      activation_20[0][0]              \n",
            "__________________________________________________________________________________________________\n",
            "bn3d_branch2b (BatchNormalizati (None, 28, 28, 128)  512         res3d_branch2b[0][0]             \n",
            "__________________________________________________________________________________________________\n",
            "activation_21 (Activation)      (None, 28, 28, 128)  0           bn3d_branch2b[0][0]              \n",
            "__________________________________________________________________________________________________\n",
            "res3d_branch2c (Conv2D)         (None, 28, 28, 512)  66048       activation_21[0][0]              \n",
            "__________________________________________________________________________________________________\n",
            "bn3d_branch2c (BatchNormalizati (None, 28, 28, 512)  2048        res3d_branch2c[0][0]             \n",
            "__________________________________________________________________________________________________\n",
            "add_7 (Add)                     (None, 28, 28, 512)  0           bn3d_branch2c[0][0]              \n",
            "                                                                 activation_19[0][0]              \n",
            "__________________________________________________________________________________________________\n",
            "activation_22 (Activation)      (None, 28, 28, 512)  0           add_7[0][0]                      \n",
            "__________________________________________________________________________________________________\n",
            "res4a_branch2a (Conv2D)         (None, 14, 14, 256)  131328      activation_22[0][0]              \n",
            "__________________________________________________________________________________________________\n",
            "bn4a_branch2a (BatchNormalizati (None, 14, 14, 256)  1024        res4a_branch2a[0][0]             \n",
            "__________________________________________________________________________________________________\n",
            "activation_23 (Activation)      (None, 14, 14, 256)  0           bn4a_branch2a[0][0]              \n",
            "__________________________________________________________________________________________________\n",
            "res4a_branch2b (Conv2D)         (None, 14, 14, 256)  590080      activation_23[0][0]              \n",
            "__________________________________________________________________________________________________\n",
            "bn4a_branch2b (BatchNormalizati (None, 14, 14, 256)  1024        res4a_branch2b[0][0]             \n",
            "__________________________________________________________________________________________________\n",
            "activation_24 (Activation)      (None, 14, 14, 256)  0           bn4a_branch2b[0][0]              \n",
            "__________________________________________________________________________________________________\n",
            "res4a_branch2c (Conv2D)         (None, 14, 14, 1024) 263168      activation_24[0][0]              \n",
            "__________________________________________________________________________________________________\n",
            "res4a_branch1 (Conv2D)          (None, 14, 14, 1024) 525312      activation_22[0][0]              \n",
            "__________________________________________________________________________________________________\n",
            "bn4a_branch2c (BatchNormalizati (None, 14, 14, 1024) 4096        res4a_branch2c[0][0]             \n",
            "__________________________________________________________________________________________________\n",
            "bn4a_branch1 (BatchNormalizatio (None, 14, 14, 1024) 4096        res4a_branch1[0][0]              \n",
            "__________________________________________________________________________________________________\n",
            "add_8 (Add)                     (None, 14, 14, 1024) 0           bn4a_branch2c[0][0]              \n",
            "                                                                 bn4a_branch1[0][0]               \n",
            "__________________________________________________________________________________________________\n",
            "activation_25 (Activation)      (None, 14, 14, 1024) 0           add_8[0][0]                      \n",
            "__________________________________________________________________________________________________\n",
            "res4b_branch2a (Conv2D)         (None, 14, 14, 256)  262400      activation_25[0][0]              \n",
            "__________________________________________________________________________________________________\n",
            "bn4b_branch2a (BatchNormalizati (None, 14, 14, 256)  1024        res4b_branch2a[0][0]             \n",
            "__________________________________________________________________________________________________\n",
            "activation_26 (Activation)      (None, 14, 14, 256)  0           bn4b_branch2a[0][0]              \n",
            "__________________________________________________________________________________________________\n",
            "res4b_branch2b (Conv2D)         (None, 14, 14, 256)  590080      activation_26[0][0]              \n",
            "__________________________________________________________________________________________________\n",
            "bn4b_branch2b (BatchNormalizati (None, 14, 14, 256)  1024        res4b_branch2b[0][0]             \n",
            "__________________________________________________________________________________________________\n",
            "activation_27 (Activation)      (None, 14, 14, 256)  0           bn4b_branch2b[0][0]              \n",
            "__________________________________________________________________________________________________\n",
            "res4b_branch2c (Conv2D)         (None, 14, 14, 1024) 263168      activation_27[0][0]              \n",
            "__________________________________________________________________________________________________\n",
            "bn4b_branch2c (BatchNormalizati (None, 14, 14, 1024) 4096        res4b_branch2c[0][0]             \n",
            "__________________________________________________________________________________________________\n",
            "add_9 (Add)                     (None, 14, 14, 1024) 0           bn4b_branch2c[0][0]              \n",
            "                                                                 activation_25[0][0]              \n",
            "__________________________________________________________________________________________________\n",
            "activation_28 (Activation)      (None, 14, 14, 1024) 0           add_9[0][0]                      \n",
            "__________________________________________________________________________________________________\n",
            "res4c_branch2a (Conv2D)         (None, 14, 14, 256)  262400      activation_28[0][0]              \n",
            "__________________________________________________________________________________________________\n",
            "bn4c_branch2a (BatchNormalizati (None, 14, 14, 256)  1024        res4c_branch2a[0][0]             \n",
            "__________________________________________________________________________________________________\n",
            "activation_29 (Activation)      (None, 14, 14, 256)  0           bn4c_branch2a[0][0]              \n",
            "__________________________________________________________________________________________________\n",
            "res4c_branch2b (Conv2D)         (None, 14, 14, 256)  590080      activation_29[0][0]              \n",
            "__________________________________________________________________________________________________\n",
            "bn4c_branch2b (BatchNormalizati (None, 14, 14, 256)  1024        res4c_branch2b[0][0]             \n",
            "__________________________________________________________________________________________________\n",
            "activation_30 (Activation)      (None, 14, 14, 256)  0           bn4c_branch2b[0][0]              \n",
            "__________________________________________________________________________________________________\n",
            "res4c_branch2c (Conv2D)         (None, 14, 14, 1024) 263168      activation_30[0][0]              \n",
            "__________________________________________________________________________________________________\n",
            "bn4c_branch2c (BatchNormalizati (None, 14, 14, 1024) 4096        res4c_branch2c[0][0]             \n",
            "__________________________________________________________________________________________________\n",
            "add_10 (Add)                    (None, 14, 14, 1024) 0           bn4c_branch2c[0][0]              \n",
            "                                                                 activation_28[0][0]              \n",
            "__________________________________________________________________________________________________\n",
            "activation_31 (Activation)      (None, 14, 14, 1024) 0           add_10[0][0]                     \n",
            "__________________________________________________________________________________________________\n",
            "res4d_branch2a (Conv2D)         (None, 14, 14, 256)  262400      activation_31[0][0]              \n",
            "__________________________________________________________________________________________________\n",
            "bn4d_branch2a (BatchNormalizati (None, 14, 14, 256)  1024        res4d_branch2a[0][0]             \n",
            "__________________________________________________________________________________________________\n",
            "activation_32 (Activation)      (None, 14, 14, 256)  0           bn4d_branch2a[0][0]              \n",
            "__________________________________________________________________________________________________\n",
            "res4d_branch2b (Conv2D)         (None, 14, 14, 256)  590080      activation_32[0][0]              \n",
            "__________________________________________________________________________________________________\n",
            "bn4d_branch2b (BatchNormalizati (None, 14, 14, 256)  1024        res4d_branch2b[0][0]             \n",
            "__________________________________________________________________________________________________\n",
            "activation_33 (Activation)      (None, 14, 14, 256)  0           bn4d_branch2b[0][0]              \n",
            "__________________________________________________________________________________________________\n",
            "res4d_branch2c (Conv2D)         (None, 14, 14, 1024) 263168      activation_33[0][0]              \n",
            "__________________________________________________________________________________________________\n",
            "bn4d_branch2c (BatchNormalizati (None, 14, 14, 1024) 4096        res4d_branch2c[0][0]             \n",
            "__________________________________________________________________________________________________\n",
            "add_11 (Add)                    (None, 14, 14, 1024) 0           bn4d_branch2c[0][0]              \n",
            "                                                                 activation_31[0][0]              \n",
            "__________________________________________________________________________________________________\n",
            "activation_34 (Activation)      (None, 14, 14, 1024) 0           add_11[0][0]                     \n",
            "__________________________________________________________________________________________________\n",
            "res4e_branch2a (Conv2D)         (None, 14, 14, 256)  262400      activation_34[0][0]              \n",
            "__________________________________________________________________________________________________\n",
            "bn4e_branch2a (BatchNormalizati (None, 14, 14, 256)  1024        res4e_branch2a[0][0]             \n",
            "__________________________________________________________________________________________________\n",
            "activation_35 (Activation)      (None, 14, 14, 256)  0           bn4e_branch2a[0][0]              \n",
            "__________________________________________________________________________________________________\n",
            "res4e_branch2b (Conv2D)         (None, 14, 14, 256)  590080      activation_35[0][0]              \n",
            "__________________________________________________________________________________________________\n",
            "bn4e_branch2b (BatchNormalizati (None, 14, 14, 256)  1024        res4e_branch2b[0][0]             \n",
            "__________________________________________________________________________________________________\n",
            "activation_36 (Activation)      (None, 14, 14, 256)  0           bn4e_branch2b[0][0]              \n",
            "__________________________________________________________________________________________________\n",
            "res4e_branch2c (Conv2D)         (None, 14, 14, 1024) 263168      activation_36[0][0]              \n",
            "__________________________________________________________________________________________________\n",
            "bn4e_branch2c (BatchNormalizati (None, 14, 14, 1024) 4096        res4e_branch2c[0][0]             \n",
            "__________________________________________________________________________________________________\n",
            "add_12 (Add)                    (None, 14, 14, 1024) 0           bn4e_branch2c[0][0]              \n",
            "                                                                 activation_34[0][0]              \n",
            "__________________________________________________________________________________________________\n",
            "activation_37 (Activation)      (None, 14, 14, 1024) 0           add_12[0][0]                     \n",
            "__________________________________________________________________________________________________\n",
            "res4f_branch2a (Conv2D)         (None, 14, 14, 256)  262400      activation_37[0][0]              \n",
            "__________________________________________________________________________________________________\n",
            "bn4f_branch2a (BatchNormalizati (None, 14, 14, 256)  1024        res4f_branch2a[0][0]             \n",
            "__________________________________________________________________________________________________\n",
            "activation_38 (Activation)      (None, 14, 14, 256)  0           bn4f_branch2a[0][0]              \n",
            "__________________________________________________________________________________________________\n",
            "res4f_branch2b (Conv2D)         (None, 14, 14, 256)  590080      activation_38[0][0]              \n",
            "__________________________________________________________________________________________________\n",
            "bn4f_branch2b (BatchNormalizati (None, 14, 14, 256)  1024        res4f_branch2b[0][0]             \n",
            "__________________________________________________________________________________________________\n",
            "activation_39 (Activation)      (None, 14, 14, 256)  0           bn4f_branch2b[0][0]              \n",
            "__________________________________________________________________________________________________\n",
            "res4f_branch2c (Conv2D)         (None, 14, 14, 1024) 263168      activation_39[0][0]              \n",
            "__________________________________________________________________________________________________\n",
            "bn4f_branch2c (BatchNormalizati (None, 14, 14, 1024) 4096        res4f_branch2c[0][0]             \n",
            "__________________________________________________________________________________________________\n",
            "add_13 (Add)                    (None, 14, 14, 1024) 0           bn4f_branch2c[0][0]              \n",
            "                                                                 activation_37[0][0]              \n",
            "__________________________________________________________________________________________________\n",
            "activation_40 (Activation)      (None, 14, 14, 1024) 0           add_13[0][0]                     \n",
            "__________________________________________________________________________________________________\n",
            "res5a_branch2a (Conv2D)         (None, 7, 7, 512)    524800      activation_40[0][0]              \n",
            "__________________________________________________________________________________________________\n",
            "bn5a_branch2a (BatchNormalizati (None, 7, 7, 512)    2048        res5a_branch2a[0][0]             \n",
            "__________________________________________________________________________________________________\n",
            "activation_41 (Activation)      (None, 7, 7, 512)    0           bn5a_branch2a[0][0]              \n",
            "__________________________________________________________________________________________________\n",
            "res5a_branch2b (Conv2D)         (None, 7, 7, 512)    2359808     activation_41[0][0]              \n",
            "__________________________________________________________________________________________________\n",
            "bn5a_branch2b (BatchNormalizati (None, 7, 7, 512)    2048        res5a_branch2b[0][0]             \n",
            "__________________________________________________________________________________________________\n",
            "activation_42 (Activation)      (None, 7, 7, 512)    0           bn5a_branch2b[0][0]              \n",
            "__________________________________________________________________________________________________\n",
            "res5a_branch2c (Conv2D)         (None, 7, 7, 2048)   1050624     activation_42[0][0]              \n",
            "__________________________________________________________________________________________________\n",
            "res5a_branch1 (Conv2D)          (None, 7, 7, 2048)   2099200     activation_40[0][0]              \n",
            "__________________________________________________________________________________________________\n",
            "bn5a_branch2c (BatchNormalizati (None, 7, 7, 2048)   8192        res5a_branch2c[0][0]             \n",
            "__________________________________________________________________________________________________\n",
            "bn5a_branch1 (BatchNormalizatio (None, 7, 7, 2048)   8192        res5a_branch1[0][0]              \n",
            "__________________________________________________________________________________________________\n",
            "add_14 (Add)                    (None, 7, 7, 2048)   0           bn5a_branch2c[0][0]              \n",
            "                                                                 bn5a_branch1[0][0]               \n",
            "__________________________________________________________________________________________________\n",
            "activation_43 (Activation)      (None, 7, 7, 2048)   0           add_14[0][0]                     \n",
            "__________________________________________________________________________________________________\n",
            "res5b_branch2a (Conv2D)         (None, 7, 7, 512)    1049088     activation_43[0][0]              \n",
            "__________________________________________________________________________________________________\n",
            "bn5b_branch2a (BatchNormalizati (None, 7, 7, 512)    2048        res5b_branch2a[0][0]             \n",
            "__________________________________________________________________________________________________\n",
            "activation_44 (Activation)      (None, 7, 7, 512)    0           bn5b_branch2a[0][0]              \n",
            "__________________________________________________________________________________________________\n",
            "res5b_branch2b (Conv2D)         (None, 7, 7, 512)    2359808     activation_44[0][0]              \n",
            "__________________________________________________________________________________________________\n",
            "bn5b_branch2b (BatchNormalizati (None, 7, 7, 512)    2048        res5b_branch2b[0][0]             \n",
            "__________________________________________________________________________________________________\n",
            "activation_45 (Activation)      (None, 7, 7, 512)    0           bn5b_branch2b[0][0]              \n",
            "__________________________________________________________________________________________________\n",
            "res5b_branch2c (Conv2D)         (None, 7, 7, 2048)   1050624     activation_45[0][0]              \n",
            "__________________________________________________________________________________________________\n",
            "bn5b_branch2c (BatchNormalizati (None, 7, 7, 2048)   8192        res5b_branch2c[0][0]             \n",
            "__________________________________________________________________________________________________\n",
            "add_15 (Add)                    (None, 7, 7, 2048)   0           bn5b_branch2c[0][0]              \n",
            "                                                                 activation_43[0][0]              \n",
            "__________________________________________________________________________________________________\n",
            "activation_46 (Activation)      (None, 7, 7, 2048)   0           add_15[0][0]                     \n",
            "__________________________________________________________________________________________________\n",
            "res5c_branch2a (Conv2D)         (None, 7, 7, 512)    1049088     activation_46[0][0]              \n",
            "__________________________________________________________________________________________________\n",
            "bn5c_branch2a (BatchNormalizati (None, 7, 7, 512)    2048        res5c_branch2a[0][0]             \n",
            "__________________________________________________________________________________________________\n",
            "activation_47 (Activation)      (None, 7, 7, 512)    0           bn5c_branch2a[0][0]              \n",
            "__________________________________________________________________________________________________\n",
            "res5c_branch2b (Conv2D)         (None, 7, 7, 512)    2359808     activation_47[0][0]              \n",
            "__________________________________________________________________________________________________\n",
            "bn5c_branch2b (BatchNormalizati (None, 7, 7, 512)    2048        res5c_branch2b[0][0]             \n",
            "__________________________________________________________________________________________________\n",
            "activation_48 (Activation)      (None, 7, 7, 512)    0           bn5c_branch2b[0][0]              \n",
            "__________________________________________________________________________________________________\n",
            "res5c_branch2c (Conv2D)         (None, 7, 7, 2048)   1050624     activation_48[0][0]              \n",
            "__________________________________________________________________________________________________\n",
            "bn5c_branch2c (BatchNormalizati (None, 7, 7, 2048)   8192        res5c_branch2c[0][0]             \n",
            "__________________________________________________________________________________________________\n",
            "add_16 (Add)                    (None, 7, 7, 2048)   0           bn5c_branch2c[0][0]              \n",
            "                                                                 activation_46[0][0]              \n",
            "__________________________________________________________________________________________________\n",
            "activation_49 (Activation)      (None, 7, 7, 2048)   0           add_16[0][0]                     \n",
            "__________________________________________________________________________________________________\n",
            "avg_pool (GlobalAveragePooling2 (None, 2048)         0           activation_49[0][0]              \n",
            "__________________________________________________________________________________________________\n",
            "dense_1 (Dense)                 (None, 4)            8196        avg_pool[0][0]                   \n",
            "==================================================================================================\n",
            "Total params: 23,595,908\n",
            "Trainable params: 8,196\n",
            "Non-trainable params: 23,587,712\n",
            "__________________________________________________________________________________________________\n"
          ],
          "name": "stdout"
        }
      ]
    },
    {
      "cell_type": "code",
      "metadata": {
        "id": "lchh57cA4QZg",
        "colab_type": "code",
        "colab": {
          "base_uri": "https://localhost:8080/",
          "height": 377
        },
        "outputId": "e87cdba2-10d9-4a5a-f024-6bdd3a45f69a"
      },
      "source": [
        "hist = my_model.fit_generator(train_generator,steps_per_epoch=724//32,epochs=10,\n",
        "                              validation_data=val_generator,validation_steps=81//32)"
      ],
      "execution_count": null,
      "outputs": [
        {
          "output_type": "stream",
          "text": [
            "Epoch 1/10\n",
            "22/22 [==============================] - 16s 743ms/step - loss: 0.8795 - accuracy: 0.6532 - val_loss: 0.3830 - val_accuracy: 0.8750\n",
            "Epoch 2/10\n",
            "22/22 [==============================] - 9s 402ms/step - loss: 0.2817 - accuracy: 0.9133 - val_loss: 0.0508 - val_accuracy: 0.9808\n",
            "Epoch 3/10\n",
            "22/22 [==============================] - 9s 397ms/step - loss: 0.1889 - accuracy: 0.9451 - val_loss: 0.0879 - val_accuracy: 0.9615\n",
            "Epoch 4/10\n",
            "22/22 [==============================] - 9s 403ms/step - loss: 0.1807 - accuracy: 0.9480 - val_loss: 0.0194 - val_accuracy: 0.9688\n",
            "Epoch 5/10\n",
            "22/22 [==============================] - 9s 411ms/step - loss: 0.1535 - accuracy: 0.9610 - val_loss: 0.0642 - val_accuracy: 0.9615\n",
            "Epoch 6/10\n",
            "22/22 [==============================] - 9s 405ms/step - loss: 0.1000 - accuracy: 0.9759 - val_loss: 0.0998 - val_accuracy: 0.9615\n",
            "Epoch 7/10\n",
            "22/22 [==============================] - 9s 401ms/step - loss: 0.0920 - accuracy: 0.9735 - val_loss: 0.0889 - val_accuracy: 0.9531\n",
            "Epoch 8/10\n",
            "22/22 [==============================] - 9s 407ms/step - loss: 0.0967 - accuracy: 0.9682 - val_loss: 0.0075 - val_accuracy: 1.0000\n",
            "Epoch 9/10\n",
            "22/22 [==============================] - 9s 404ms/step - loss: 0.0874 - accuracy: 0.9759 - val_loss: 0.0451 - val_accuracy: 0.9615\n",
            "Epoch 10/10\n",
            "22/22 [==============================] - 9s 397ms/step - loss: 0.0770 - accuracy: 0.9779 - val_loss: 0.0310 - val_accuracy: 1.0000\n"
          ],
          "name": "stdout"
        }
      ]
    },
    {
      "cell_type": "code",
      "metadata": {
        "id": "VHAY0hpK41jL",
        "colab_type": "code",
        "colab": {}
      },
      "source": [
        "y_pred = my_model.predict_generator(val_generator)"
      ],
      "execution_count": null,
      "outputs": []
    },
    {
      "cell_type": "code",
      "metadata": {
        "id": "jbz1Be34W8mz",
        "colab_type": "code",
        "colab": {
          "base_uri": "https://localhost:8080/",
          "height": 34
        },
        "outputId": "18c06908-672a-4096-b2a8-2a23d70f89fa"
      },
      "source": [
        "my_model.evaluate_generator(val_generator)"
      ],
      "execution_count": null,
      "outputs": [
        {
          "output_type": "execute_result",
          "data": {
            "text/plain": [
              "[0.03405066207051277, 1.0]"
            ]
          },
          "metadata": {
            "tags": []
          },
          "execution_count": 50
        }
      ]
    },
    {
      "cell_type": "code",
      "metadata": {
        "id": "OnzjzWcYAWFY",
        "colab_type": "code",
        "colab": {}
      },
      "source": [
        "y_prediction = []\n",
        "for i in range(len(y_pred)):\n",
        "  y_prediction.append(np.argmax(y_pred[i]))"
      ],
      "execution_count": null,
      "outputs": []
    },
    {
      "cell_type": "code",
      "metadata": {
        "id": "H2ZxG3BnApEi",
        "colab_type": "code",
        "colab": {
          "base_uri": "https://localhost:8080/",
          "height": 1000
        },
        "outputId": "7e9c3508-52f5-42a6-e1e6-83bccb59414f"
      },
      "source": [
        "y_prediction"
      ],
      "execution_count": null,
      "outputs": [
        {
          "output_type": "execute_result",
          "data": {
            "text/plain": [
              "[2,\n",
              " 0,\n",
              " 0,\n",
              " 2,\n",
              " 2,\n",
              " 3,\n",
              " 1,\n",
              " 1,\n",
              " 1,\n",
              " 3,\n",
              " 3,\n",
              " 3,\n",
              " 1,\n",
              " 2,\n",
              " 3,\n",
              " 0,\n",
              " 1,\n",
              " 2,\n",
              " 2,\n",
              " 2,\n",
              " 2,\n",
              " 3,\n",
              " 3,\n",
              " 3,\n",
              " 1,\n",
              " 2,\n",
              " 0,\n",
              " 0,\n",
              " 2,\n",
              " 3,\n",
              " 1,\n",
              " 0,\n",
              " 0,\n",
              " 1,\n",
              " 0,\n",
              " 0,\n",
              " 1,\n",
              " 3,\n",
              " 0,\n",
              " 2,\n",
              " 2,\n",
              " 3,\n",
              " 0,\n",
              " 1,\n",
              " 2,\n",
              " 2,\n",
              " 1,\n",
              " 3,\n",
              " 1,\n",
              " 0,\n",
              " 1,\n",
              " 0,\n",
              " 2,\n",
              " 3,\n",
              " 2,\n",
              " 0,\n",
              " 0,\n",
              " 3,\n",
              " 0,\n",
              " 1,\n",
              " 1,\n",
              " 2,\n",
              " 1,\n",
              " 1,\n",
              " 0,\n",
              " 0,\n",
              " 3,\n",
              " 2,\n",
              " 1,\n",
              " 1,\n",
              " 3,\n",
              " 0,\n",
              " 2,\n",
              " 3,\n",
              " 1,\n",
              " 0,\n",
              " 3,\n",
              " 2,\n",
              " 2,\n",
              " 0,\n",
              " 3,\n",
              " 3,\n",
              " 1,\n",
              " 3]"
            ]
          },
          "metadata": {
            "tags": []
          },
          "execution_count": 52
        }
      ]
    },
    {
      "cell_type": "code",
      "metadata": {
        "id": "2eyiqHwAAt3n",
        "colab_type": "code",
        "colab": {}
      },
      "source": [
        ""
      ],
      "execution_count": null,
      "outputs": []
    },
    {
      "cell_type": "markdown",
      "metadata": {
        "id": "m1ou2uGBYLic",
        "colab_type": "text"
      },
      "source": [
        "# Check your Predictions"
      ]
    },
    {
      "cell_type": "code",
      "metadata": {
        "id": "uJokqtrVM6Q9",
        "colab_type": "code",
        "colab": {}
      },
      "source": [
        "def load_all_test_images(category):\n",
        "  X_test = []\n",
        "  all_images = os.listdir(\"val_images/\"+ category)\n",
        "  for i in all_images:\n",
        "    im = image.load_img(\"val_images/\"+category+\"/\"+i, target_size=(224,224))\n",
        "    im = np.array(im)\n",
        "    X_test.append(im)\n",
        "\n",
        "  return np.array(X_test)"
      ],
      "execution_count": null,
      "outputs": []
    },
    {
      "cell_type": "code",
      "metadata": {
        "id": "pilfIS_hd2WN",
        "colab_type": "code",
        "colab": {}
      },
      "source": [
        "X_test = load_all_test_images(\"cats\")"
      ],
      "execution_count": null,
      "outputs": []
    },
    {
      "cell_type": "code",
      "metadata": {
        "id": "kEBNiaejZHOZ",
        "colab_type": "code",
        "colab": {
          "base_uri": "https://localhost:8080/",
          "height": 34
        },
        "outputId": "abfb0fa8-4712-4c10-c74a-ccd4b130d4f4"
      },
      "source": [
        "np.argmax(my_model.predict(X_test), axis = 1)"
      ],
      "execution_count": null,
      "outputs": [
        {
          "output_type": "execute_result",
          "data": {
            "text/plain": [
              "array([0, 0, 0, 0, 0, 0, 0, 0, 0, 0, 0, 0, 0, 0, 0, 0, 0, 0, 0, 0, 0])"
            ]
          },
          "metadata": {
            "tags": []
          },
          "execution_count": 72
        }
      ]
    },
    {
      "cell_type": "code",
      "metadata": {
        "id": "JbFHiBSqZR_P",
        "colab_type": "code",
        "colab": {}
      },
      "source": [
        "X_test = load_all_test_images(\"dogs\")"
      ],
      "execution_count": null,
      "outputs": []
    },
    {
      "cell_type": "code",
      "metadata": {
        "id": "CiNiWjiDZwrq",
        "colab_type": "code",
        "colab": {
          "base_uri": "https://localhost:8080/",
          "height": 34
        },
        "outputId": "d2e791e9-22e5-438c-9710-f9d8d113d79b"
      },
      "source": [
        "np.argmax(my_model.predict(X_test), axis = 1)"
      ],
      "execution_count": null,
      "outputs": [
        {
          "output_type": "execute_result",
          "data": {
            "text/plain": [
              "array([1, 1, 1, 1, 1, 1, 1, 1, 1, 1, 1, 1, 1, 1, 1, 1, 1, 1, 1, 1, 1])"
            ]
          },
          "metadata": {
            "tags": []
          },
          "execution_count": 74
        }
      ]
    },
    {
      "cell_type": "code",
      "metadata": {
        "id": "m27aQlhpZxZp",
        "colab_type": "code",
        "colab": {
          "base_uri": "https://localhost:8080/",
          "height": 34
        },
        "outputId": "d3fe1c14-6aec-4fcc-af3b-7b6804695925"
      },
      "source": [
        "X_test = load_all_test_images(\"horses\")\n",
        "np.argmax(my_model.predict(X_test), axis = 1)"
      ],
      "execution_count": null,
      "outputs": [
        {
          "output_type": "execute_result",
          "data": {
            "text/plain": [
              "array([2, 2, 2, 2, 2, 2, 2, 2, 2, 2, 2, 2, 2, 2, 2, 2, 2, 2, 2, 2, 2])"
            ]
          },
          "metadata": {
            "tags": []
          },
          "execution_count": 75
        }
      ]
    },
    {
      "cell_type": "code",
      "metadata": {
        "id": "zgM4NlonZ102",
        "colab_type": "code",
        "colab": {
          "base_uri": "https://localhost:8080/",
          "height": 34
        },
        "outputId": "af70ae45-7210-4f09-c3a1-3aec3369bf5a"
      },
      "source": [
        "X_test = load_all_test_images(\"humans\")\n",
        "np.argmax(my_model.predict(X_test), axis = 1)"
      ],
      "execution_count": null,
      "outputs": [
        {
          "output_type": "execute_result",
          "data": {
            "text/plain": [
              "array([3, 3, 3, 3, 3, 3, 3, 3, 3, 3, 3, 3, 3, 3, 3, 3, 3, 3, 3, 3, 3])"
            ]
          },
          "metadata": {
            "tags": []
          },
          "execution_count": 76
        }
      ]
    },
    {
      "cell_type": "code",
      "metadata": {
        "id": "45Wcu4abZ215",
        "colab_type": "code",
        "colab": {}
      },
      "source": [
        ""
      ],
      "execution_count": null,
      "outputs": []
    },
    {
      "cell_type": "markdown",
      "metadata": {
        "id": "TG6w3-1ObdU0",
        "colab_type": "text"
      },
      "source": [
        "# Reading Files Methods"
      ]
    },
    {
      "cell_type": "code",
      "metadata": {
        "id": "DP30Jw3Qc56Q",
        "colab_type": "code",
        "colab": {}
      },
      "source": [
        "from keras.preprocessing import image\n",
        "from keras.applications.resnet50 import ResNet50\n",
        "from keras.applications.resnet50 import preprocess_input,decode_predictions\n",
        "from keras.layers import Input, Conv2D, MaxPool2D, Dense, Flatten\n",
        "from keras.models import Model\n",
        "from keras.utils import to_categorical\n",
        "\n",
        "import numpy as np"
      ],
      "execution_count": 52,
      "outputs": []
    },
    {
      "cell_type": "code",
      "metadata": {
        "id": "kxhdrYu3bhdA",
        "colab_type": "code",
        "colab": {}
      },
      "source": [
        "dic = {'cats' : 0, 'dogs': 1, 'horses': 2, 'humans' :3}"
      ],
      "execution_count": 17,
      "outputs": []
    },
    {
      "cell_type": "code",
      "metadata": {
        "id": "8c4HZ5UcbpES",
        "colab_type": "code",
        "colab": {}
      },
      "source": [
        "rev_dic  = {v: k for k, v in dic.items()}"
      ],
      "execution_count": 18,
      "outputs": []
    },
    {
      "cell_type": "code",
      "metadata": {
        "id": "oyK0Rg4NbwmP",
        "colab_type": "code",
        "colab": {
          "base_uri": "https://localhost:8080/",
          "height": 85
        },
        "outputId": "dd4de047-31be-4745-c0b3-52512f716a4e"
      },
      "source": [
        "X = []\n",
        "y = []\n",
        "for folder in os.listdir(\"images/\"):\n",
        "  p = \"images/\"+ folder\n",
        "  all_images = os.listdir(p)\n",
        "  print(p)\n",
        "  for im in all_images:\n",
        "    im = image.load_img(os.path.join(p,im), target_size=(224,224))\n",
        "    im = np.array(im)\n",
        "    im = preprocess_input(im)\n",
        "    X.append(im)\n",
        "    y.append(dic[folder])"
      ],
      "execution_count": 55,
      "outputs": [
        {
          "output_type": "stream",
          "text": [
            "images/dogs\n",
            "images/humans\n",
            "images/cats\n",
            "images/horses\n"
          ],
          "name": "stdout"
        }
      ]
    },
    {
      "cell_type": "code",
      "metadata": {
        "id": "R4N3D9gAcuOB",
        "colab_type": "code",
        "colab": {}
      },
      "source": [
        "X = np.array(X)\n",
        "y = np.array(y)"
      ],
      "execution_count": 56,
      "outputs": []
    },
    {
      "cell_type": "code",
      "metadata": {
        "id": "L85u6PzQc9me",
        "colab_type": "code",
        "colab": {}
      },
      "source": [
        "from sklearn.utils import shuffle"
      ],
      "execution_count": 57,
      "outputs": []
    },
    {
      "cell_type": "code",
      "metadata": {
        "id": "_J7H-ECNc95O",
        "colab_type": "code",
        "colab": {}
      },
      "source": [
        "X, y = shuffle(X, y, random_state = 2)"
      ],
      "execution_count": 58,
      "outputs": []
    },
    {
      "cell_type": "code",
      "metadata": {
        "id": "aAgDbSeXdQMF",
        "colab_type": "code",
        "colab": {
          "base_uri": "https://localhost:8080/",
          "height": 303
        },
        "outputId": "2170ddac-f89b-4913-8393-9835b3034ab6"
      },
      "source": [
        "plt.imshow(X[12].astype('int'))\n",
        "print(y[12])"
      ],
      "execution_count": 63,
      "outputs": [
        {
          "output_type": "stream",
          "text": [
            "Clipping input data to the valid range for imshow with RGB data ([0..1] for floats or [0..255] for integers).\n"
          ],
          "name": "stderr"
        },
        {
          "output_type": "stream",
          "text": [
            "2\n"
          ],
          "name": "stdout"
        },
        {
          "output_type": "display_data",
          "data": {
            "image/png": "[encoded data removed]",
            "text/plain": [
              "<Figure size 432x288 with 1 Axes>"
            ]
          },
          "metadata": {
            "tags": [],
            "needs_background": "light"
          }
        }
      ]
    },
    {
      "cell_type": "code",
      "metadata": {
        "id": "qDx9f2VtdSEY",
        "colab_type": "code",
        "colab": {}
      },
      "source": [
        "from sklearn.model_selection import train_test_split"
      ],
      "execution_count": 64,
      "outputs": []
    },
    {
      "cell_type": "code",
      "metadata": {
        "id": "8yr43t0zdYHx",
        "colab_type": "code",
        "colab": {}
      },
      "source": [
        "X_train, X_test, y_train, y_test = train_test_split(X, y, test_size=0.15, random_state=42)"
      ],
      "execution_count": 65,
      "outputs": []
    },
    {
      "cell_type": "code",
      "metadata": {
        "id": "_TiqmfZ0ekwt",
        "colab_type": "code",
        "colab": {}
      },
      "source": [
        "y_train = to_categorical(y_train)\n",
        "y_test = to_categorical(y_test)"
      ],
      "execution_count": 66,
      "outputs": []
    },
    {
      "cell_type": "code",
      "metadata": {
        "id": "pqpgsg7GdyEC",
        "colab_type": "code",
        "colab": {}
      },
      "source": [
        "resnet = ResNet50(include_top = True,weights = \"imagenet\")"
      ],
      "execution_count": 67,
      "outputs": []
    },
    {
      "cell_type": "code",
      "metadata": {
        "id": "Zmg4N4t4d6aF",
        "colab_type": "code",
        "colab": {}
      },
      "source": [
        "x = resnet.layers[-2].output\n",
        "fc1 = Dense(4,activation = \"softmax\")(x)"
      ],
      "execution_count": 68,
      "outputs": []
    },
    {
      "cell_type": "code",
      "metadata": {
        "id": "zRxZfJvWeItg",
        "colab_type": "code",
        "colab": {}
      },
      "source": [
        "my_model = Model(inputs=resnet.input,outputs = fc1)"
      ],
      "execution_count": 69,
      "outputs": []
    },
    {
      "cell_type": "code",
      "metadata": {
        "id": "_9bLImPveL0o",
        "colab_type": "code",
        "colab": {}
      },
      "source": [
        "# Freezing All Layers\n",
        "for l in my_model.layers[:-2]:\n",
        "    #print(l)\n",
        "    l.trainable = False\n",
        "my_model.compile(optimizer=\"adam\",loss = \"categorical_crossentropy\",metrics=[\"accuracy\"])"
      ],
      "execution_count": 70,
      "outputs": []
    },
    {
      "cell_type": "code",
      "metadata": {
        "id": "YbFkKv3SeQi6",
        "colab_type": "code",
        "colab": {
          "base_uri": "https://localhost:8080/",
          "height": 1000
        },
        "outputId": "cc12ddb4-25f1-4c31-ea9b-59d3baa6815f"
      },
      "source": [
        "my_model.summary()"
      ],
      "execution_count": 71,
      "outputs": [
        {
          "output_type": "stream",
          "text": [
            "Model: \"model_2\"\n",
            "__________________________________________________________________________________________________\n",
            "Layer (type)                    Output Shape         Param #     Connected to                     \n",
            "==================================================================================================\n",
            "input_2 (InputLayer)            (None, 224, 224, 3)  0                                            \n",
            "__________________________________________________________________________________________________\n",
            "conv1_pad (ZeroPadding2D)       (None, 230, 230, 3)  0           input_2[0][0]                    \n",
            "__________________________________________________________________________________________________\n",
            "conv1 (Conv2D)                  (None, 112, 112, 64) 9472        conv1_pad[0][0]                  \n",
            "__________________________________________________________________________________________________\n",
            "bn_conv1 (BatchNormalization)   (None, 112, 112, 64) 256         conv1[0][0]                      \n",
            "__________________________________________________________________________________________________\n",
            "activation_50 (Activation)      (None, 112, 112, 64) 0           bn_conv1[0][0]                   \n",
            "__________________________________________________________________________________________________\n",
            "pool1_pad (ZeroPadding2D)       (None, 114, 114, 64) 0           activation_50[0][0]              \n",
            "__________________________________________________________________________________________________\n",
            "max_pooling2d_2 (MaxPooling2D)  (None, 56, 56, 64)   0           pool1_pad[0][0]                  \n",
            "__________________________________________________________________________________________________\n",
            "res2a_branch2a (Conv2D)         (None, 56, 56, 64)   4160        max_pooling2d_2[0][0]            \n",
            "__________________________________________________________________________________________________\n",
            "bn2a_branch2a (BatchNormalizati (None, 56, 56, 64)   256         res2a_branch2a[0][0]             \n",
            "__________________________________________________________________________________________________\n",
            "activation_51 (Activation)      (None, 56, 56, 64)   0           bn2a_branch2a[0][0]              \n",
            "__________________________________________________________________________________________________\n",
            "res2a_branch2b (Conv2D)         (None, 56, 56, 64)   36928       activation_51[0][0]              \n",
            "__________________________________________________________________________________________________\n",
            "bn2a_branch2b (BatchNormalizati (None, 56, 56, 64)   256         res2a_branch2b[0][0]             \n",
            "__________________________________________________________________________________________________\n",
            "activation_52 (Activation)      (None, 56, 56, 64)   0           bn2a_branch2b[0][0]              \n",
            "__________________________________________________________________________________________________\n",
            "res2a_branch2c (Conv2D)         (None, 56, 56, 256)  16640       activation_52[0][0]              \n",
            "__________________________________________________________________________________________________\n",
            "res2a_branch1 (Conv2D)          (None, 56, 56, 256)  16640       max_pooling2d_2[0][0]            \n",
            "__________________________________________________________________________________________________\n",
            "bn2a_branch2c (BatchNormalizati (None, 56, 56, 256)  1024        res2a_branch2c[0][0]             \n",
            "__________________________________________________________________________________________________\n",
            "bn2a_branch1 (BatchNormalizatio (None, 56, 56, 256)  1024        res2a_branch1[0][0]              \n",
            "__________________________________________________________________________________________________\n",
            "add_17 (Add)                    (None, 56, 56, 256)  0           bn2a_branch2c[0][0]              \n",
            "                                                                 bn2a_branch1[0][0]               \n",
            "__________________________________________________________________________________________________\n",
            "activation_53 (Activation)      (None, 56, 56, 256)  0           add_17[0][0]                     \n",
            "__________________________________________________________________________________________________\n",
            "res2b_branch2a (Conv2D)         (None, 56, 56, 64)   16448       activation_53[0][0]              \n",
            "__________________________________________________________________________________________________\n",
            "bn2b_branch2a (BatchNormalizati (None, 56, 56, 64)   256         res2b_branch2a[0][0]             \n",
            "__________________________________________________________________________________________________\n",
            "activation_54 (Activation)      (None, 56, 56, 64)   0           bn2b_branch2a[0][0]              \n",
            "__________________________________________________________________________________________________\n",
            "res2b_branch2b (Conv2D)         (None, 56, 56, 64)   36928       activation_54[0][0]              \n",
            "__________________________________________________________________________________________________\n",
            "bn2b_branch2b (BatchNormalizati (None, 56, 56, 64)   256         res2b_branch2b[0][0]             \n",
            "__________________________________________________________________________________________________\n",
            "activation_55 (Activation)      (None, 56, 56, 64)   0           bn2b_branch2b[0][0]              \n",
            "__________________________________________________________________________________________________\n",
            "res2b_branch2c (Conv2D)         (None, 56, 56, 256)  16640       activation_55[0][0]              \n",
            "__________________________________________________________________________________________________\n",
            "bn2b_branch2c (BatchNormalizati (None, 56, 56, 256)  1024        res2b_branch2c[0][0]             \n",
            "__________________________________________________________________________________________________\n",
            "add_18 (Add)                    (None, 56, 56, 256)  0           bn2b_branch2c[0][0]              \n",
            "                                                                 activation_53[0][0]              \n",
            "__________________________________________________________________________________________________\n",
            "activation_56 (Activation)      (None, 56, 56, 256)  0           add_18[0][0]                     \n",
            "__________________________________________________________________________________________________\n",
            "res2c_branch2a (Conv2D)         (None, 56, 56, 64)   16448       activation_56[0][0]              \n",
            "__________________________________________________________________________________________________\n",
            "bn2c_branch2a (BatchNormalizati (None, 56, 56, 64)   256         res2c_branch2a[0][0]             \n",
            "__________________________________________________________________________________________________\n",
            "activation_57 (Activation)      (None, 56, 56, 64)   0           bn2c_branch2a[0][0]              \n",
            "__________________________________________________________________________________________________\n",
            "res2c_branch2b (Conv2D)         (None, 56, 56, 64)   36928       activation_57[0][0]              \n",
            "__________________________________________________________________________________________________\n",
            "bn2c_branch2b (BatchNormalizati (None, 56, 56, 64)   256         res2c_branch2b[0][0]             \n",
            "__________________________________________________________________________________________________\n",
            "activation_58 (Activation)      (None, 56, 56, 64)   0           bn2c_branch2b[0][0]              \n",
            "__________________________________________________________________________________________________\n",
            "res2c_branch2c (Conv2D)         (None, 56, 56, 256)  16640       activation_58[0][0]              \n",
            "__________________________________________________________________________________________________\n",
            "bn2c_branch2c (BatchNormalizati (None, 56, 56, 256)  1024        res2c_branch2c[0][0]             \n",
            "__________________________________________________________________________________________________\n",
            "add_19 (Add)                    (None, 56, 56, 256)  0           bn2c_branch2c[0][0]              \n",
            "                                                                 activation_56[0][0]              \n",
            "__________________________________________________________________________________________________\n",
            "activation_59 (Activation)      (None, 56, 56, 256)  0           add_19[0][0]                     \n",
            "__________________________________________________________________________________________________\n",
            "res3a_branch2a (Conv2D)         (None, 28, 28, 128)  32896       activation_59[0][0]              \n",
            "__________________________________________________________________________________________________\n",
            "bn3a_branch2a (BatchNormalizati (None, 28, 28, 128)  512         res3a_branch2a[0][0]             \n",
            "__________________________________________________________________________________________________\n",
            "activation_60 (Activation)      (None, 28, 28, 128)  0           bn3a_branch2a[0][0]              \n",
            "__________________________________________________________________________________________________\n",
            "res3a_branch2b (Conv2D)         (None, 28, 28, 128)  147584      activation_60[0][0]              \n",
            "__________________________________________________________________________________________________\n",
            "bn3a_branch2b (BatchNormalizati (None, 28, 28, 128)  512         res3a_branch2b[0][0]             \n",
            "__________________________________________________________________________________________________\n",
            "activation_61 (Activation)      (None, 28, 28, 128)  0           bn3a_branch2b[0][0]              \n",
            "__________________________________________________________________________________________________\n",
            "res3a_branch2c (Conv2D)         (None, 28, 28, 512)  66048       activation_61[0][0]              \n",
            "__________________________________________________________________________________________________\n",
            "res3a_branch1 (Conv2D)          (None, 28, 28, 512)  131584      activation_59[0][0]              \n",
            "__________________________________________________________________________________________________\n",
            "bn3a_branch2c (BatchNormalizati (None, 28, 28, 512)  2048        res3a_branch2c[0][0]             \n",
            "__________________________________________________________________________________________________\n",
            "bn3a_branch1 (BatchNormalizatio (None, 28, 28, 512)  2048        res3a_branch1[0][0]              \n",
            "__________________________________________________________________________________________________\n",
            "add_20 (Add)                    (None, 28, 28, 512)  0           bn3a_branch2c[0][0]              \n",
            "                                                                 bn3a_branch1[0][0]               \n",
            "__________________________________________________________________________________________________\n",
            "activation_62 (Activation)      (None, 28, 28, 512)  0           add_20[0][0]                     \n",
            "__________________________________________________________________________________________________\n",
            "res3b_branch2a (Conv2D)         (None, 28, 28, 128)  65664       activation_62[0][0]              \n",
            "__________________________________________________________________________________________________\n",
            "bn3b_branch2a (BatchNormalizati (None, 28, 28, 128)  512         res3b_branch2a[0][0]             \n",
            "__________________________________________________________________________________________________\n",
            "activation_63 (Activation)      (None, 28, 28, 128)  0           bn3b_branch2a[0][0]              \n",
            "__________________________________________________________________________________________________\n",
            "res3b_branch2b (Conv2D)         (None, 28, 28, 128)  147584      activation_63[0][0]              \n",
            "__________________________________________________________________________________________________\n",
            "bn3b_branch2b (BatchNormalizati (None, 28, 28, 128)  512         res3b_branch2b[0][0]             \n",
            "__________________________________________________________________________________________________\n",
            "activation_64 (Activation)      (None, 28, 28, 128)  0           bn3b_branch2b[0][0]              \n",
            "__________________________________________________________________________________________________\n",
            "res3b_branch2c (Conv2D)         (None, 28, 28, 512)  66048       activation_64[0][0]              \n",
            "__________________________________________________________________________________________________\n",
            "bn3b_branch2c (BatchNormalizati (None, 28, 28, 512)  2048        res3b_branch2c[0][0]             \n",
            "__________________________________________________________________________________________________\n",
            "add_21 (Add)                    (None, 28, 28, 512)  0           bn3b_branch2c[0][0]              \n",
            "                                                                 activation_62[0][0]              \n",
            "__________________________________________________________________________________________________\n",
            "activation_65 (Activation)      (None, 28, 28, 512)  0           add_21[0][0]                     \n",
            "__________________________________________________________________________________________________\n",
            "res3c_branch2a (Conv2D)         (None, 28, 28, 128)  65664       activation_65[0][0]              \n",
            "__________________________________________________________________________________________________\n",
            "bn3c_branch2a (BatchNormalizati (None, 28, 28, 128)  512         res3c_branch2a[0][0]             \n",
            "__________________________________________________________________________________________________\n",
            "activation_66 (Activation)      (None, 28, 28, 128)  0           bn3c_branch2a[0][0]              \n",
            "__________________________________________________________________________________________________\n",
            "res3c_branch2b (Conv2D)         (None, 28, 28, 128)  147584      activation_66[0][0]              \n",
            "__________________________________________________________________________________________________\n",
            "bn3c_branch2b (BatchNormalizati (None, 28, 28, 128)  512         res3c_branch2b[0][0]             \n",
            "__________________________________________________________________________________________________\n",
            "activation_67 (Activation)      (None, 28, 28, 128)  0           bn3c_branch2b[0][0]              \n",
            "__________________________________________________________________________________________________\n",
            "res3c_branch2c (Conv2D)         (None, 28, 28, 512)  66048       activation_67[0][0]              \n",
            "__________________________________________________________________________________________________\n",
            "bn3c_branch2c (BatchNormalizati (None, 28, 28, 512)  2048        res3c_branch2c[0][0]             \n",
            "__________________________________________________________________________________________________\n",
            "add_22 (Add)                    (None, 28, 28, 512)  0           bn3c_branch2c[0][0]              \n",
            "                                                                 activation_65[0][0]              \n",
            "__________________________________________________________________________________________________\n",
            "activation_68 (Activation)      (None, 28, 28, 512)  0           add_22[0][0]                     \n",
            "__________________________________________________________________________________________________\n",
            "res3d_branch2a (Conv2D)         (None, 28, 28, 128)  65664       activation_68[0][0]              \n",
            "__________________________________________________________________________________________________\n",
            "bn3d_branch2a (BatchNormalizati (None, 28, 28, 128)  512         res3d_branch2a[0][0]             \n",
            "__________________________________________________________________________________________________\n",
            "activation_69 (Activation)      (None, 28, 28, 128)  0           bn3d_branch2a[0][0]              \n",
            "__________________________________________________________________________________________________\n",
            "res3d_branch2b (Conv2D)         (None, 28, 28, 128)  147584      activation_69[0][0]              \n",
            "__________________________________________________________________________________________________\n",
            "bn3d_branch2b (BatchNormalizati (None, 28, 28, 128)  512         res3d_branch2b[0][0]             \n",
            "__________________________________________________________________________________________________\n",
            "activation_70 (Activation)      (None, 28, 28, 128)  0           bn3d_branch2b[0][0]              \n",
            "__________________________________________________________________________________________________\n",
            "res3d_branch2c (Conv2D)         (None, 28, 28, 512)  66048       activation_70[0][0]              \n",
            "__________________________________________________________________________________________________\n",
            "bn3d_branch2c (BatchNormalizati (None, 28, 28, 512)  2048        res3d_branch2c[0][0]             \n",
            "__________________________________________________________________________________________________\n",
            "add_23 (Add)                    (None, 28, 28, 512)  0           bn3d_branch2c[0][0]              \n",
            "                                                                 activation_68[0][0]              \n",
            "__________________________________________________________________________________________________\n",
            "activation_71 (Activation)      (None, 28, 28, 512)  0           add_23[0][0]                     \n",
            "__________________________________________________________________________________________________\n",
            "res4a_branch2a (Conv2D)         (None, 14, 14, 256)  131328      activation_71[0][0]              \n",
            "__________________________________________________________________________________________________\n",
            "bn4a_branch2a (BatchNormalizati (None, 14, 14, 256)  1024        res4a_branch2a[0][0]             \n",
            "__________________________________________________________________________________________________\n",
            "activation_72 (Activation)      (None, 14, 14, 256)  0           bn4a_branch2a[0][0]              \n",
            "__________________________________________________________________________________________________\n",
            "res4a_branch2b (Conv2D)         (None, 14, 14, 256)  590080      activation_72[0][0]              \n",
            "__________________________________________________________________________________________________\n",
            "bn4a_branch2b (BatchNormalizati (None, 14, 14, 256)  1024        res4a_branch2b[0][0]             \n",
            "__________________________________________________________________________________________________\n",
            "activation_73 (Activation)      (None, 14, 14, 256)  0           bn4a_branch2b[0][0]              \n",
            "__________________________________________________________________________________________________\n",
            "res4a_branch2c (Conv2D)         (None, 14, 14, 1024) 263168      activation_73[0][0]              \n",
            "__________________________________________________________________________________________________\n",
            "res4a_branch1 (Conv2D)          (None, 14, 14, 1024) 525312      activation_71[0][0]              \n",
            "__________________________________________________________________________________________________\n",
            "bn4a_branch2c (BatchNormalizati (None, 14, 14, 1024) 4096        res4a_branch2c[0][0]             \n",
            "__________________________________________________________________________________________________\n",
            "bn4a_branch1 (BatchNormalizatio (None, 14, 14, 1024) 4096        res4a_branch1[0][0]              \n",
            "__________________________________________________________________________________________________\n",
            "add_24 (Add)                    (None, 14, 14, 1024) 0           bn4a_branch2c[0][0]              \n",
            "                                                                 bn4a_branch1[0][0]               \n",
            "__________________________________________________________________________________________________\n",
            "activation_74 (Activation)      (None, 14, 14, 1024) 0           add_24[0][0]                     \n",
            "__________________________________________________________________________________________________\n",
            "res4b_branch2a (Conv2D)         (None, 14, 14, 256)  262400      activation_74[0][0]              \n",
            "__________________________________________________________________________________________________\n",
            "bn4b_branch2a (BatchNormalizati (None, 14, 14, 256)  1024        res4b_branch2a[0][0]             \n",
            "__________________________________________________________________________________________________\n",
            "activation_75 (Activation)      (None, 14, 14, 256)  0           bn4b_branch2a[0][0]              \n",
            "__________________________________________________________________________________________________\n",
            "res4b_branch2b (Conv2D)         (None, 14, 14, 256)  590080      activation_75[0][0]              \n",
            "__________________________________________________________________________________________________\n",
            "bn4b_branch2b (BatchNormalizati (None, 14, 14, 256)  1024        res4b_branch2b[0][0]             \n",
            "__________________________________________________________________________________________________\n",
            "activation_76 (Activation)      (None, 14, 14, 256)  0           bn4b_branch2b[0][0]              \n",
            "__________________________________________________________________________________________________\n",
            "res4b_branch2c (Conv2D)         (None, 14, 14, 1024) 263168      activation_76[0][0]              \n",
            "__________________________________________________________________________________________________\n",
            "bn4b_branch2c (BatchNormalizati (None, 14, 14, 1024) 4096        res4b_branch2c[0][0]             \n",
            "__________________________________________________________________________________________________\n",
            "add_25 (Add)                    (None, 14, 14, 1024) 0           bn4b_branch2c[0][0]              \n",
            "                                                                 activation_74[0][0]              \n",
            "__________________________________________________________________________________________________\n",
            "activation_77 (Activation)      (None, 14, 14, 1024) 0           add_25[0][0]                     \n",
            "__________________________________________________________________________________________________\n",
            "res4c_branch2a (Conv2D)         (None, 14, 14, 256)  262400      activation_77[0][0]              \n",
            "__________________________________________________________________________________________________\n",
            "bn4c_branch2a (BatchNormalizati (None, 14, 14, 256)  1024        res4c_branch2a[0][0]             \n",
            "__________________________________________________________________________________________________\n",
            "activation_78 (Activation)      (None, 14, 14, 256)  0           bn4c_branch2a[0][0]              \n",
            "__________________________________________________________________________________________________\n",
            "res4c_branch2b (Conv2D)         (None, 14, 14, 256)  590080      activation_78[0][0]              \n",
            "__________________________________________________________________________________________________\n",
            "bn4c_branch2b (BatchNormalizati (None, 14, 14, 256)  1024        res4c_branch2b[0][0]             \n",
            "__________________________________________________________________________________________________\n",
            "activation_79 (Activation)      (None, 14, 14, 256)  0           bn4c_branch2b[0][0]              \n",
            "__________________________________________________________________________________________________\n",
            "res4c_branch2c (Conv2D)         (None, 14, 14, 1024) 263168      activation_79[0][0]              \n",
            "__________________________________________________________________________________________________\n",
            "bn4c_branch2c (BatchNormalizati (None, 14, 14, 1024) 4096        res4c_branch2c[0][0]             \n",
            "__________________________________________________________________________________________________\n",
            "add_26 (Add)                    (None, 14, 14, 1024) 0           bn4c_branch2c[0][0]              \n",
            "                                                                 activation_77[0][0]              \n",
            "__________________________________________________________________________________________________\n",
            "activation_80 (Activation)      (None, 14, 14, 1024) 0           add_26[0][0]                     \n",
            "__________________________________________________________________________________________________\n",
            "res4d_branch2a (Conv2D)         (None, 14, 14, 256)  262400      activation_80[0][0]              \n",
            "__________________________________________________________________________________________________\n",
            "bn4d_branch2a (BatchNormalizati (None, 14, 14, 256)  1024        res4d_branch2a[0][0]             \n",
            "__________________________________________________________________________________________________\n",
            "activation_81 (Activation)      (None, 14, 14, 256)  0           bn4d_branch2a[0][0]              \n",
            "__________________________________________________________________________________________________\n",
            "res4d_branch2b (Conv2D)         (None, 14, 14, 256)  590080      activation_81[0][0]              \n",
            "__________________________________________________________________________________________________\n",
            "bn4d_branch2b (BatchNormalizati (None, 14, 14, 256)  1024        res4d_branch2b[0][0]             \n",
            "__________________________________________________________________________________________________\n",
            "activation_82 (Activation)      (None, 14, 14, 256)  0           bn4d_branch2b[0][0]              \n",
            "__________________________________________________________________________________________________\n",
            "res4d_branch2c (Conv2D)         (None, 14, 14, 1024) 263168      activation_82[0][0]              \n",
            "__________________________________________________________________________________________________\n",
            "bn4d_branch2c (BatchNormalizati (None, 14, 14, 1024) 4096        res4d_branch2c[0][0]             \n",
            "__________________________________________________________________________________________________\n",
            "add_27 (Add)                    (None, 14, 14, 1024) 0           bn4d_branch2c[0][0]              \n",
            "                                                                 activation_80[0][0]              \n",
            "__________________________________________________________________________________________________\n",
            "activation_83 (Activation)      (None, 14, 14, 1024) 0           add_27[0][0]                     \n",
            "__________________________________________________________________________________________________\n",
            "res4e_branch2a (Conv2D)         (None, 14, 14, 256)  262400      activation_83[0][0]              \n",
            "__________________________________________________________________________________________________\n",
            "bn4e_branch2a (BatchNormalizati (None, 14, 14, 256)  1024        res4e_branch2a[0][0]             \n",
            "__________________________________________________________________________________________________\n",
            "activation_84 (Activation)      (None, 14, 14, 256)  0           bn4e_branch2a[0][0]              \n",
            "__________________________________________________________________________________________________\n",
            "res4e_branch2b (Conv2D)         (None, 14, 14, 256)  590080      activation_84[0][0]              \n",
            "__________________________________________________________________________________________________\n",
            "bn4e_branch2b (BatchNormalizati (None, 14, 14, 256)  1024        res4e_branch2b[0][0]             \n",
            "__________________________________________________________________________________________________\n",
            "activation_85 (Activation)      (None, 14, 14, 256)  0           bn4e_branch2b[0][0]              \n",
            "__________________________________________________________________________________________________\n",
            "res4e_branch2c (Conv2D)         (None, 14, 14, 1024) 263168      activation_85[0][0]              \n",
            "__________________________________________________________________________________________________\n",
            "bn4e_branch2c (BatchNormalizati (None, 14, 14, 1024) 4096        res4e_branch2c[0][0]             \n",
            "__________________________________________________________________________________________________\n",
            "add_28 (Add)                    (None, 14, 14, 1024) 0           bn4e_branch2c[0][0]              \n",
            "                                                                 activation_83[0][0]              \n",
            "__________________________________________________________________________________________________\n",
            "activation_86 (Activation)      (None, 14, 14, 1024) 0           add_28[0][0]                     \n",
            "__________________________________________________________________________________________________\n",
            "res4f_branch2a (Conv2D)         (None, 14, 14, 256)  262400      activation_86[0][0]              \n",
            "__________________________________________________________________________________________________\n",
            "bn4f_branch2a (BatchNormalizati (None, 14, 14, 256)  1024        res4f_branch2a[0][0]             \n",
            "__________________________________________________________________________________________________\n",
            "activation_87 (Activation)      (None, 14, 14, 256)  0           bn4f_branch2a[0][0]              \n",
            "__________________________________________________________________________________________________\n",
            "res4f_branch2b (Conv2D)         (None, 14, 14, 256)  590080      activation_87[0][0]              \n",
            "__________________________________________________________________________________________________\n",
            "bn4f_branch2b (BatchNormalizati (None, 14, 14, 256)  1024        res4f_branch2b[0][0]             \n",
            "__________________________________________________________________________________________________\n",
            "activation_88 (Activation)      (None, 14, 14, 256)  0           bn4f_branch2b[0][0]              \n",
            "__________________________________________________________________________________________________\n",
            "res4f_branch2c (Conv2D)         (None, 14, 14, 1024) 263168      activation_88[0][0]              \n",
            "__________________________________________________________________________________________________\n",
            "bn4f_branch2c (BatchNormalizati (None, 14, 14, 1024) 4096        res4f_branch2c[0][0]             \n",
            "__________________________________________________________________________________________________\n",
            "add_29 (Add)                    (None, 14, 14, 1024) 0           bn4f_branch2c[0][0]              \n",
            "                                                                 activation_86[0][0]              \n",
            "__________________________________________________________________________________________________\n",
            "activation_89 (Activation)      (None, 14, 14, 1024) 0           add_29[0][0]                     \n",
            "__________________________________________________________________________________________________\n",
            "res5a_branch2a (Conv2D)         (None, 7, 7, 512)    524800      activation_89[0][0]              \n",
            "__________________________________________________________________________________________________\n",
            "bn5a_branch2a (BatchNormalizati (None, 7, 7, 512)    2048        res5a_branch2a[0][0]             \n",
            "__________________________________________________________________________________________________\n",
            "activation_90 (Activation)      (None, 7, 7, 512)    0           bn5a_branch2a[0][0]              \n",
            "__________________________________________________________________________________________________\n",
            "res5a_branch2b (Conv2D)         (None, 7, 7, 512)    2359808     activation_90[0][0]              \n",
            "__________________________________________________________________________________________________\n",
            "bn5a_branch2b (BatchNormalizati (None, 7, 7, 512)    2048        res5a_branch2b[0][0]             \n",
            "__________________________________________________________________________________________________\n",
            "activation_91 (Activation)      (None, 7, 7, 512)    0           bn5a_branch2b[0][0]              \n",
            "__________________________________________________________________________________________________\n",
            "res5a_branch2c (Conv2D)         (None, 7, 7, 2048)   1050624     activation_91[0][0]              \n",
            "__________________________________________________________________________________________________\n",
            "res5a_branch1 (Conv2D)          (None, 7, 7, 2048)   2099200     activation_89[0][0]              \n",
            "__________________________________________________________________________________________________\n",
            "bn5a_branch2c (BatchNormalizati (None, 7, 7, 2048)   8192        res5a_branch2c[0][0]             \n",
            "__________________________________________________________________________________________________\n",
            "bn5a_branch1 (BatchNormalizatio (None, 7, 7, 2048)   8192        res5a_branch1[0][0]              \n",
            "__________________________________________________________________________________________________\n",
            "add_30 (Add)                    (None, 7, 7, 2048)   0           bn5a_branch2c[0][0]              \n",
            "                                                                 bn5a_branch1[0][0]               \n",
            "__________________________________________________________________________________________________\n",
            "activation_92 (Activation)      (None, 7, 7, 2048)   0           add_30[0][0]                     \n",
            "__________________________________________________________________________________________________\n",
            "res5b_branch2a (Conv2D)         (None, 7, 7, 512)    1049088     activation_92[0][0]              \n",
            "__________________________________________________________________________________________________\n",
            "bn5b_branch2a (BatchNormalizati (None, 7, 7, 512)    2048        res5b_branch2a[0][0]             \n",
            "__________________________________________________________________________________________________\n",
            "activation_93 (Activation)      (None, 7, 7, 512)    0           bn5b_branch2a[0][0]              \n",
            "__________________________________________________________________________________________________\n",
            "res5b_branch2b (Conv2D)         (None, 7, 7, 512)    2359808     activation_93[0][0]              \n",
            "__________________________________________________________________________________________________\n",
            "bn5b_branch2b (BatchNormalizati (None, 7, 7, 512)    2048        res5b_branch2b[0][0]             \n",
            "__________________________________________________________________________________________________\n",
            "activation_94 (Activation)      (None, 7, 7, 512)    0           bn5b_branch2b[0][0]              \n",
            "__________________________________________________________________________________________________\n",
            "res5b_branch2c (Conv2D)         (None, 7, 7, 2048)   1050624     activation_94[0][0]              \n",
            "__________________________________________________________________________________________________\n",
            "bn5b_branch2c (BatchNormalizati (None, 7, 7, 2048)   8192        res5b_branch2c[0][0]             \n",
            "__________________________________________________________________________________________________\n",
            "add_31 (Add)                    (None, 7, 7, 2048)   0           bn5b_branch2c[0][0]              \n",
            "                                                                 activation_92[0][0]              \n",
            "__________________________________________________________________________________________________\n",
            "activation_95 (Activation)      (None, 7, 7, 2048)   0           add_31[0][0]                     \n",
            "__________________________________________________________________________________________________\n",
            "res5c_branch2a (Conv2D)         (None, 7, 7, 512)    1049088     activation_95[0][0]              \n",
            "__________________________________________________________________________________________________\n",
            "bn5c_branch2a (BatchNormalizati (None, 7, 7, 512)    2048        res5c_branch2a[0][0]             \n",
            "__________________________________________________________________________________________________\n",
            "activation_96 (Activation)      (None, 7, 7, 512)    0           bn5c_branch2a[0][0]              \n",
            "__________________________________________________________________________________________________\n",
            "res5c_branch2b (Conv2D)         (None, 7, 7, 512)    2359808     activation_96[0][0]              \n",
            "__________________________________________________________________________________________________\n",
            "bn5c_branch2b (BatchNormalizati (None, 7, 7, 512)    2048        res5c_branch2b[0][0]             \n",
            "__________________________________________________________________________________________________\n",
            "activation_97 (Activation)      (None, 7, 7, 512)    0           bn5c_branch2b[0][0]              \n",
            "__________________________________________________________________________________________________\n",
            "res5c_branch2c (Conv2D)         (None, 7, 7, 2048)   1050624     activation_97[0][0]              \n",
            "__________________________________________________________________________________________________\n",
            "bn5c_branch2c (BatchNormalizati (None, 7, 7, 2048)   8192        res5c_branch2c[0][0]             \n",
            "__________________________________________________________________________________________________\n",
            "add_32 (Add)                    (None, 7, 7, 2048)   0           bn5c_branch2c[0][0]              \n",
            "                                                                 activation_95[0][0]              \n",
            "__________________________________________________________________________________________________\n",
            "activation_98 (Activation)      (None, 7, 7, 2048)   0           add_32[0][0]                     \n",
            "__________________________________________________________________________________________________\n",
            "avg_pool (GlobalAveragePooling2 (None, 2048)         0           activation_98[0][0]              \n",
            "__________________________________________________________________________________________________\n",
            "dense_2 (Dense)                 (None, 4)            8196        avg_pool[0][0]                   \n",
            "==================================================================================================\n",
            "Total params: 23,595,908\n",
            "Trainable params: 8,196\n",
            "Non-trainable params: 23,587,712\n",
            "__________________________________________________________________________________________________\n"
          ],
          "name": "stdout"
        }
      ]
    },
    {
      "cell_type": "code",
      "metadata": {
        "id": "4JlCg-t8eRZW",
        "colab_type": "code",
        "colab": {
          "base_uri": "https://localhost:8080/",
          "height": 374
        },
        "outputId": "871be0e2-2d2e-48f2-fbd6-fed2a1093a63"
      },
      "source": [
        "hist = my_model.fit(X_train, y_train, batch_size=32, epochs=10, validation_split=0.1, shuffle = True)"
      ],
      "execution_count": 72,
      "outputs": [
        {
          "output_type": "stream",
          "text": [
            "Train on 617 samples, validate on 69 samples\n",
            "Epoch 1/10\n",
            "617/617 [==============================] - 10s 15ms/step - loss: 0.7427 - accuracy: 0.7212 - val_loss: 0.1941 - val_accuracy: 0.9130\n",
            "Epoch 2/10\n",
            "617/617 [==============================] - 7s 11ms/step - loss: 0.1550 - accuracy: 0.9514 - val_loss: 0.1088 - val_accuracy: 0.9420\n",
            "Epoch 3/10\n",
            "617/617 [==============================] - 7s 11ms/step - loss: 0.0822 - accuracy: 0.9838 - val_loss: 0.0824 - val_accuracy: 0.9565\n",
            "Epoch 4/10\n",
            "617/617 [==============================] - 7s 11ms/step - loss: 0.0461 - accuracy: 0.9951 - val_loss: 0.0698 - val_accuracy: 0.9565\n",
            "Epoch 5/10\n",
            "617/617 [==============================] - 7s 11ms/step - loss: 0.0462 - accuracy: 0.9903 - val_loss: 0.0717 - val_accuracy: 0.9565\n",
            "Epoch 6/10\n",
            "617/617 [==============================] - 7s 11ms/step - loss: 0.0342 - accuracy: 0.9951 - val_loss: 0.0535 - val_accuracy: 0.9710\n",
            "Epoch 7/10\n",
            "617/617 [==============================] - 7s 11ms/step - loss: 0.0371 - accuracy: 0.9935 - val_loss: 0.0547 - val_accuracy: 0.9855\n",
            "Epoch 8/10\n",
            "617/617 [==============================] - 7s 11ms/step - loss: 0.0290 - accuracy: 0.9984 - val_loss: 0.0572 - val_accuracy: 0.9710\n",
            "Epoch 9/10\n",
            "617/617 [==============================] - 7s 11ms/step - loss: 0.0228 - accuracy: 1.0000 - val_loss: 0.0476 - val_accuracy: 0.9855\n",
            "Epoch 10/10\n",
            "617/617 [==============================] - 7s 11ms/step - loss: 0.0180 - accuracy: 0.9984 - val_loss: 0.0468 - val_accuracy: 0.9855\n"
          ],
          "name": "stdout"
        }
      ]
    },
    {
      "cell_type": "code",
      "metadata": {
        "id": "-Fo6j033eW2u",
        "colab_type": "code",
        "colab": {
          "base_uri": "https://localhost:8080/",
          "height": 51
        },
        "outputId": "e6e5861b-0294-4adc-cbdb-3c9d48ea1321"
      },
      "source": [
        "my_model.evaluate(X_test, y_test)"
      ],
      "execution_count": 75,
      "outputs": [
        {
          "output_type": "stream",
          "text": [
            "122/122 [==============================] - 1s 11ms/step\n"
          ],
          "name": "stdout"
        },
        {
          "output_type": "execute_result",
          "data": {
            "text/plain": [
              "[0.05878207362333282, 0.9672130942344666]"
            ]
          },
          "metadata": {
            "tags": []
          },
          "execution_count": 75
        }
      ]
    },
    {
      "cell_type": "code",
      "metadata": {
        "id": "DMfmy06kf_Ew",
        "colab_type": "code",
        "colab": {}
      },
      "source": [
        ""
      ],
      "execution_count": 76,
      "outputs": []
    },
    {
      "cell_type": "code",
      "metadata": {
        "id": "Ejhq1ey9gJfO",
        "colab_type": "code",
        "colab": {}
      },
      "source": [
        "y_pred = np.argmax(my_model.predict(X_test), axis=1)"
      ],
      "execution_count": 79,
      "outputs": []
    },
    {
      "cell_type": "code",
      "metadata": {
        "id": "PvfDckNKgiAX",
        "colab_type": "code",
        "colab": {
          "base_uri": "https://localhost:8080/",
          "height": 34
        },
        "outputId": "596d7616-913b-4cb8-80c5-5106bdc15d75"
      },
      "source": [
        "(np.argmax(y_test, axis=1) == y_pred).sum()/y_pred.shape[0]"
      ],
      "execution_count": 94,
      "outputs": [
        {
          "output_type": "execute_result",
          "data": {
            "text/plain": [
              "0.9672131147540983"
            ]
          },
          "metadata": {
            "tags": []
          },
          "execution_count": 94
        }
      ]
    },
    {
      "cell_type": "code",
      "metadata": {
        "id": "akVcoZJ5gqxj",
        "colab_type": "code",
        "colab": {}
      },
      "source": [
        ""
      ],
      "execution_count": 93,
      "outputs": []
    },
    {
      "cell_type": "code",
      "metadata": {
        "id": "tPr2C12ChEMe",
        "colab_type": "code",
        "colab": {}
      },
      "source": [
        ""
      ],
      "execution_count": null,
      "outputs": []
    }
  ]
}